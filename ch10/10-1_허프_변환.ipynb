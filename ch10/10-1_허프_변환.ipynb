{
 "cells": [
  {
   "cell_type": "markdown",
   "metadata": {},
   "source": [
    "### 10.1 허프 변환\n",
    "\n",
    "허프 변환 : 대표적인 직선 검출 방법, 데이터 손실 및 외곡이 발생한 영상에서 직선을 검출\n",
    "\n",
    "##### 10.1.2 허프 변환의 전체 과정\n",
    "1. 극좌표계에서 누적 행렬 구성\n",
    "2. 영상 화소의 직선 검사\n",
    "3. 직선 좌표에 대한 극좌표 누적 행렬 구성\n",
    "4. 누적 행렬의 지역 최댓값 선정\n",
    "5. 직선 선별 - 임계값 이상인 누적값 선택 및 정렬\n"
   ]
  },
  {
   "cell_type": "code",
   "execution_count": 1,
   "metadata": {},
   "outputs": [],
   "source": [
    "# 직선 좌표들에 대해 극 좌표계로 변환하여 인덱스 구성\n",
    "def accumulate(image, rho, theta):\n",
    "    h, w = image.shape[:2]\n",
    "    rows, cols = (h+w) * 2 // rho, int(np.pi / theta) # 누적행렬 너비, 높이\n",
    "    accumulate = np.zeros((rows, cols), np.int32) # 직선 누적 행렬\n",
    "\n",
    "    sin_cos = [(np.sin(t*theta), np.cos(t*theta)) for t in range(cols)]\n",
    "    pts = np.where(image > 0)\n",
    "\n",
    "    polars = np.dot(sin_cos, pts).T\n",
    "\n",
    "    for row in polars:\n",
    "        for t, r in enumerate(row):\n",
    "            accumulate[r, t] += 1\n",
    "    return accumulate\n",
    "\n"
   ]
  },
  {
   "cell_type": "markdown",
   "metadata": {},
   "source": [
    "##### 10.1.4 누적 행렬의 지역 최댓값 선정\n",
    "누적 행렬을 작은 블록으로 나눠, 각 블록에서 큰 값(지역 최대 값)만 보존하고 나머지를 제거\n"
   ]
  },
  {
   "cell_type": "code",
   "execution_count": 2,
   "metadata": {},
   "outputs": [],
   "source": [
    "def masking(accumulate, h, w, thresh):\n",
    "    rows, cols = accumulate.shape[:2]\n",
    "    rcenter, tcenter = h//2, w//2\n",
    "    dst = np.zeros(accumulate.shape, np.uint32)\n",
    "\n",
    "    for y in range(0, rows, h):\n",
    "        for x in range(0, cols, w):\n",
    "            roi = accumulate[y:y+h, x:x+w]\n",
    "            _, max, _, (x0, y0) = cv2.minMaxLoc(roi)\n",
    "            dst[y+y0, x+x0] = max\n",
    "    return dst"
   ]
  },
  {
   "cell_type": "markdown",
   "metadata": {},
   "source": [
    "##### 10.1.5 직선(극 좌표) 선택 및 정렬\n",
    "중복이 제거된 누적 행렬원소에서 임계값 보다 큰 값을 선별하여 별도로 저장"
   ]
  },
  {
   "cell_type": "code",
   "execution_count": 3,
   "metadata": {},
   "outputs": [],
   "source": [
    "def select_lines(acc_dst, rho, theta, thresh):\n",
    "    rows = acc_dst.shape[0]\n",
    "    r, t = np.where(acc_dst > thresh)\n",
    "\n",
    "    rhos = ((r - (rows / 2)) * rho)\n",
    "    radians = t * theta\n",
    "    values = acc_dst[r, t]\n",
    "\n",
    "    idx = np.argsort(values)[::-1]\n",
    "    lines = np.transpose([rhos, radians])\n",
    "\n",
    "    return np.expand_dims(lines, axis=1)\n"
   ]
  },
  {
   "cell_type": "code",
   "execution_count": 1,
   "metadata": {},
   "outputs": [
    {
     "data": {
      "text/plain": [
       "-1"
      ]
     },
     "execution_count": 1,
     "metadata": {},
     "output_type": "execute_result"
    }
   ],
   "source": [
    "# 10.1.1 허프 변환을 이용한 직선 검출\n",
    "import numpy as np, cv2, math\n",
    "from Common.hough import accumulate, masking, select_lines\n",
    "\n",
    "def hough_lines(src, rho, theta, thresh):\n",
    "    acc_mat = accumulate(src, rho, theta)\n",
    "    acc_dst = masking(acc_mat, 7, 3, thresh)\n",
    "    lines = select_lines(acc_dst, 7, 3, thresh)\n",
    "    return lines\n",
    "\n",
    "def draw_hough_lines(src, lines, nline):\n",
    "    dst = cv2.cvtColor(src, cv2.COLOR_GRAY2BGR)\n",
    "    min_length = min(len(lines), nline)\n",
    "\n",
    "    for i in range(min_length):\n",
    "        rho, radian = lines[i, 0, 0:2]\n",
    "        a, b = math.cos(radian), math.sin(radian)\n",
    "        pt = (a * rho, b * rho)\n",
    "        delta = (-1000 * b, 1000 * a)\n",
    "        pt1 = np.add(pt, delta).astype('int')\n",
    "        pt2 = np.subtract(pt, delta).astype('int')\n",
    "        cv2.line(dst, tuple(pt1), tuple(pt2), (0, 255, 0), 2, cv2.LINE_AA)\n",
    "\n",
    "    return dst\n",
    "\n",
    "image = cv2.imread(\"images_10/test.jpg\", cv2.IMREAD_GRAYSCALE)\n",
    "if image is None: raise Exception(\"영상 파일 읽기 오류\")\n",
    "\n",
    "blur = cv2.GaussianBlur(image, (5, 5), 2, 2)\n",
    "canny = cv2.Canny(blur, 100, 200, 5)\n",
    "\n",
    "rho, theta = 1, np.pi / 180\n",
    "lines1 = hough_lines(canny, rho, theta, 80)\n",
    "lines2 = cv2.HoughLines(canny, rho, theta, 80)\n",
    "dst1 = draw_hough_lines(canny, lines1, 7)\n",
    "dst2 = draw_hough_lines(canny, lines2, 7)\n",
    "\n",
    "cv2.imshow('image', image)\n",
    "cv2.imshow('canny', canny)\n",
    "cv2.imshow('detected lines', dst1)\n",
    "cv2.imshow('cv detected lines', dst2)\n",
    "cv2.waitKey(0)\n"
   ]
  },
  {
   "cell_type": "code",
   "execution_count": 1,
   "metadata": {},
   "outputs": [
    {
     "ename": "TypeError",
     "evalue": "object of type 'NoneType' has no len()",
     "output_type": "error",
     "traceback": [
      "\u001b[1;31m---------------------------------------------------------------------------\u001b[0m",
      "\u001b[1;31mTypeError\u001b[0m                                 Traceback (most recent call last)",
      "\u001b[1;32m~\\AppData\\Local\\Temp/ipykernel_3264/466162356.py\u001b[0m in \u001b[0;36m<module>\u001b[1;34m\u001b[0m\n\u001b[0;32m     34\u001b[0m \u001b[1;33m\u001b[0m\u001b[0m\n\u001b[0;32m     35\u001b[0m \u001b[0mcv2\u001b[0m\u001b[1;33m.\u001b[0m\u001b[0mrectangle\u001b[0m\u001b[1;33m(\u001b[0m\u001b[0mmorph\u001b[0m\u001b[1;33m,\u001b[0m \u001b[1;33m(\u001b[0m\u001b[0mx\u001b[0m\u001b[1;33m,\u001b[0m \u001b[0my\u001b[0m\u001b[1;33m,\u001b[0m \u001b[0mw\u001b[0m\u001b[1;33m,\u001b[0m \u001b[0mh\u001b[0m\u001b[1;33m)\u001b[0m\u001b[1;33m,\u001b[0m \u001b[1;36m100\u001b[0m\u001b[1;33m,\u001b[0m \u001b[1;36m2\u001b[0m\u001b[1;33m)\u001b[0m\u001b[1;33m\u001b[0m\u001b[1;33m\u001b[0m\u001b[0m\n\u001b[1;32m---> 36\u001b[1;33m \u001b[0mcanny_line\u001b[0m \u001b[1;33m=\u001b[0m \u001b[0mdraw_hough_lines\u001b[0m\u001b[1;33m(\u001b[0m\u001b[0mcanny\u001b[0m\u001b[1;33m,\u001b[0m \u001b[0mlines\u001b[0m\u001b[1;33m,\u001b[0m \u001b[1;36m1\u001b[0m\u001b[1;33m)\u001b[0m\u001b[1;33m\u001b[0m\u001b[1;33m\u001b[0m\u001b[0m\n\u001b[0m\u001b[0;32m     37\u001b[0m \u001b[0mangle\u001b[0m \u001b[1;33m=\u001b[0m \u001b[1;33m(\u001b[0m\u001b[0mnp\u001b[0m\u001b[1;33m.\u001b[0m\u001b[0mpi\u001b[0m \u001b[1;33m-\u001b[0m \u001b[0mlines\u001b[0m\u001b[1;33m[\u001b[0m\u001b[1;36m0\u001b[0m\u001b[1;33m,\u001b[0m \u001b[1;36m0\u001b[0m\u001b[1;33m,\u001b[0m \u001b[1;36m1\u001b[0m\u001b[1;33m]\u001b[0m\u001b[1;33m)\u001b[0m \u001b[1;33m*\u001b[0m \u001b[1;36m180\u001b[0m \u001b[1;33m/\u001b[0m \u001b[0mnp\u001b[0m\u001b[1;33m.\u001b[0m\u001b[0mpi\u001b[0m\u001b[1;33m\u001b[0m\u001b[1;33m\u001b[0m\u001b[0m\n\u001b[0;32m     38\u001b[0m \u001b[0mh\u001b[0m\u001b[1;33m,\u001b[0m \u001b[0mw\u001b[0m \u001b[1;33m=\u001b[0m \u001b[0mimage\u001b[0m\u001b[1;33m.\u001b[0m\u001b[0mshape\u001b[0m\u001b[1;33m[\u001b[0m\u001b[1;33m:\u001b[0m\u001b[1;36m2\u001b[0m\u001b[1;33m]\u001b[0m\u001b[1;33m\u001b[0m\u001b[1;33m\u001b[0m\u001b[0m\n",
      "\u001b[1;32md:\\git\\image-processing\\ch10\\Common\\hough.py\u001b[0m in \u001b[0;36mdraw_hough_lines\u001b[1;34m(src, lines, nline)\u001b[0m\n\u001b[0;32m     51\u001b[0m     \u001b[1;31m# dst = cv2.cvtColor(src, cv2.COLOR_GRAY2BGR)\u001b[0m\u001b[1;33m\u001b[0m\u001b[1;33m\u001b[0m\u001b[1;33m\u001b[0m\u001b[0m\n\u001b[0;32m     52\u001b[0m     \u001b[0mdst\u001b[0m \u001b[1;33m=\u001b[0m \u001b[0msrc\u001b[0m\u001b[1;33m\u001b[0m\u001b[1;33m\u001b[0m\u001b[0m\n\u001b[1;32m---> 53\u001b[1;33m     \u001b[0mmin_length\u001b[0m \u001b[1;33m=\u001b[0m \u001b[0mmin\u001b[0m\u001b[1;33m(\u001b[0m\u001b[0mlen\u001b[0m\u001b[1;33m(\u001b[0m\u001b[0mlines\u001b[0m\u001b[1;33m)\u001b[0m\u001b[1;33m,\u001b[0m \u001b[0mnline\u001b[0m\u001b[1;33m)\u001b[0m\u001b[1;33m\u001b[0m\u001b[1;33m\u001b[0m\u001b[0m\n\u001b[0m\u001b[0;32m     54\u001b[0m \u001b[1;33m\u001b[0m\u001b[0m\n\u001b[0;32m     55\u001b[0m     \u001b[1;32mfor\u001b[0m \u001b[0mi\u001b[0m \u001b[1;32min\u001b[0m \u001b[0mrange\u001b[0m\u001b[1;33m(\u001b[0m\u001b[0mmin_length\u001b[0m\u001b[1;33m)\u001b[0m\u001b[1;33m:\u001b[0m\u001b[1;33m\u001b[0m\u001b[1;33m\u001b[0m\u001b[0m\n",
      "\u001b[1;31mTypeError\u001b[0m: object of type 'NoneType' has no len()"
     ]
    }
   ],
   "source": [
    "# 10.1.2 직선 검출을 이용한 멀티 하네스 기울기 보정\n",
    "import numpy as np, cv2\n",
    "from Common.hough import *\n",
    "\n",
    "def detect_maxObject(img):\n",
    "    results = cv2.findContours(img, cv2.RETR_EXTERNAL, cv2.CHAIN_APPROX_SIMPLE)\n",
    "    if int(cv2.__version__[0]) >= 4:\n",
    "        contours = results[0]\n",
    "    else:\n",
    "        contours = results[1]\n",
    "    \n",
    "    areas = [cv2.contourArea(c) for c in contours]\n",
    "    idx = np.argsort(areas)\n",
    "    max_rect = contours[idx[-1]]\n",
    "\n",
    "    rect = cv2.boundingRect(max_rect)\n",
    "    rect = np.add(rect, (-10, -10, 20, 20))\n",
    "    return rect\n",
    "\n",
    "image = cv2.imread(\"images_10/test.jpg\", cv2.IMREAD_COLOR)\n",
    "if image is None: raise Exception(\"영상 파일 읽기 오류\")\n",
    "\n",
    "rho, theta = 1, np.pi / 180\n",
    "gray = cv2.cvtColor(image, cv2.COLOR_RGB2GRAY)\n",
    "th_gray = cv2.threshold(gray, 240, 255, cv2.THRESH_BINARY)[1]\n",
    "kernel = np.ones((3, 3), np.uint8)\n",
    "morph = cv2.erode(th_gray, kernel, iterations=2)\n",
    "\n",
    "x, y, w, h = detect_maxObject(np.copy(morph))\n",
    "roi = th_gray[y:y+h, x:x+w]\n",
    "\n",
    "canny = cv2.Canny(roi, 40, 100)\n",
    "lines = cv2.HoughLines(canny, rho, theta, 50)\n",
    "\n",
    "cv2.rectangle(morph, (x, y, w, h), 100, 2)\n",
    "canny_line = draw_hough_lines(canny, lines, 1) ############################################ error\n",
    "angle = (np.pi - lines[0, 0, 1]) * 180 / np.pi\n",
    "h, w = image.shape[:2]\n",
    "center = (w//2, h//2)\n",
    "rot_map = cv2.getRotationMatrix2D(center, -angle, 1)\n",
    "dst = cv2.warpAffine(image, rot_map, (w, h), cv2.INTER_LINEAR)\n",
    "\n",
    "cv2.imshow(\"image\", image)\n",
    "cv2.imshow(\"morph\", morph)\n",
    "cv2.imshow(\"line_detect\", canny_line)\n",
    "cv2.imshow(\"line_detect\", 250, canny_line.shape[0])\n",
    "cv2.imshow(\"dst\", dst)\n",
    "cv2.waitKey(0)\n",
    "\n",
    "\n"
   ]
  },
  {
   "cell_type": "code",
   "execution_count": 6,
   "metadata": {},
   "outputs": [
    {
     "ename": "error",
     "evalue": "OpenCV(4.5.4-dev) :-1: error: (-5:Bad argument) in function 'train'\n> Overload resolution failed:\n>  - ml_StatModel.train() takes at most 2 arguments (3 given)\n>  - responses is not a numpy array, neither a scalar\n>  - Expected Ptr<cv::UMat> for argument 'responses'\n",
     "output_type": "error",
     "traceback": [
      "\u001b[1;31m---------------------------------------------------------------------------\u001b[0m",
      "\u001b[1;31merror\u001b[0m                                     Traceback (most recent call last)",
      "\u001b[1;32m~\\AppData\\Local\\Temp/ipykernel_3264/3089236671.py\u001b[0m in \u001b[0;36m<module>\u001b[1;34m\u001b[0m\n\u001b[0;32m     17\u001b[0m \u001b[0mK\u001b[0m \u001b[1;33m=\u001b[0m \u001b[1;36m7\u001b[0m\u001b[1;33m\u001b[0m\u001b[1;33m\u001b[0m\u001b[0m\n\u001b[0;32m     18\u001b[0m \u001b[0mknn\u001b[0m \u001b[1;33m=\u001b[0m \u001b[0mcv2\u001b[0m\u001b[1;33m.\u001b[0m\u001b[0mml\u001b[0m\u001b[1;33m.\u001b[0m\u001b[0mKNearest_create\u001b[0m\u001b[1;33m(\u001b[0m\u001b[1;33m)\u001b[0m\u001b[1;33m\u001b[0m\u001b[1;33m\u001b[0m\u001b[0m\n\u001b[1;32m---> 19\u001b[1;33m \u001b[0mknn\u001b[0m\u001b[1;33m.\u001b[0m\u001b[0mtrain\u001b[0m\u001b[1;33m(\u001b[0m\u001b[0mtraindata\u001b[0m\u001b[1;33m,\u001b[0m \u001b[0mcv2\u001b[0m\u001b[1;33m.\u001b[0m\u001b[0mml\u001b[0m\u001b[1;33m.\u001b[0m\u001b[0mROW_SAMPLE\u001b[0m\u001b[1;33m,\u001b[0m \u001b[0mcallable\u001b[0m\u001b[1;33m)\u001b[0m\u001b[1;33m\u001b[0m\u001b[1;33m\u001b[0m\u001b[0m\n\u001b[0m\u001b[0;32m     20\u001b[0m \u001b[1;33m\u001b[0m\u001b[0m\n\u001b[0;32m     21\u001b[0m \u001b[0mpoints\u001b[0m \u001b[1;33m=\u001b[0m \u001b[1;33m[\u001b[0m\u001b[1;33m(\u001b[0m\u001b[0mx\u001b[0m\u001b[1;33m,\u001b[0m \u001b[0my\u001b[0m\u001b[1;33m)\u001b[0m \u001b[1;32mfor\u001b[0m \u001b[0my\u001b[0m \u001b[1;32min\u001b[0m \u001b[0mrange\u001b[0m\u001b[1;33m(\u001b[0m\u001b[1;36m400\u001b[0m\u001b[1;33m)\u001b[0m \u001b[1;32mfor\u001b[0m \u001b[0mx\u001b[0m \u001b[1;32min\u001b[0m \u001b[0mrange\u001b[0m\u001b[1;33m(\u001b[0m\u001b[1;36m400\u001b[0m\u001b[1;33m)\u001b[0m\u001b[1;33m]\u001b[0m\u001b[1;33m\u001b[0m\u001b[1;33m\u001b[0m\u001b[0m\n",
      "\u001b[1;31merror\u001b[0m: OpenCV(4.5.4-dev) :-1: error: (-5:Bad argument) in function 'train'\n> Overload resolution failed:\n>  - ml_StatModel.train() takes at most 2 arguments (3 given)\n>  - responses is not a numpy array, neither a scalar\n>  - Expected Ptr<cv::UMat> for argument 'responses'\n"
     ]
    }
   ],
   "source": [
    "# 10.3.1 임의 좌표 생성\n",
    "import numpy as np, cv2\n",
    "\n",
    "def draw_points(image, group, color):\n",
    "    for p in group:\n",
    "        pt = tuple(p.astype(int))\n",
    "        cv2.circle(image, pt, 3, color, cv2.FILLED)\n",
    "\n",
    "nsample = 50\n",
    "traindata = np.zeros((nsample*2, 2), np.float32)\n",
    "label = np.zeros((nsample*2, 1), np.float32)\n",
    "\n",
    "cv2.randn(traindata[:nsample], 150, 30)\n",
    "cv2.randn(traindata[:nsample], 250, 60)\n",
    "label[:nsample], label[nsample:] = 0, 1\n",
    "\n",
    "K = 7\n",
    "knn = cv2.ml.KNearest_create()\n",
    "knn.train(traindata, cv2.ml.ROW_SAMPLE, callable) # errrrrrrrrrrrrrrrrrrrrrrrror\n",
    "\n",
    "points = [(x, y) for y in range(400) for x in range(400)]\n",
    "ret, resp, neig, dist = knn.findNearest(np.array(points, np.float32), K)\n",
    "\n",
    "colors = [(0, 180, 0) if p else (0, 0, 180) for p in resp]\n",
    "image = np.reshape(colors, (400, 400, 3)).astype('uint8')\n",
    "\n",
    "draw_points(image, traindata[:nsample], color=(0, 0, 255))\n",
    "draw_points(image, traindata[nsample:], color=(0, 255, 0))\n",
    "cv2.imshow(\"sample K =\" + str(K), image)\n",
    "cv2.waitKey(0)"
   ]
  },
  {
   "cell_type": "code",
   "execution_count": null,
   "metadata": {},
   "outputs": [],
   "source": []
  }
 ],
 "metadata": {
  "interpreter": {
   "hash": "92771ea27045e6d3db80b55a6b5890add6855319478e1ad4c5088ad1c5b80e06"
  },
  "kernelspec": {
   "display_name": "Python 3.9.0 64-bit",
   "language": "python",
   "name": "python3"
  },
  "language_info": {
   "codemirror_mode": {
    "name": "ipython",
    "version": 3
   },
   "file_extension": ".py",
   "mimetype": "text/x-python",
   "name": "python",
   "nbconvert_exporter": "python",
   "pygments_lexer": "ipython3",
   "version": "3.9.0"
  },
  "orig_nbformat": 4
 },
 "nbformat": 4,
 "nbformat_minor": 2
}
