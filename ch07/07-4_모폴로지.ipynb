{
 "cells": [
  {
   "cell_type": "markdown",
   "metadata": {},
   "source": [
    "##### 7.4.1 침식 연산\n",
    "침식 연산 : 객체를 침식시키는 연산\n",
    "\n",
    "객체의 크기는 축소, 배경은 확장 -> 작은 크기의 객체를 제거(소금-후추 잡음, 임펄스 잡음 등)\n",
    "\n",
    "입력 영상의 화소와 마스크 원소를 비교하여, 하나라도 일치하지 않으면 0(검은색)\n",
    "\n",
    "- 돌출 부위는 여러 화소가 깎여 잡음이 완전히 제거됨\n",
    "\n",
    "\n"
   ]
  },
  {
   "cell_type": "code",
   "execution_count": 1,
   "metadata": {},
   "outputs": [
    {
     "data": {
      "text/plain": [
       "-1"
      ]
     },
     "execution_count": 1,
     "metadata": {},
     "output_type": "execute_result"
    }
   ],
   "source": [
    "# 7.4.1 모폴로지 침식 연산\n",
    "import numpy as np, cv2\n",
    "\n",
    "# 침식 연산 함수\n",
    "def erode(img, mask=None):\n",
    "    dst = np.zeros(img.shape, np.uint8)\n",
    "    if mask is None: mask = np.ones((3, 3), np.uint8)\n",
    "    ycenter, xcenter = np.divmod(mask.shape[:2], 2)[0] # 마스크 중심 좌표\n",
    "\n",
    "    mcnt = cv2.countNonZero(mask)\n",
    "    for i in range(ycenter, img.shape[0] - ycenter):\n",
    "        for j in range(xcenter, img.shape[1] - xcenter):\n",
    "            y1, y2 = i - ycenter, i + ycenter + 1 # 마스크 높이 범위\n",
    "            x1, x2 = j - xcenter, j + xcenter + 1 # 마스크 너비 범위\n",
    "            roi = img[y1:y2, x1:x2] # 마스크 영역\n",
    "            temp = cv2.bitwise_and(roi, mask)\n",
    "            cnt = cv2.countNonZero(temp) # 일치 원소 개수 계산\n",
    "            dst[i, j] = 255 if (cnt == mcnt) else 0 # 출력 화소에 저장\n",
    "    return dst\n",
    "\n",
    "image = cv2.imread(\"images_07/morph.jpg\", cv2.IMREAD_GRAYSCALE)\n",
    "if image is None: raise Exception(\"영상 파일 읽기 오류\")\n",
    "\n",
    "data = [0, 1, 0,\n",
    "        1, 1, 1,\n",
    "        0, 1, 0]\n",
    "mask = np.array(data, np.uint8).reshape(3,3)\n",
    "th_img = cv2.threshold(image, 128, 255, cv2.THRESH_BINARY)[1] # 영상 이진화\n",
    "\n",
    "dst1 = erode(th_img, mask)\n",
    "dst2 = cv2.erode(th_img, mask) # 침식\n",
    "# dst2 = cv2.morphologyEx(th_img, cv2.MORPH_ERODE, mask)\n",
    "\n",
    "cv2.imshow(\"image\", image)\n",
    "cv2.imshow(\"binary image\", th_img)\n",
    "cv2.imshow(\"User erode\", dst1)\n",
    "cv2.imshow(\"CV erode\", dst2)\n",
    "cv2.waitKey(0)\n"
   ]
  },
  {
   "cell_type": "markdown",
   "metadata": {},
   "source": [
    "##### 7.4.2 팽창 영산\n",
    "팽창 연산 : 객체를 팽창시키는 연산\n",
    "\n",
    "객체의 크기는 확대되고, 배경은 축소됨, 객체 내부의 빈 공간이 메워짐\n",
    "\n",
    "입력 화소와 팽창 마스크가 모두 불일치인 경우에만 0, 하나라도 일치하면 1\n"
   ]
  },
  {
   "cell_type": "code",
   "execution_count": 2,
   "metadata": {},
   "outputs": [
    {
     "data": {
      "text/plain": [
       "-1"
      ]
     },
     "execution_count": 2,
     "metadata": {},
     "output_type": "execute_result"
    }
   ],
   "source": [
    "# 7.4.2 모폴로지 팽창 연산\n",
    "import numpy as np, cv2\n",
    "\n",
    "def dilate(img, mask):\n",
    "    dst = np.zeros(img.shape, np.uint8)\n",
    "    if mask is None: mask = np.ones((3, 3), np.uint8)\n",
    "    ycenter, xcenter = np.divmod(mask.shape[:2], 2)[0] # 마스크 중심 좌표\n",
    "\n",
    "    for i in range(ycenter, img.shape[0] - ycenter):\n",
    "        for j in range(xcenter, img.shape[1] - xcenter):\n",
    "            y1, y2 = i - ycenter, i + ycenter + 1 # 마스크 높이 범위\n",
    "            x1, x2 = j - xcenter, j + xcenter + 1 # 마스크 너비 범위\n",
    "            roi = img[y1:y2, x1:x2] # 마스크 영역\n",
    "            temp = cv2.bitwise_and(roi, mask)\n",
    "            cnt = cv2.countNonZero(temp) # 일치 원소 개수 계산\n",
    "            dst[i, j] = 0 if (cnt == 0) else 255 # 출력 화소에 저장\n",
    "    return dst\n",
    "\n",
    "image = cv2.imread(\"images_07/morph.jpg\", cv2.IMREAD_GRAYSCALE)\n",
    "if image is None: raise Exception(\"영상 파일 읽기 오류\")\n",
    "\n",
    "data = [0, 1, 0,\n",
    "        1, 1, 1,\n",
    "        0, 1, 0]\n",
    "mask = np.array(data, np.uint8).reshape(3,3)\n",
    "th_img = cv2.threshold(image, 128, 255, cv2.THRESH_BINARY)[1] # 영상 이진화\n",
    "\n",
    "dst1 = dilate(th_img, mask)\n",
    "dst2 = cv2.dilate(th_img, mask) # 팽창\n",
    "# dst2 = cv2.morphologyEx(th_img, cv2.MORPH_DILATE, mask)\n",
    "\n",
    "cv2.imshow(\"User dilate\", dst1)\n",
    "cv2.imshow(\"CV dilate\", dst2)\n",
    "cv2.waitKey(0)\n"
   ]
  },
  {
   "cell_type": "markdown",
   "metadata": {},
   "source": [
    "##### 7.4.3 열림 연산과 닫힘 연산\n",
    "침식과 팽창은 따로만 쓰지는 않고 보통 함꼐 사용하는 경우가 많음\n",
    "\n",
    "열림 연산(Opening) : 침식 연산 - 팽창 연산 (객체 축소 - 잡음 제거 - 객체 확대) -> 돌출 부분 돌아가지 않음\n",
    "\n",
    "-> 노이즈가 없어짐\n",
    "\n",
    "닫힘 연산(Closing) : 팽창 연산 - 침식 연산 (객체를 확대하면서 빈공간을 메운 후, 다시 축소)\n",
    "\n",
    "-> 내부를 닫아줘서 닫힘이라고 외우면 편함"
   ]
  },
  {
   "cell_type": "code",
   "execution_count": 3,
   "metadata": {},
   "outputs": [
    {
     "data": {
      "text/plain": [
       "-1"
      ]
     },
     "execution_count": 3,
     "metadata": {},
     "output_type": "execute_result"
    }
   ],
   "source": [
    "# 7.4.3 열림 연산과 닫힘 연산\n",
    "import numpy as np, cv2\n",
    "from Common.filters import erode, dilate\n",
    "\n",
    "# 열림 연산 함수\n",
    "def opening(img, mask):\n",
    "    tmp = erode(img, mask) # 침식\n",
    "    dst = dilate(tmp, mask) # 팽창\n",
    "    return dst\n",
    "\n",
    "# 닫힘 연산 함수\n",
    "def closing(img, mask):\n",
    "    tmp = dilate(img, mask) # 팽창\n",
    "    dst = erode(tmp, mask) # 침식\n",
    "    return dst\n",
    "\n",
    "image = cv2.imread(\"images_07/test.jpg\", cv2.IMREAD_GRAYSCALE)\n",
    "if image is None: raise Exception(\"영상 파일 읽기 오류\")\n",
    "\n",
    "data = [0, 1, 0,\n",
    "        1, 1, 1,\n",
    "        0, 1, 0]\n",
    "mask = np.array(data, np.uint8).reshape(3,3)\n",
    "th_img = cv2.threshold(image, 128, 255, cv2.THRESH_BINARY)[1] # 영상 이진화\n",
    "\n",
    "dst1 = opening(th_img, mask)\n",
    "dst2 = closing(th_img, mask)\n",
    "dst3 = cv2.morphologyEx(th_img, cv2.MORPH_OPEN, mask)\n",
    "dst4 = cv2.morphologyEx(th_img, cv2.MORPH_CLOSE, mask, iterations=1)\n",
    "\n",
    "cv2.imshow(\"User opening\", dst1)\n",
    "cv2.imshow(\"User closing\", dst2)\n",
    "cv2.imshow(\"CV opening\", dst3)\n",
    "cv2.imshow(\"CV closing\", dst4)\n",
    "cv2.waitKey(0)\n",
    "\n"
   ]
  },
  {
   "cell_type": "code",
   "execution_count": null,
   "metadata": {},
   "outputs": [],
   "source": []
  }
 ],
 "metadata": {
  "interpreter": {
   "hash": "ee8e767f248e676331efd5b15066fe2f4c07a210f3df6062615d104073107a4a"
  },
  "kernelspec": {
   "display_name": "Python 3.9.0 64-bit",
   "language": "python",
   "name": "python3"
  },
  "language_info": {
   "codemirror_mode": {
    "name": "ipython",
    "version": 3
   },
   "file_extension": ".py",
   "mimetype": "text/x-python",
   "name": "python",
   "nbconvert_exporter": "python",
   "pygments_lexer": "ipython3",
   "version": "3.9.0"
  },
  "orig_nbformat": 4
 },
 "nbformat": 4,
 "nbformat_minor": 2
}
