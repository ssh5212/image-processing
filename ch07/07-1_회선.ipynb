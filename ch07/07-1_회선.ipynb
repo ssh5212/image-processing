{
 "cells": [
  {
   "cell_type": "markdown",
   "metadata": {},
   "source": [
    "공간 영역 처리 : 커널(마스크, 윈도우)을 이용하여 회선을 수행하여 처리가 이루어짐\n",
    "\n",
    "\n",
    "### 7.1 회선\n",
    "영역 의미1 : 두 개의 다른 범위의 구분 (공간 영역, 주파수 영역)\n",
    "\n",
    "- 공간 영역 : 영상들이 다루어지는 화소 공간을 의미\n",
    "\n",
    "영역 의미2 : 영역 기반 처리 표현에서 사용하는 영역 -> 화소가 모인 특정 범위의 화소 배열\n",
    "\n",
    "- 화소 기반 처리 : 화소값 각각에 대해 연산을 수행\n",
    "- 영영 기반 처리 : 마스크를 기반으로 연산을 수행\n",
    "\n",
    "마스크 기반 처리 : 마스크 내의 원소 값과 공간 영영에 있는 화소 값을 대응되게 곱하여 출력 화소 값을 계산\n",
    "- 마스크를 커널, 윈도우, 필터 등으로 부름\n",
    "\n",
    "회선 : 마스크 기반 처리를 모든 화소값에 대해 이동하면서 수행하는 것 \n"
   ]
  },
  {
   "cell_type": "markdown",
   "metadata": {},
   "source": [
    "##### 7.1.2 블러링\n",
    "화소 값이 급격하게 변화하는 것을 점진적으로 변하게 함\n",
    "\n",
    "커널 마스크를 이용하여 회선을 수행함 -> 마스크 전체 원소의 합이 1이 되어야 영상을 밝기가 유지됨 (주변 값의 합 / 주변 값의 개수)"
   ]
  },
  {
   "cell_type": "code",
   "execution_count": 4,
   "metadata": {},
   "outputs": [
    {
     "name": "stdout",
     "output_type": "stream",
     "text": [
      "image.shape (300, 400)\n",
      "rows 300\n",
      "cols 400\n",
      "150\n",
      "300\n"
     ]
    },
    {
     "data": {
      "text/plain": [
       "-1"
      ]
     },
     "execution_count": 4,
     "metadata": {},
     "output_type": "execute_result"
    }
   ],
   "source": [
    "# 7.1.1 회선이용 블러링\n",
    "import numpy as np, cv2\n",
    "\n",
    "# 회선 수행 함수 - 행렬 처리 방식\n",
    "def filter(image, mask):\n",
    "    print(\"image.shape\", image.shape)\n",
    "    rows, cols = image.shape[:2]\n",
    "    print(\"rows\",rows)\n",
    "    print(\"cols\",cols)\n",
    "    dst = np.zeros((rows, cols), np.float32) # 회선 결과를 저장할 행렬\n",
    "    ycenter, xcenter = rows//2, cols//2 # 마스크 중심 좌표\n",
    "\n",
    "    print(ycenter)\n",
    "    print(rows)\n",
    "    ################## 에러\n",
    "    for i in range(ycenter, rows - ycenter): # 회선\n",
    "        for j in range(xcenter, cols - xcenter):\n",
    "            y1, y2 = i - ycenter, i + ycenter + 1 # 관심 영역 높이 범위\n",
    "            x1, x2 = j - xcenter, j + xcenter + 1 # 관심 영역 너비 범위\n",
    "            roi = image[y1:y2, x1:x2].astype('float32') # 관심 영역 형변환\n",
    "            tmp = cv2.multiply(roi, mask) # 회선 적용 - 원소간 곱셈\n",
    "            dst[i, j] = cv2.sumElems(tmp)[0] # 자로형 변환\n",
    "            print(dst[i, j])\n",
    "    return dst\n",
    "\n",
    "# 회선 수행 함수 - 화소 직접 근접\n",
    "def filter2(image, mask):\n",
    "    rows, cols = image.shape[:2]\n",
    "    dst = np.zeros((rows, cols), np.float32) # 회선 결과를 저장할 행렬\n",
    "    ycenter, xcenter = rows//2, cols//2 # 마스크 중심 좌표\n",
    "\n",
    "    for i in range(ycenter, rows - ycenter): # 회선\n",
    "        for j in range(xcenter, cols - xcenter):\n",
    "            sum = 0.0\n",
    "            for u in range(mask.shape[0]):\n",
    "                for v in range(mask.shape[1]):\n",
    "                    y, x = i + u - ycenter, j + v - xcenter\n",
    "                    sum += image[y, x] * mask[u, v] # 회선 수식\n",
    "            dst[i, j] = sum\n",
    "    return dst\n",
    "\n",
    "image = cv2.imread(\"images_07/test.jpg\", cv2.IMREAD_GRAYSCALE)\n",
    "if image is None: raise Exception(\"영상 파일 읽기 오류\")\n",
    "\n",
    "data = [1/9, 1/9, 1/9, 1/9, 1/9, 1/9, 1/9, 1/9, 1/9]\n",
    "mask = np.array(data, np.float32).reshape(3,3)\n",
    "\n",
    "blur1 = filter(image, mask)\n",
    "blur2 = filter2(image, mask)\n",
    "\n",
    "# blur1 = blur1.astype('uint8') # 정수형으로 변환 방법1\n",
    "blur1 = cv2.convertScaleAbs(blur1) # 정수형으로 변환 방법2\n",
    "blur2 = cv2.convertScaleAbs(blur2) # 정수형으로 변환 방법2\n",
    "\n",
    "\n",
    "cv2.imshow(\"image\", image)\n",
    "cv2.imshow(\"blur1\", blur1)\n",
    "cv2.imshow(\"blur2\", blur2)\n",
    "cv2.waitKey(0)\n",
    "\n"
   ]
  },
  {
   "cell_type": "markdown",
   "metadata": {},
   "source": [
    "##### 7.1.3 샤프닝\n",
    "이웃 화소끼리 차이를 크게 되도록 출력화소를 만들어 날카로운 느낌이 나도록 하는 것\n",
    "\n",
    "중심계수는 1보다 크게 구성하고, 주변 화소는 음수 값을 갖게 하여 비중을 감소"
   ]
  },
  {
   "cell_type": "code",
   "execution_count": 1,
   "metadata": {},
   "outputs": [
    {
     "ename": "ImportError",
     "evalue": "cannot import name 'filter' from 'Common.filters' (d:\\github\\image-processing\\ch07\\Common\\filters.py)",
     "output_type": "error",
     "traceback": [
      "\u001b[1;31m---------------------------------------------------------------------------\u001b[0m",
      "\u001b[1;31mImportError\u001b[0m                               Traceback (most recent call last)",
      "\u001b[1;32md:\\github\\image-processing\\ch07\\07-1_회선.ipynb Cell 5'\u001b[0m in \u001b[0;36m<module>\u001b[1;34m\u001b[0m\n\u001b[0;32m      <a href='vscode-notebook-cell:/d%3A/github/image-processing/ch07/07-1_%ED%9A%8C%EC%84%A0.ipynb#ch0000004?line=0'>1</a>\u001b[0m \u001b[39m# 7.1.2 회선이용 샤프닝\u001b[39;00m\n\u001b[0;32m      <a href='vscode-notebook-cell:/d%3A/github/image-processing/ch07/07-1_%ED%9A%8C%EC%84%A0.ipynb#ch0000004?line=1'>2</a>\u001b[0m \u001b[39mimport\u001b[39;00m \u001b[39mnumpy\u001b[39;00m \u001b[39mas\u001b[39;00m \u001b[39mnp\u001b[39;00m\u001b[39m,\u001b[39m \u001b[39mcv2\u001b[39;00m\n\u001b[1;32m----> <a href='vscode-notebook-cell:/d%3A/github/image-processing/ch07/07-1_%ED%9A%8C%EC%84%A0.ipynb#ch0000004?line=2'>3</a>\u001b[0m \u001b[39mfrom\u001b[39;00m \u001b[39mCommon\u001b[39;00m\u001b[39m.\u001b[39;00m\u001b[39mfilters\u001b[39;00m \u001b[39mimport\u001b[39;00m \u001b[39mfilter\u001b[39m\n\u001b[0;32m      <a href='vscode-notebook-cell:/d%3A/github/image-processing/ch07/07-1_%ED%9A%8C%EC%84%A0.ipynb#ch0000004?line=4'>5</a>\u001b[0m image \u001b[39m=\u001b[39m cv2\u001b[39m.\u001b[39mimread(\u001b[39m\"\u001b[39m\u001b[39mimages_07/test.jpg\u001b[39m\u001b[39m\"\u001b[39m, cv2\u001b[39m.\u001b[39mIMREAD_GRAYSCALE)\n\u001b[0;32m      <a href='vscode-notebook-cell:/d%3A/github/image-processing/ch07/07-1_%ED%9A%8C%EC%84%A0.ipynb#ch0000004?line=5'>6</a>\u001b[0m \u001b[39mif\u001b[39;00m image \u001b[39mis\u001b[39;00m \u001b[39mNone\u001b[39;00m: \u001b[39mraise\u001b[39;00m \u001b[39mException\u001b[39;00m(\u001b[39m\"\u001b[39m\u001b[39m영상 파일 읽기 오류\u001b[39m\u001b[39m\"\u001b[39m)\n",
      "\u001b[1;31mImportError\u001b[0m: cannot import name 'filter' from 'Common.filters' (d:\\github\\image-processing\\ch07\\Common\\filters.py)"
     ]
    }
   ],
   "source": [
    "# 7.1.2 회선이용 샤프닝\n",
    "import numpy as np, cv2\n",
    "from Common.filters import filter\n",
    "\n",
    "image = cv2.imread(\"images_07/test.jpg\", cv2.IMREAD_GRAYSCALE)\n",
    "if image is None: raise Exception(\"영상 파일 읽기 오류\")\n",
    "\n",
    "data1 = [0, -1 , 0,\n",
    "         -1, 5, -1,\n",
    "         0, -1, 0]\n",
    "\n",
    "data2 = [-1, -1 , -1,\n",
    "         -1, 9, -1,\n",
    "         -1, -1, -1]\n",
    "\n",
    "mask1 = np.array(data1, np.float32).reshape(3,3)\n",
    "mask2 = np.array(data2, np.float32).reshape(3,3)\n",
    "\n",
    "sharpen1 = filter(image, mask1) # 회선 수행\n",
    "sharpen2 = filter(image, mask2)\n",
    "sharpen1 = cv2.convertScaleAbs(sharpen1) # 형변환\n",
    "sharpen2 = cv2.convertScaleAbs(sharpen2)\n",
    "\n",
    "cv2.imshow(\"image\", image)\n",
    "cv2.imshow(\"sharpen1\", sharpen1)\n",
    "cv2.imshow(\"sharpen2\", sharpen2)\n",
    "cv2.waitKey(0)\n"
   ]
  },
  {
   "cell_type": "code",
   "execution_count": null,
   "metadata": {},
   "outputs": [],
   "source": []
  }
 ],
 "metadata": {
  "interpreter": {
   "hash": "2b6024cb2edbfebdd70461c66559173aa04dec10d8798ddfdc8d51cdb4582a6b"
  },
  "kernelspec": {
   "display_name": "Python 3.9.0 64-bit",
   "language": "python",
   "name": "python3"
  },
  "language_info": {
   "codemirror_mode": {
    "name": "ipython",
    "version": 3
   },
   "file_extension": ".py",
   "mimetype": "text/x-python",
   "name": "python",
   "nbconvert_exporter": "python",
   "pygments_lexer": "ipython3",
   "version": "3.9.0"
  },
  "orig_nbformat": 4
 },
 "nbformat": 4,
 "nbformat_minor": 2
}
