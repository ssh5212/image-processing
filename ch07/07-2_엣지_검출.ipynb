{
 "cells": [
  {
   "cell_type": "markdown",
   "metadata": {},
   "source": [
    "엣지 : 튀는 부분 모두 (픽셀 값이 확 바뀌는 부분)\n",
    "\n",
    "컨투어 : 윤곽선\n",
    "\n",
    "-> 요즘은 혼용해서 사용하는 편"
   ]
  },
  {
   "cell_type": "markdown",
   "metadata": {},
   "source": [
    "기본 개념 : 영상처리에서는 dx의 최소가 1이기 때문에 오른쪽 픽셀에서 왼쪽 픽셀을 빼면 됨 (가로 기준으로 변화율을 구하는 방법)"
   ]
  },
  {
   "cell_type": "markdown",
   "metadata": {},
   "source": [
    "##### 7.2.1 1차 미분 마스크\n",
    "영상에서 밝기 검출 방법 : 밝기에 대한 기울기를 계산 -> 기울기의 크기 == 엣지\n",
    "\n",
    "1차 미분 마스크 : 화소간 차분을 계산하도록 마스크 원소를 구성 -> 마스크 계수의 합은 0이 되어야 함\n",
    "\n",
    "- 로버츠, 프리윗, 소벨 등의 1차 미분 마스크가 있음\n",
    "\n",
    "로버츠 마스크 : 계산이 단순, 차분의 크기가 작음, 경계가 확실한 엣지만 추출하며, 잡음에 민감"
   ]
  },
  {
   "cell_type": "code",
   "execution_count": 10,
   "metadata": {},
   "outputs": [
    {
     "ename": "ImportError",
     "evalue": "cannot import name 'filter' from 'Common.filters' (d:\\github\\image-processing\\ch07\\Common\\filters.py)",
     "output_type": "error",
     "traceback": [
      "\u001b[1;31m---------------------------------------------------------------------------\u001b[0m",
      "\u001b[1;31mImportError\u001b[0m                               Traceback (most recent call last)",
      "\u001b[1;32md:\\github\\image-processing\\ch07\\07-2_엣지_검출.ipynb Cell 4'\u001b[0m in \u001b[0;36m<module>\u001b[1;34m\u001b[0m\n\u001b[0;32m      <a href='vscode-notebook-cell:/d%3A/github/image-processing/ch07/07-2_%EC%97%A3%EC%A7%80_%EA%B2%80%EC%B6%9C.ipynb#ch0000001?line=0'>1</a>\u001b[0m \u001b[39m# 7.2.3 로버트 엣지 검출\u001b[39;00m\n\u001b[0;32m      <a href='vscode-notebook-cell:/d%3A/github/image-processing/ch07/07-2_%EC%97%A3%EC%A7%80_%EA%B2%80%EC%B6%9C.ipynb#ch0000001?line=1'>2</a>\u001b[0m \u001b[39mimport\u001b[39;00m \u001b[39mnumpy\u001b[39;00m \u001b[39mas\u001b[39;00m \u001b[39mnp\u001b[39;00m\u001b[39m,\u001b[39m \u001b[39mcv2\u001b[39;00m\n\u001b[1;32m----> <a href='vscode-notebook-cell:/d%3A/github/image-processing/ch07/07-2_%EC%97%A3%EC%A7%80_%EA%B2%80%EC%B6%9C.ipynb#ch0000001?line=2'>3</a>\u001b[0m \u001b[39mfrom\u001b[39;00m \u001b[39mCommon\u001b[39;00m\u001b[39m.\u001b[39;00m\u001b[39mfilters\u001b[39;00m \u001b[39mimport\u001b[39;00m \u001b[39mfilter\u001b[39m\n\u001b[0;32m      <a href='vscode-notebook-cell:/d%3A/github/image-processing/ch07/07-2_%EC%97%A3%EC%A7%80_%EA%B2%80%EC%B6%9C.ipynb#ch0000001?line=4'>5</a>\u001b[0m \u001b[39mdef\u001b[39;00m \u001b[39mdifferental\u001b[39m(image, data1, data2):\n\u001b[0;32m      <a href='vscode-notebook-cell:/d%3A/github/image-processing/ch07/07-2_%EC%97%A3%EC%A7%80_%EA%B2%80%EC%B6%9C.ipynb#ch0000001?line=5'>6</a>\u001b[0m     mask1 \u001b[39m=\u001b[39m np\u001b[39m.\u001b[39marray(data1, np\u001b[39m.\u001b[39mfloat32)\u001b[39m.\u001b[39mreshape(\u001b[39m3\u001b[39m, \u001b[39m3\u001b[39m)\n",
      "\u001b[1;31mImportError\u001b[0m: cannot import name 'filter' from 'Common.filters' (d:\\github\\image-processing\\ch07\\Common\\filters.py)"
     ]
    }
   ],
   "source": [
    "# 7.2.3 로버트 엣지 검출\n",
    "import numpy as np, cv2\n",
    "from Common.filters import filter\n",
    "\n",
    "def differental(image, data1, data2):\n",
    "    mask1 = np.array(data1, np.float32).reshape(3, 3)\n",
    "    mask2 = np.array(data1, np.float32).reshape(3, 3)\n",
    "\n",
    "    ######## 에러 발생\n",
    "    dst1 = filter(image, mask1)\n",
    "    dst2 = filter(image, mask2)\n",
    "    dst1, dst2 = np.abs(dst1), np.abs(dst2) # 절대값 계산 == 양수로 변경\n",
    "    dst = cv2.magnitude(dst1, dst2) # 두 행렬의 크기 계산 == 엣지 강도 계산\n",
    "\n",
    "    dst = np.clip(dst, 0, 255).astype('uint8')\n",
    "    dst1 = np.clip(dst1, 0, 255).astype('uint8')\n",
    "    dst2 = np.clip(dst2, 0, 255).astype('uint8')\n",
    "    return dst, dst1, dst2\n",
    "\n",
    "\n",
    "image = cv2.imread(\"images_07/edge.jpg\", cv2.IMREAD_GRAYSCALE)\n",
    "if image is None: raise Exception(\"영상 파일 읽기 오류\")\n",
    "\n",
    "data1 = [-1, 0, 0,\n",
    "         0, 1, 0,\n",
    "         0, 0, 0]\n",
    "\n",
    "data2 = [0, 0, -1,\n",
    "         0, 1, 0,\n",
    "         0, 0, 0]\n",
    "\n",
    "mask1 = np.array(data1, np.float32).reshape(3,3)\n",
    "mask2 = np.array(data2, np.float32).reshape(3,3)\n",
    "\n",
    "dst, dst1, dst2 = differental(image, data1, data2)\n",
    "\n",
    "cv2.imshow(\"image\", image)\n",
    "cv2.imshow(\"roberts edge\", dst)\n",
    "cv2.imshow(\"dst1\", dst1)\n",
    "cv2.imshow(\"dst2\", dst2)\n",
    "cv2.waitKey(0)\n"
   ]
  },
  {
   "cell_type": "code",
   "execution_count": 13,
   "metadata": {},
   "outputs": [
    {
     "data": {
      "text/plain": [
       "-1"
      ]
     },
     "execution_count": 13,
     "metadata": {},
     "output_type": "execute_result"
    }
   ],
   "source": [
    "# 7.2.3 로버트 엣지 검출 (filter2D를 이용한 방법)\n",
    "import numpy as np, cv2\n",
    "\n",
    "def differental(image, data1, data2):\n",
    "    mask1 = np.array(data1, np.float32).reshape(3, 3)\n",
    "    mask2 = np.array(data1, np.float32).reshape(3, 3)\n",
    "\n",
    "    dst1 = cv2.filter2D(image, -1, mask1)\n",
    "    dst2 = cv2.filter2D(image, -1, mask2)\n",
    "    dst1, dst2 = np.abs(dst1), np.abs(dst2) # 절대값 계산 == 양수로 변경\n",
    "    # dst = cv2.magnitude(dst1, dst2) # 두 행렬의 크기 계산 == 엣지 강도 계산\n",
    "    dst = dst1 + dst2\n",
    "\n",
    "    dst = np.clip(dst, 0, 255).astype('uint8')\n",
    "    dst1 = np.clip(dst1, 0, 255).astype('uint8')\n",
    "    dst2 = np.clip(dst2, 0, 255).astype('uint8')\n",
    "    return dst, dst1, dst2\n",
    "\n",
    "\n",
    "image = cv2.imread(\"images_07/edge.jpg\", cv2.IMREAD_GRAYSCALE)\n",
    "if image is None: raise Exception(\"영상 파일 읽기 오류\")\n",
    "\n",
    "data1 = [-1, 0, 0,\n",
    "         0, 1, 0,\n",
    "         0, 0, 0]\n",
    "\n",
    "data2 = [0, 0, -1,\n",
    "         0, 1, 0,\n",
    "         0, 0, 0]\n",
    "\n",
    "mask1 = np.array(data1, np.float32).reshape(3,3)\n",
    "mask2 = np.array(data2, np.float32).reshape(3,3)\n",
    "\n",
    "dst, dst1, dst2 = differental(image, data1, data2)\n",
    "\n",
    "cv2.imshow(\"image\", image)\n",
    "cv2.imshow(\"roberts edge\", dst)\n",
    "cv2.imshow(\"dst1\", dst1)\n",
    "cv2.imshow(\"dst2\", dst2)\n",
    "cv2.waitKey(0)\n"
   ]
  },
  {
   "cell_type": "markdown",
   "metadata": {},
   "source": [
    "프리윗 마스크 : 로버츠의 단점을 보완하기 위해 고안, 원소의 배치가 수직 방향으로 구성, 에지의 방향도 수직\n",
    "\n",
    "3번의 차분을 합하여 결과를 생성하기 때문에 엣지의 강도가 강하며, 수직과 수평 엣지를 동등하게 찾는데 효과적\n",
    "\n",
    "-> 나를 기준으로 해야하는데 내가 상하/좌우와 가중치가 동일하다는 단점이 존재함 -> 해결하기 위해 소벨 사용 "
   ]
  },
  {
   "cell_type": "code",
   "execution_count": 18,
   "metadata": {},
   "outputs": [
    {
     "data": {
      "text/plain": [
       "-1"
      ]
     },
     "execution_count": 18,
     "metadata": {},
     "output_type": "execute_result"
    }
   ],
   "source": [
    "# 7.2.4 프리윗 엣지 검출\n",
    "import numpy as np, cv2\n",
    "\n",
    "def differental(image, data1, data2):\n",
    "    mask1 = np.array(data1, np.float32).reshape(3, 3)\n",
    "    mask2 = np.array(data2, np.float32).reshape(3, 3)\n",
    "\n",
    "    dst1 = cv2.filter2D(image, -1, mask1)\n",
    "    dst2 = cv2.filter2D(image, -1, mask2)\n",
    "    # dst = cv2.magnitude(dst1, dst2) # 두 행렬의 크기 계산 == 엣지 강도 계산\n",
    "    dst = dst1 + dst2\n",
    "\n",
    "    dst = cv2.convertScaleAbs(dst) # 절대값 및 형변환\n",
    "    dst1 = cv2.convertScaleAbs(dst1) # 절대값 및 형변환\n",
    "    dst2 = cv2.convertScaleAbs(dst2) # 절대값 및 형변환\n",
    "    return dst, dst1, dst2\n",
    "\n",
    "\n",
    "image = cv2.imread(\"images_07/edge.jpg\", cv2.IMREAD_GRAYSCALE)\n",
    "if image is None: raise Exception(\"영상 파일 읽기 오류\")\n",
    "\n",
    "data1 = [-1, 0, 1,\n",
    "         -1, 0, 1,\n",
    "         -1, 0, 1]\n",
    "\n",
    "data2 = [-1, -1, -1,\n",
    "         0, 0, 0,\n",
    "         1, 1, 1]\n",
    "\n",
    "dst, dst1, dst2 = differental(image, data1, data2)\n",
    "\n",
    "cv2.imshow(\"image\", image)\n",
    "cv2.imshow(\"prewitt edge\", dst)\n",
    "cv2.imshow(\"dst1 : vertical mask\", dst1)\n",
    "cv2.imshow(\"dst2 : horizontal mask\", dst2)\n",
    "cv2.waitKey(0)\n"
   ]
  },
  {
   "cell_type": "markdown",
   "metadata": {},
   "source": [
    "소벨 마스크 : 프리윗 마스크에서 중심 계수의 차분 비중이 2배"
   ]
  },
  {
   "cell_type": "code",
   "execution_count": 19,
   "metadata": {},
   "outputs": [
    {
     "data": {
      "text/plain": [
       "-1"
      ]
     },
     "execution_count": 19,
     "metadata": {},
     "output_type": "execute_result"
    }
   ],
   "source": [
    "# 소벨 마스크\n",
    "import numpy as np, cv2\n",
    "\n",
    "image = cv2.imread(\"images_07/edge.jpg\", cv2.IMREAD_GRAYSCALE)\n",
    "if image is None: raise Exception(\"영상 파일 읽기 오류\")\n",
    "\n",
    "data1 = [-1, 0, 1,\n",
    "         -2, 0, 2,\n",
    "         -1, 0, 1]\n",
    "\n",
    "data2 = [-1, -2, -1,\n",
    "         0, 0, 0,\n",
    "         1, 2, 1]\n",
    "\n",
    "dst1 = cv2.Sobel(np.float32(image), cv2.CV_32F, 1, 0, 3)\n",
    "dst2 = cv2.Sobel(np.float32(image), cv2.CV_32F, 0, 1, 3)\n",
    "dst1 = cv2.convertScaleAbs(dst1)\n",
    "dst2 = cv2.convertScaleAbs(dst2)\n",
    "\n",
    "cv2.imshow(\"image\", image)\n",
    "cv2.imshow(\"dst1 : vertical mask\", dst1)\n",
    "cv2.imshow(\"dst2 : horizontal mask\", dst2)\n",
    "cv2.waitKey(0)\n"
   ]
  },
  {
   "cell_type": "markdown",
   "metadata": {},
   "source": [
    "##### 7.2.2 2차 미분 마스크\n",
    "1차 미분에서 한 번 더 미분 하는 방법\n",
    "\n",
    "-> x축으로 편미분, y축으로 편미분\n",
    "\n",
    "변화하는 영역의 중심에 위치한 엣지만을 검출\n",
    "\n",
    "밝기가 점진적으로 변화되는 영역에 대해서는 반응을 보이지 않음\n",
    "\n",
    "- 라플라시안, LoG, DoG 등이 있음\n",
    "\n",
    "라플라시안 엣지 검출 : 중심 계수를 주변 계수의 4배로 하고, 부호는 반대로 하는 두 개의 4방향 마스크 사용"
   ]
  },
  {
   "cell_type": "code",
   "execution_count": 23,
   "metadata": {},
   "outputs": [
    {
     "data": {
      "text/plain": [
       "-1"
      ]
     },
     "execution_count": 23,
     "metadata": {},
     "output_type": "execute_result"
    }
   ],
   "source": [
    "# 7.2.6 라플라시안 엣지 검출\n",
    "import numpy as np, cv2\n",
    "\n",
    "image = cv2.imread(\"images_07/laplacian.jpg\", cv2.IMREAD_GRAYSCALE)\n",
    "if image is None: raise Exception(\"영상 파일 읽기 오류\")\n",
    "\n",
    "# 2차 미분 마스크\n",
    "# 샤프닝과 유사 -> 차이점 : 더한 값이 0이 되기 때문에 밝기에 변화가 있음\n",
    "# 샤프닝과 동일한 기능을 수행하기 때문에 노이즈가 선명하게 나타날 수 있음 (노이즈가 엣지로 추출 될 수 있음)\n",
    "data1 = [[0, 1, 0],\n",
    "         [1, -4, 1],\n",
    "         [0, 1, 0]]\n",
    "\n",
    "data2 = [[0, -1, 0],\n",
    "         [-1, 4, -1],\n",
    "         [0, -1, 0]]\n",
    "\n",
    "mask4 = np.array(data1, np.int16)\n",
    "mask8 = np.array(data2, np.int16)\n",
    "\n",
    "dst1 = cv2.filter2D(image, cv2.CV_16S, mask4) # 회선 함수\n",
    "dst2 = cv2.filter2D(image, cv2.CV_16S, mask8)\n",
    "dst3 = cv2.Laplacian(image, cv2.CV_16S, 1) # 라플라시안 함수\n",
    "\n",
    "dst1 = cv2.convertScaleAbs(dst1) # 절대값 및 형변환\n",
    "dst2 = cv2.convertScaleAbs(dst2) # 절대값 및 형변환\n",
    "dst3 = cv2.convertScaleAbs(dst3) # 절대값 및 형변환\n",
    "\n",
    "cv2.imshow(\"image\", image)\n",
    "cv2.imshow(\"4-direction\", dst1)\n",
    "cv2.imshow(\"8-direction\", dst2)\n",
    "cv2.imshow(\"Laplacian\", dst3)\n",
    "cv2.waitKey(0)\n",
    "\n"
   ]
  },
  {
   "cell_type": "markdown",
   "metadata": {},
   "source": [
    "LoG, DoG : 잡음을 제거하는 마스크 (LoG를 보완하여 DoG를 만듦)\n",
    "\n",
    "라플라시안은 잡음에 민감 (샤프닝과 유사하기 때문에)\n",
    "\n",
    "-> 잡음 제거 후 라플라시안 수행 시 더욱 좋은 엣지가 검출됨\n",
    "\n",
    "LoG : 가우시안을 한 다음에 라플라이산을 하겠다\n",
    "\n",
    "DoG : 서로 다른 필터를 사용한 가우시안을 각각 구하여 차이를 구하겠다"
   ]
  },
  {
   "cell_type": "code",
   "execution_count": 25,
   "metadata": {},
   "outputs": [
    {
     "data": {
      "text/plain": [
       "-1"
      ]
     },
     "execution_count": 25,
     "metadata": {},
     "output_type": "execute_result"
    }
   ],
   "source": [
    "# 7.2.6 라플라시안 엣지 검출\n",
    "import numpy as np, cv2\n",
    "\n",
    "image = cv2.imread(\"images_07/dog.jpg\", cv2.IMREAD_GRAYSCALE)\n",
    "if image is None: raise Exception(\"영상 파일 읽기 오류\")\n",
    "\n",
    "# LoG\n",
    "gaus = cv2.GaussianBlur(image, (7, 7), 0, 0) # 가우시안 마스크 적용\n",
    "dst1 = cv2.Laplacian(gaus, cv2.CV_16S, 7) # 라플라시안 수행\n",
    "\n",
    "# DoG\n",
    "gaus1 = cv2.GaussianBlur(image, (3, 3), 0) # 가우시안 1\n",
    "gaus2 = cv2.GaussianBlur(gaus1, (9, 9), 0) # 가우시안 2\n",
    "dst2 = gaus1 - gaus2 # DoG\n",
    "\n",
    "cv2.imshow(\"image\", image)\n",
    "cv2.imshow(\"LoG\", dst1.astype('uint8'))\n",
    "cv2.imshow(\"DoG\", dst2)\n",
    "cv2.waitKey(0)\n",
    "\n"
   ]
  },
  {
   "cell_type": "markdown",
   "metadata": {},
   "source": [
    "##### 캐니 엣지 검출\n",
    "\n",
    "검출 단계\n",
    "1. 블러링(가우시안 필터)을 통한 노이즈 제거\n",
    "2. 화소 기울기의 강도와 방향 검출 (0, 45, 90, 135)\n",
    "3. 비최대치 억제 (이웃하는 화소보다 크면 유지, 아니면 제거)\n",
    "4. 이력 임계값으로 에지 추출(소벨 마스크) : 낮은 값이 낮은 임계치보다 작고, 높은 값이 높은 임계치보다 커야만 엣지라고 하겠다."
   ]
  },
  {
   "cell_type": "code",
   "execution_count": 26,
   "metadata": {},
   "outputs": [
    {
     "data": {
      "text/plain": [
       "-1"
      ]
     },
     "execution_count": 26,
     "metadata": {},
     "output_type": "execute_result"
    }
   ],
   "source": [
    "# 7.2.8 캐니 엣지 검출\n",
    "import numpy as np, cv2\n",
    "\n",
    "# 비최대치 억제 함수\n",
    "def nonmax_supperssion(sobel, direct):\n",
    "    rows, cols = sobel.shape[:2]\n",
    "    dst = np.zeros((rows, cols), np.float32)\n",
    "    for i in range(1, rows-1):\n",
    "        for j in range(1, cols-1):\n",
    "            values = sobel[i-1:i+2, j-1:j+2].flatten() # 중심 엣지 주변 9개 화소 가져옴\n",
    "            first = [3, 0, 1, 2] # 이웃화소 좌표 4개\n",
    "            id = first[direct[i, j]] # 현재 방향의 첫 번째 이웃 화소\n",
    "            v1, v2 = values[id], values[8-id] # 두 이웃 화소\n",
    "\n",
    "            dst[i, j] = sobel[i, j] if (v1 < sobel[i, j] > v2) else 0 # 비최대치 억제\n",
    "    return dst\n",
    "\n",
    "# 엣지 추적 함수\n",
    "def trace(max_sobel, i, j, low):\n",
    "    h, w = max_sobel.shape\n",
    "    if (0 <= i < h and 0 <= j < w) == False: return # 추적 화소 범위 확인\n",
    "    if pos_ck[i, j] > 0 and max_sobel[i, j] > low:\n",
    "        ############# 여기 아래가 수행이 안됨\n",
    "        print('hello')\n",
    "        pos_ck[i, j] = 255 # 추적 좌표 완료 표시\n",
    "        canny[i, j] = 255 # 엣지 지정\n",
    "\n",
    "        # 재귀 호출\n",
    "        trace(max_sobel, i-1, j-1, low)\n",
    "        trace(max_sobel, i, j-1, low)\n",
    "        trace(max_sobel, i+1, j-1, low)\n",
    "        trace(max_sobel, i-1, j, low)\n",
    "        trace(max_sobel, i, j, low)\n",
    "        trace(max_sobel, i+1, j, low)\n",
    "        trace(max_sobel, i-1, j+1, low)\n",
    "        trace(max_sobel, i, j+1, low)\n",
    "        trace(max_sobel, i+1, j+1, low)\n",
    "\n",
    "\n",
    "# 이력 임계 처리 수행 함수\n",
    "def hysteresis_th(max_sobel, low, high):\n",
    "    rows, cols = max_sobel.shape[:2]\n",
    "    for i in range(1, rows-1):\n",
    "        for j in range(1, cols-1):\n",
    "            if max_sobel[i, j] >= high: trace(max_sobel, i, j, low) # 높은 임계값 이상 시 추적\n",
    "\n",
    "\n",
    "image = cv2.imread(\"images_07/canny.jpg\", cv2.IMREAD_GRAYSCALE)\n",
    "if image is None: raise Exception(\"영상 파일 읽기 오류\")\n",
    "\n",
    "pos_ck = np.zeros(image.shape[:2], np.uint8) # 추적 완료 점검 행렬\n",
    "canny = np.zeros(image.shape[:2], np.uint8) # 캐니 엣지 행렬\n",
    "\n",
    "# 캐니 엣지 검출\n",
    "gaus_img = cv2.GaussianBlur(image, (5, 5), 0.3)\n",
    "Gx = cv2.Sobel(np.float32(gaus_img), cv2.CV_32F, 1, 0, 3) # x방향 마스크\n",
    "Gy = cv2.Sobel(np.float32(gaus_img), cv2.CV_32F, 0, 1, 3) # y방향 마스크\n",
    "sobel = cv2.magnitude(Gx, Gy) \n",
    "\n",
    "directs = cv2.phase(Gx, Gy) / (np.pi/4) # 엣지 기울기 계산 및 근사\n",
    "directs = directs.astype(int) % 4\n",
    "max_sobel = nonmax_supperssion(sobel, directs)\n",
    "hysteresis_th(max_sobel, 100, 150) # 이력 임계 값\n",
    "\n",
    "canny2 = cv2.Canny(image, 100, 150)\n",
    "\n",
    "cv2.imshow(\"image\", image)\n",
    "cv2.imshow(\"Canny\", canny)\n",
    "cv2.imshow(\"CV Canny\", canny2)\n",
    "cv2.waitKey(0)\n"
   ]
  },
  {
   "cell_type": "code",
   "execution_count": null,
   "metadata": {},
   "outputs": [],
   "source": []
  }
 ],
 "metadata": {
  "interpreter": {
   "hash": "2b6024cb2edbfebdd70461c66559173aa04dec10d8798ddfdc8d51cdb4582a6b"
  },
  "kernelspec": {
   "display_name": "Python 3.9.0 64-bit",
   "language": "python",
   "name": "python3"
  },
  "language_info": {
   "codemirror_mode": {
    "name": "ipython",
    "version": 3
   },
   "file_extension": ".py",
   "mimetype": "text/x-python",
   "name": "python",
   "nbconvert_exporter": "python",
   "pygments_lexer": "ipython3",
   "version": "3.9.0"
  },
  "orig_nbformat": 4
 },
 "nbformat": 4,
 "nbformat_minor": 2
}
