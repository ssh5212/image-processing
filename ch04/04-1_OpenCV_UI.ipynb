{
 "cells": [
  {
   "cell_type": "markdown",
   "metadata": {},
   "source": [
    "### 4.1 윈도우 제어\n",
    "\n",
    "영상처리 : 2차원 행렬에 대한 연산"
   ]
  },
  {
   "cell_type": "code",
   "execution_count": 3,
   "metadata": {},
   "outputs": [],
   "source": [
    "# 4.1.1 윈도우 이동\n",
    "import numpy as np\n",
    "import cv2\n",
    "\n",
    "image = np.zeros((200,400), np.uint8)\n",
    "image[:] = 200 # uint로 표현 가능한 색상은 0~255 (0이 검정, 255가 흰색)\n",
    "\n",
    "title1, title2 = 'position1', 'position2'\n",
    "cv2.namedWindow(title1, cv2.WINDOW_AUTOSIZE) # WINDOW_AUTOSIZE : 초기에 설정된 크기가 유지(Default) <-> normal : 윈도우가 늘어나거나 줄어들 때 꽉 채움\n",
    "cv2.namedWindow(title2) # namedWindw : 윈도우 이름 설정\n",
    "cv2.moveWindow(title1, 150, 150) # x, y좌표로 이동\n",
    "cv2.moveWindow(title2, 400, 50)\n",
    "\n",
    "cv2.imshow(title1, image) # 윈도우 출력\n",
    "cv2.imshow(title2, image)\n",
    "cv2.waitKey(0)\n",
    "cv2.destroyAllWindows()\n"
   ]
  },
  {
   "cell_type": "code",
   "execution_count": 4,
   "metadata": {},
   "outputs": [],
   "source": [
    "# 4.1.2 윈도우 크기 변경\n",
    "import numpy as np\n",
    "import cv2\n",
    "\n",
    "image = np.zeros((200, 300), np.uint8)\n",
    "image.fill(255)\n",
    "\n",
    "title1, title2 = 'AUTOSIZE', 'NORMAL'\n",
    "cv2.namedWindow(title1, cv2.WINDOW_AUTOSIZE) \n",
    "cv2.namedWindow(title2, cv2.WINDOW_NORMAL)\n",
    "\n",
    "cv2.imshow(title1, image)\n",
    "cv2.imshow(title2, image)\n",
    "cv2.resizeWindow(title1, 400, 300) # 윈도우 크기가 바껴도 유지\n",
    "cv2.resizeWindow(title2, 400, 300) # 윈도우 크기에 따라 변경\n",
    "cv2.waitKey(0)\n",
    "cv2.destroyAllWindows()"
   ]
  },
  {
   "cell_type": "markdown",
   "metadata": {},
   "source": [
    "### 4.2 이벤트 처리 함수"
   ]
  },
  {
   "cell_type": "markdown",
   "metadata": {},
   "source": [
    "키보드 이벤트 : 이벤트 처리를 위해 콜백 함수를 사용함 (cv2.waitKey(), cv2.waitKeyEx())\n",
    "\n",
    "해당 윈도우가 활성화되어 있어야만 키보드 이벤트가 처리됨"
   ]
  },
  {
   "cell_type": "code",
   "execution_count": 5,
   "metadata": {},
   "outputs": [
    {
     "name": "stdout",
     "output_type": "stream",
     "text": [
      "a키 입력\n",
      "a키 입력\n",
      "a키 입력\n",
      "a키 입력\n",
      "a키 입력\n",
      "b키 입력\n"
     ]
    }
   ],
   "source": [
    "# 4.2.1 키보드 이벤트\n",
    "import numpy as np\n",
    "import cv2\n",
    "\n",
    "switch_case = {\n",
    "\tord('a'): \"a키 입력\",\n",
    "\tord('b'): \"b키 입력\",\n",
    "\t0x41 : \"A키 입력\",\n",
    "\tint('0x42', 16) : \"B키 입력\",\n",
    "\t2424832 : \"왼쪽 화살표키 입력\"\n",
    "}\n",
    "\n",
    "image = np.ones((200, 300), np.uint8)\n",
    "cv2.namedWindow('keyboard Event')\n",
    "cv2.imshow(\"keyboard Event\", image)\n",
    "\n",
    "while True:\n",
    "\tkey = cv2.waitKeyEx(100) # 100ms 동안 키 이벤트 대기\n",
    "\tif key == 27: break # ESC\n",
    "\n",
    "\ttry:\n",
    "\t\tresult = switch_case[key]\n",
    "\t\tprint(result)\n",
    "\texcept KeyError:\n",
    "\t\tresult = -1\n",
    "\n"
   ]
  },
  {
   "cell_type": "markdown",
   "metadata": {},
   "source": [
    "마우스 이벤트 : onMouse()로 콜백 함수 구현, cv2.setMouseCallback()로 콜백 함수를 시스템에 등록\n"
   ]
  },
  {
   "cell_type": "code",
   "execution_count": 2,
   "metadata": {},
   "outputs": [
    {
     "name": "stdout",
     "output_type": "stream",
     "text": [
      "마우스 왼쪽 누르기\n",
      "마우스 오른쪽 누르기\n",
      "마우스 오른쪽 떼기\n",
      "마우스 왼쪽 누르기\n",
      "마우스 오른쪽 누르기\n",
      "마우스 오른쪽 떼기\n"
     ]
    }
   ],
   "source": [
    "# 4.2.2 마우스 이벤트\n",
    "import numpy as np\n",
    "import cv2\n",
    "\n",
    "def onMouse(event, x, y, flags, param):\n",
    "\tif event == cv2.EVENT_LBUTTONDOWN:\n",
    "\t\tprint(\"마우스 왼쪽 누르기\")\n",
    "\telif event == cv2.EVENT_RBUTTONDOWN:\n",
    "\t\tprint(\"마우스 오른쪽 누르기\")\n",
    "\telif event == cv2.EVENT_RBUTTONUP:\n",
    "\t\tprint(\"마우스 오른쪽 떼기\")\n",
    "\telif event == cv2.EVENT_LBUTTONDBLCLK:\n",
    "\t\tprint(\"마우스 왼쪽 더블 클릭\")\n",
    "\n",
    "image = np.full((200, 300), 255, np.uint8) # 초기 영상 생성\n",
    "\n",
    "title1, title2 = \"Mouse Event1\", \"Mouse Event2\"\n",
    "cv2.imshow(title1, image) # 해당 윈도우에서만 마우스 이벤트가 발생함\n",
    "cv2.imshow(title2, image)\n",
    "\n",
    "cv2.setMouseCallback(title1, onMouse) # 마우스 콜백 함수\n",
    "cv2.waitKey(0) # 키 대기\n",
    "cv2.destroyAllWindows()"
   ]
  },
  {
   "cell_type": "markdown",
   "metadata": {},
   "source": [
    "트랙바 이벤트 : 일정한 범위에서 특정한 값을 선택할 때 사용하는 슬라이더 바"
   ]
  },
  {
   "cell_type": "markdown",
   "metadata": {},
   "source": [
    "![](img/04-01.png)"
   ]
  },
  {
   "cell_type": "code",
   "execution_count": 4,
   "metadata": {},
   "outputs": [
    {
     "name": "stdout",
     "output_type": "stream",
     "text": [
      "추가 화소값 =  51\n",
      "추가 화소값 =  1\n",
      "추가 화소값 =  1\n",
      "추가 화소값 =  1\n",
      "추가 화소값 =  1\n",
      "추가 화소값 =  1\n",
      "추가 화소값 =  51\n",
      "추가 화소값 =  -51\n"
     ]
    }
   ],
   "source": [
    "# 4.2.3 트랙바 이벤트\n",
    "import numpy as np\n",
    "import cv2\n",
    "\n",
    "def onChange(value): # 트랙바 콜백 함수\n",
    "\tglobal image, title\n",
    "\n",
    "\tadd_value = value - int(image[0][0])\n",
    "\tprint(\"추가 화소값 = \", add_value)\n",
    "\timage = image + add_value\n",
    "\tcv2.imshow(title, image)\n",
    "\n",
    "\n",
    "image = np.zeros((300,500), np.uint8)\n",
    "title = \"Trackbar Event\"\n",
    "cv2.imshow(title, image)\n",
    "\n",
    "cv2.createTrackbar('Bright', title, image[0][0], 255, onChange) # 시스템에 콜백 함수 등록\n",
    "cv2.waitKey(0)\n",
    "cv2.destroyAllWindows()\n"
   ]
  },
  {
   "cell_type": "code",
   "execution_count": 6,
   "metadata": {},
   "outputs": [],
   "source": [
    "# 4.2.4 마우스 및 트랙바 이벤트\n",
    "import numpy as np\n",
    "import cv2\n",
    "\n",
    "\n",
    "def onChange(value): # 트랙바 콜백 함수\n",
    "\tglobal image, title\n",
    "\n",
    "\tadd_value = value - int(image[0][0])\n",
    "\timage = image + add_value\n",
    "\tcv2.imshow(title, image)\n",
    "\n",
    "\n",
    "def onMouse(event, x, y, flags, param): # 마우스 콜백 함수\n",
    "\tglobal image, bar_name\n",
    "\n",
    "\tif event == cv2.EVENT_RBUTTONDOWN:\n",
    "\t\tif (image[0][0] < 246): image = image + 10\n",
    "\t\tcv2.setTrackbarPos(bar_name, title, image[0][0]) # 트랙바 위치 변경\n",
    "\t\tcv2.imshow(title, image)\n",
    "\n",
    "\telif event == cv2.EVENT_LBUTTONDOWN:\n",
    "\t\tif (image[0][0] >= 0): image = image - 10\n",
    "\t\tcv2.setTrackbarPos(bar_name, title, image[0][0]) # 트랙바 위치 변경\n",
    "\t\tcv2.imshow(title, image)\n",
    "\n",
    "\n",
    "image = np.zeros((300,500), np.uint8)\n",
    "title = \"Trackbar Event\"\n",
    "bar_name = \"Bright\" # 이름을 이용하여 트랙바를 조절\n",
    "cv2.imshow(title, image)\n",
    "\n",
    "cv2.createTrackbar('Bright', title, image[0][0], 255, onChange) # 트랙바 콜백 함수 등록\n",
    "cv2.setMouseCallback(title, onMouse) # 마우스 콜백 함수 등록\n",
    "cv2.waitKey(0)\n",
    "cv2.destroyAllWindows()\n",
    "\n",
    "\n"
   ]
  },
  {
   "cell_type": "markdown",
   "metadata": {},
   "source": [
    "직선 및 사각형 그리기 : 시작점과 끝점이 있으면 그릴 수 있음"
   ]
  },
  {
   "cell_type": "code",
   "execution_count": 8,
   "metadata": {},
   "outputs": [],
   "source": [
    "# 4.3.1 직선 및 사각형 그리기\n",
    "import numpy as np\n",
    "import cv2\n",
    "\n",
    "blue, green, red = (255,0,0), (0, 255, 0), (0,0,255) # 색상 선언\n",
    "image = np.zeros((400, 600, 3), np.uint8)\n",
    "image[:] = (255,255,255)\n",
    "\n",
    "pt1, pt2 = (50,50), (250,150) \n",
    "pt3, pt4 = (400,150), (500,50) \n",
    "roi = (50, 200, 200, 100) \n",
    "\n",
    "# 직선 그리기\n",
    "cv2.line(image, pt1, pt2, red)\n",
    "cv2.line(image, pt3, pt4, green, 3, cv2.LINE_AA) \n",
    "\n",
    "# 사각형 그리기\n",
    "cv2.rectangle(image, pt1, pt2, blue, 3) # 두 좌표를 이용하여 그림\n",
    "cv2.rectangle(image, roi, red, 3, cv2.LINE_8) # x, y, w, h를 이용함\n",
    "cv2.rectangle(image, (400, 200, 100, 100), green, cv2.FILLED) # x, y, w, h를 이용함\n",
    "\n",
    "cv2.imshow(\"Line Rectangle\", image)\n",
    "cv2.waitKey(0)\n",
    "cv2.destroyAllWindows()"
   ]
  },
  {
   "cell_type": "markdown",
   "metadata": {},
   "source": [
    "글자 쓰기 : 글자의 좌표는 첫 글자의 왼쪽 아래를 기준으로 함"
   ]
  },
  {
   "cell_type": "code",
   "execution_count": 9,
   "metadata": {},
   "outputs": [
    {
     "data": {
      "text/plain": [
       "-1"
      ]
     },
     "execution_count": 9,
     "metadata": {},
     "output_type": "execute_result"
    }
   ],
   "source": [
    "# 4.3.2 글자 쓰기\n",
    "import numpy as np\n",
    "import cv2\n",
    "\n",
    "olive, violet, brown = (128,128,0), (221,160,221), (42,42,165)\n",
    "pt1, pt2 = (50, 230), (50, 310)\n",
    "\n",
    "image = np.zeros((350, 500, 3), np.uint8)\n",
    "image.fill(255)\n",
    "\n",
    "cv2.putText(image, 'SIMPLEX', (50,50), cv2.FONT_HERSHEY_SIMPLEX, 2, brown)\n",
    "cv2.putText(image, 'DUPLEX', (50,130), cv2.FONT_HERSHEY_DUPLEX, 3, olive)\n",
    "cv2.putText(image, 'SIMPLEX', pt1, cv2.FONT_HERSHEY_TRIPLEX, 2, violet)\n",
    "fontFace = cv2.FONT_HERSHEY_PLAIN | cv2.FONT_ITALIC \n",
    "cv2.putText(image, 'ITALIC', pt2, fontFace, 4, violet)\n",
    "\n",
    "\n",
    "cv2.imshow(\"Line Rectangle\", image)\n",
    "cv2.waitKey(0)"
   ]
  },
  {
   "cell_type": "markdown",
   "metadata": {},
   "source": [
    "원 그리기 : 중심 좌표, 반지름, 선의 색상은 무조건 지정해야 함"
   ]
  },
  {
   "cell_type": "code",
   "execution_count": 11,
   "metadata": {},
   "outputs": [
    {
     "data": {
      "text/plain": [
       "-1"
      ]
     },
     "execution_count": 11,
     "metadata": {},
     "output_type": "execute_result"
    }
   ],
   "source": [
    "# 4.3.3 원 그리기\n",
    "import numpy as np\n",
    "import cv2\n",
    "\n",
    "olive, violet, brown = (128,128,0), (221,160,221), (42,42,165) \n",
    "white, black = (255,255,255), (0,0,0)\n",
    "\n",
    "image = np.full((300, 500, 3), white, np.uint8) # 컬러 생성 및 초기화\n",
    "\n",
    "center = (image.shape[1]//2, image.shape[0]//2) # 영상의 중심 좌표\n",
    "pt1, pt2 = (300, 50), (100, 220)\n",
    "\n",
    "# 원 그리기\n",
    "cv2.circle(image, center, 100, olive)\n",
    "cv2.circle(image, pt1, 50, 2)\n",
    "cv2.circle(image, pt2, 70, brown, -1) # 색상으로 채움\n",
    "\n",
    "cv2.imshow(\"Circle\", image)\n",
    "cv2.waitKey(0)"
   ]
  },
  {
   "cell_type": "markdown",
   "metadata": {},
   "source": [
    "타원 그리기 : 축이 바뀌는 정도(angle), 가운데(center), 가로 반지름과 세로반지름(axes), 호의 시작각도, 호의 종료각도 등을 필요로 함\n",
    "\n",
    "타원의 각도 : 3시 방향은 0도, 6시 방향은 90도, 9시 방향은 180도\n"
   ]
  },
  {
   "cell_type": "code",
   "execution_count": 12,
   "metadata": {},
   "outputs": [
    {
     "data": {
      "text/plain": [
       "-1"
      ]
     },
     "execution_count": 12,
     "metadata": {},
     "output_type": "execute_result"
    }
   ],
   "source": [
    "# 4.3.4 타원 및 호 그리기\n",
    "import numpy as np\n",
    "import cv2\n",
    "\n",
    "olive, violet, brown = (128,128,0), (221,160,221), (42,42,165)\n",
    "white, black = (255,255,255), (0,0,0)\n",
    "\n",
    "image = np.full((300, 700, 3), white, np.uint8)\n",
    "\n",
    "pt1, pt2 = (180, 150), (550, 150) # 타원의 중심점\n",
    "size = (120,60) # 반지름\n",
    "\n",
    "# cv2.ellipse(윈도우, 중심점, (가로 반지름, 세로 반지름), 축각도, 시작각도, 끝각도, 색상)\n",
    "# 타원 그리기\n",
    "cv2.ellipse(image, pt1, size, 0,0,360,olive,1)\n",
    "cv2.ellipse(image, pt1, size, 90,0,360,olive,1)\n",
    "\n",
    "# 호 그리기\n",
    "cv2.ellipse(image, pt1, size, 0,30,270,black,3)\n",
    "\n",
    "\n",
    "cv2.imshow(\"Circle\", image)\n",
    "cv2.waitKey(0)\n"
   ]
  },
  {
   "cell_type": "code",
   "execution_count": null,
   "metadata": {},
   "outputs": [],
   "source": []
  }
 ],
 "metadata": {
  "interpreter": {
   "hash": "2b6024cb2edbfebdd70461c66559173aa04dec10d8798ddfdc8d51cdb4582a6b"
  },
  "kernelspec": {
   "display_name": "Python 3.9.0 64-bit",
   "language": "python",
   "name": "python3"
  },
  "language_info": {
   "codemirror_mode": {
    "name": "ipython",
    "version": 3
   },
   "file_extension": ".py",
   "mimetype": "text/x-python",
   "name": "python",
   "nbconvert_exporter": "python",
   "pygments_lexer": "ipython3",
   "version": "3.9.0"
  },
  "orig_nbformat": 4
 },
 "nbformat": 4,
 "nbformat_minor": 2
}
