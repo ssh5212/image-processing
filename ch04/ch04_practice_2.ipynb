{
 "cells": [
  {
   "cell_type": "markdown",
   "metadata": {},
   "source": [
    "특정 배율이 아닌 경우에 픽셀을 늘리는 방법"
   ]
  },
  {
   "cell_type": "code",
   "execution_count": 1,
   "metadata": {},
   "outputs": [
    {
     "ename": "Exception",
     "evalue": "파일 에러",
     "output_type": "error",
     "traceback": [
      "\u001b[1;31m---------------------------------------------------------------------------\u001b[0m",
      "\u001b[1;31mException\u001b[0m                                 Traceback (most recent call last)",
      "\u001b[1;32md:\\github\\image-processing\\ch04\\ch04_practice_2.ipynb Cell 2'\u001b[0m in \u001b[0;36m<module>\u001b[1;34m\u001b[0m\n\u001b[0;32m      <a href='vscode-notebook-cell:/d%3A/github/image-processing/ch04/ch04_practice_2.ipynb#ch0000001?line=1'>2</a>\u001b[0m \u001b[39mimport\u001b[39;00m \u001b[39mnumpy\u001b[39;00m \u001b[39mas\u001b[39;00m \u001b[39mnp\u001b[39;00m\u001b[39m,\u001b[39m \u001b[39mcv2\u001b[39;00m\n\u001b[0;32m      <a href='vscode-notebook-cell:/d%3A/github/image-processing/ch04/ch04_practice_2.ipynb#ch0000001?line=3'>4</a>\u001b[0m image \u001b[39m=\u001b[39m cv2\u001b[39m.\u001b[39mimread(\u001b[39m\"\u001b[39m\u001b[39mimages/read_color.jpg\u001b[39m\u001b[39m\"\u001b[39m, cv2\u001b[39m.\u001b[39mIMREAD_COLOR)\n\u001b[1;32m----> <a href='vscode-notebook-cell:/d%3A/github/image-processing/ch04/ch04_practice_2.ipynb#ch0000001?line=4'>5</a>\u001b[0m \u001b[39mif\u001b[39;00m image \u001b[39mis\u001b[39;00m \u001b[39mNone\u001b[39;00m: \u001b[39mraise\u001b[39;00m \u001b[39mException\u001b[39;00m(\u001b[39m\"\u001b[39m\u001b[39m파일 에러\u001b[39m\u001b[39m\"\u001b[39m)\n\u001b[0;32m      <a href='vscode-notebook-cell:/d%3A/github/image-processing/ch04/ch04_practice_2.ipynb#ch0000001?line=6'>7</a>\u001b[0m x \u001b[39m=\u001b[39m \u001b[39m200\u001b[39m\n\u001b[0;32m      <a href='vscode-notebook-cell:/d%3A/github/image-processing/ch04/ch04_practice_2.ipynb#ch0000001?line=7'>8</a>\u001b[0m y \u001b[39m=\u001b[39m \u001b[39m300\u001b[39m\n",
      "\u001b[1;31mException\u001b[0m: 파일 에러"
     ]
    }
   ],
   "source": [
    "# 원본\n",
    "# import numpy as np, cv2\n",
    "\n",
    "# image = cv2.imread(\"images/read_color.jpg\", cv2.IMREAD_COLOR)\n",
    "# if image is None: raise Exception(\"파일 에러\")\n",
    "\n",
    "# x = 200\n",
    "# y = 300\n",
    "\n",
    "# image2 = cv2.resize(image, (x, y), interpolation= cv2.INTER_LINEAR)\n",
    "# image3 = np.zeros((x, y, 3), image.dtype)\n",
    "\n",
    "\n",
    "\n",
    "\n",
    "\n",
    "\n",
    "# cv2.imshow(\"inter1\", image2)\n",
    "# cv2.imshow(\"inter2\", image3)\n",
    "\n",
    "# cv2.waitKey(0)\n",
    "\n"
   ]
  },
  {
   "cell_type": "code",
   "execution_count": null,
   "metadata": {},
   "outputs": [],
   "source": [
    "# 특정 배율이 아닌 경우에 픽셀을 늘리는 방법\n",
    "import numpy as np, cv2\n",
    "\n",
    "image = cv2.imread(\"images/read_color.jpg\", cv2.IMREAD_COLOR)\n",
    "if image is None: raise Exception(\"파일 에러\")\n",
    "\n",
    "x = 200\n",
    "y = 300\n",
    "\n",
    "image2 = cv2.resize(image, (x, y), interpolation= cv2.INTER_LINEAR)\n",
    "image3 = np.zeros((x, y, 3), image.dtype)\n",
    "\n",
    "\n",
    "\n",
    "\n",
    "\n",
    "\n",
    "cv2.imshow(\"inter1\", image2)\n",
    "cv2.imshow(\"inter2\", image3)\n",
    "\n",
    "cv2.waitKey(0)\n",
    "\n"
   ]
  }
 ],
 "metadata": {
  "interpreter": {
   "hash": "ee8e767f248e676331efd5b15066fe2f4c07a210f3df6062615d104073107a4a"
  },
  "kernelspec": {
   "display_name": "Python 3.9.0 64-bit",
   "language": "python",
   "name": "python3"
  },
  "language_info": {
   "codemirror_mode": {
    "name": "ipython",
    "version": 3
   },
   "file_extension": ".py",
   "mimetype": "text/x-python",
   "name": "python",
   "nbconvert_exporter": "python",
   "pygments_lexer": "ipython3",
   "version": "3.9.0"
  },
  "orig_nbformat": 4
 },
 "nbformat": 4,
 "nbformat_minor": 2
}
