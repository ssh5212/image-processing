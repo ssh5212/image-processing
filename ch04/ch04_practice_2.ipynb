{
 "cells": [
  {
   "cell_type": "markdown",
   "metadata": {},
   "source": [
    "특정 배율이 아닌 경우에 픽셀을 늘리는 방법"
   ]
  },
  {
   "cell_type": "code",
   "execution_count": 1,
   "metadata": {},
   "outputs": [],
   "source": [
    "# 원본\n",
    "# import numpy as np, cv2\n",
    "\n",
    "# image = cv2.imread(\"images/read_color.jpg\", cv2.IMREAD_COLOR)\n",
    "# if image is None: raise Exception(\"파일 에러\")\n",
    "\n",
    "# x = 200\n",
    "# y = 300\n",
    "\n",
    "# image2 = cv2.resize(image, (x, y), interpolation= cv2.INTER_LINEAR)\n",
    "# image3 = np.zeros((x, y, 3), image.dtype)\n",
    "\n",
    "\n",
    "\n",
    "\n",
    "\n",
    "\n",
    "# cv2.imshow(\"inter1\", image2)\n",
    "# cv2.imshow(\"inter2\", image3)\n",
    "\n",
    "# cv2.waitKey(0)\n",
    "\n"
   ]
  },
  {
   "cell_type": "code",
   "execution_count": 1,
   "metadata": {},
   "outputs": [
    {
     "name": "stdout",
     "output_type": "stream",
     "text": [
      "(300, 400, 3)\n",
      "(200, 300, 3)\n",
      "(200, 300, 3)\n"
     ]
    },
    {
     "data": {
      "text/plain": [
       "-1"
      ]
     },
     "execution_count": 1,
     "metadata": {},
     "output_type": "execute_result"
    }
   ],
   "source": [
    "# 특정 배율이 아닌 경우에 픽셀을 늘리는 방법\n",
    "import numpy as np, cv2\n",
    "\n",
    "image = cv2.imread(\"images_04/read_color.jpg\", cv2.IMREAD_COLOR)\n",
    "if image is None: raise Exception(\"파일 에러\")\n",
    "\n",
    "x = 200\n",
    "y = 300\n",
    "\n",
    "\n",
    "image2 = cv2.resize(image, (y, x), interpolation= cv2.INTER_NEAREST) \n",
    "image3 = np.zeros((x, y, 3), image.dtype) # 얘는 또 반대로 해야 알맞게 나오는건가요???????????? 행열이 헷갈리는 경우가 있는데 혹시 어떻게 하시는지?\n",
    "\n",
    "# 세로 300, 가로 200으로 바꿈\n",
    "print(image.shape) # 원본 : 400x300\n",
    "print(image2.shape) # 수정 : 300x200\n",
    "print(image3.shape) # 수정 : 300x200\n",
    "\n",
    "# 바뀔 녀석이 분모, 최종 크기가 분자\n",
    "for h in range(image3.shape[0]):\n",
    "    for w in range(image3.shape[1]):\n",
    "        image3[h][w] = image[int(np.around(h * len(image) / len(image3)))][int(np.around(w * len(image[0]) / len(image3[0])))]\n",
    "\n",
    "\n",
    "cv2.imshow(\"inter1\", image2)\n",
    "cv2.imshow(\"inter2\", image3)\n",
    "\n",
    "cv2.waitKey(0)\n",
    "\n"
   ]
  },
  {
   "cell_type": "code",
   "execution_count": null,
   "metadata": {},
   "outputs": [],
   "source": []
  }
 ],
 "metadata": {
  "interpreter": {
   "hash": "ee8e767f248e676331efd5b15066fe2f4c07a210f3df6062615d104073107a4a"
  },
  "kernelspec": {
   "display_name": "Python 3.9.0 64-bit",
   "language": "python",
   "name": "python3"
  },
  "language_info": {
   "codemirror_mode": {
    "name": "ipython",
    "version": 3
   },
   "file_extension": ".py",
   "mimetype": "text/x-python",
   "name": "python",
   "nbconvert_exporter": "python",
   "pygments_lexer": "ipython3",
   "version": "3.9.0"
  },
  "orig_nbformat": 4
 },
 "nbformat": 4,
 "nbformat_minor": 2
}
