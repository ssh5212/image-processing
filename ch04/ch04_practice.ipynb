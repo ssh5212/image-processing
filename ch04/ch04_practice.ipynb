{
 "cells": [
  {
   "cell_type": "markdown",
   "metadata": {},
   "source": [
    "### 보간법을 이용하여 계산\n",
    "\n",
    "이미지3을 작업하여 이미지2와 동일하게 만드세요"
   ]
  },
  {
   "cell_type": "code",
   "execution_count": null,
   "metadata": {},
   "outputs": [],
   "source": [
    "# 원본\n",
    "# import numpy as np, cv2\n",
    "\n",
    "# image = cv2.imread(\"images/read_color.jpg\", cv2.IMREAD_COLOR)\n",
    "# if image is None: raise Exception(\"파일 에러\")\n",
    "\n",
    "# image2 = cv2.resize(image, (image.shape[1]*2,image.shape[0]*2), interpolation= cv2.INTER_LINEAR)\n",
    "# image3 = np.zeros((image.shape[0]*2,image.shape[1]*2, 3), image.dtype)\n",
    "\n",
    "\n",
    "\n",
    "\n",
    "\n",
    "\n",
    "# cv2.imshow(\"inter1\", image2)\n",
    "# cv2.imshow(\"inter2\", image3)\n",
    "\n",
    "# cv2.waitKey(0)\n"
   ]
  },
  {
   "cell_type": "code",
   "execution_count": 1,
   "metadata": {},
   "outputs": [
    {
     "data": {
      "text/plain": [
       "-1"
      ]
     },
     "execution_count": 1,
     "metadata": {},
     "output_type": "execute_result"
    }
   ],
   "source": [
    "import numpy as np, cv2\n",
    "\n",
    "image = cv2.imread(\"images_04/read_color.jpg\", cv2.IMREAD_COLOR)\n",
    "if image is None: raise Exception(\"파일 에러\")\n",
    "\n",
    "image2 = cv2.resize(image, (image.shape[1]*2,image.shape[0]*2), interpolation= cv2.INTER_LINEAR)\n",
    "image3 = np.zeros((image.shape[0]*2,image.shape[1]*2, 3), image.dtype)\n",
    "\n",
    "\n",
    "\n",
    "\n",
    "\n",
    "\n",
    "cv2.imshow(\"inter1\", image2)\n",
    "cv2.imshow(\"inter2\", image3)\n",
    "\n",
    "cv2.waitKey(0)\n",
    "\n"
   ]
  },
  {
   "cell_type": "code",
   "execution_count": null,
   "metadata": {},
   "outputs": [],
   "source": []
  },
  {
   "cell_type": "code",
   "execution_count": null,
   "metadata": {},
   "outputs": [],
   "source": []
  }
 ],
 "metadata": {
  "interpreter": {
   "hash": "2b6024cb2edbfebdd70461c66559173aa04dec10d8798ddfdc8d51cdb4582a6b"
  },
  "kernelspec": {
   "display_name": "Python 3.9.0 64-bit",
   "language": "python",
   "name": "python3"
  },
  "language_info": {
   "codemirror_mode": {
    "name": "ipython",
    "version": 3
   },
   "file_extension": ".py",
   "mimetype": "text/x-python",
   "name": "python",
   "nbconvert_exporter": "python",
   "pygments_lexer": "ipython3",
   "version": "3.9.0"
  },
  "orig_nbformat": 4
 },
 "nbformat": 4,
 "nbformat_minor": 2
}
