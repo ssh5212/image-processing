{
 "cells": [
  {
   "cell_type": "markdown",
   "metadata": {},
   "source": [
    "### 4.4 영상파일 처리 \n",
    "\n",
    "##### 4.4.1 영상 -> 행렬"
   ]
  },
  {
   "cell_type": "code",
   "execution_count": 1,
   "metadata": {},
   "outputs": [
    {
     "name": "stdout",
     "output_type": "stream",
     "text": [
      "행렬 좌표 (100, 100) 화소값\n",
      "gray2gray 106\n",
      "gray2color [106 106 106]\n",
      "   gray2gray: depth(uint8), channels(1) -> mat_type(CV_8UC1)\n",
      "  gray2color: depth(uint8), channels(3) -> mat_type(CV_8UC3)\n"
     ]
    },
    {
     "data": {
      "text/plain": [
       "-1"
      ]
     },
     "execution_count": 1,
     "metadata": {},
     "output_type": "execute_result"
    }
   ],
   "source": [
    "# 4.4.1 명암 영상파일 읽기\n",
    "import cv2\n",
    "\n",
    "# 행렬의 정보를 출력하는 함수\n",
    "def print_matInfo(name, image):\n",
    "    if image.dtype == 'uint8': mat_type = 'CV_8U'\n",
    "    elif image.dtype == 'int8': mat_type = 'CV_8S'\n",
    "    elif image.dtype == 'uint16': mat_type = 'CV_16U'\n",
    "    elif image.dtype == 'int16': mat_type = 'CV_16S'\n",
    "    elif image.dtype == 'float32': mat_type = 'CV_32F'\n",
    "    elif image.dtype == 'float64': mat_type = 'CV_64F'\n",
    "    nchannel = 3 if image.ndim == 3 else 1\n",
    "\n",
    "    print(\"%12s: depth(%s), channels(%s) -> mat_type(%sC%d)\" %(name, image.dtype, nchannel, mat_type, nchannel))\n",
    "\n",
    "\n",
    "title1, title2 = 'gray2gray', 'gray2color'\n",
    "# cv2.imread(파일명, 컬러타입) # 영상을 읽어와 행렬로 변환\n",
    "gray2gray = cv2.imread(\"images_04/read_gray.jpg\", cv2.IMREAD_GRAYSCALE) # 명암도\n",
    "gray2color = cv2.imread(\"images_04/read_gray.jpg\", cv2.IMREAD_COLOR) # 컬러 영상\n",
    "\n",
    "if gray2gray is None or gray2color is None:\n",
    "    raise Exception(\"영상파일 읽기 에러\")\n",
    "\n",
    "print(\"행렬 좌표 (100, 100) 화소값\")\n",
    "print(\"%s %s\" % (title1, gray2gray[100, 100])) # 특정 행렬의 값 출력 (gray라서 하나만 출력됨)\n",
    "print(\"%s %s\" % (title2, gray2color[100, 100])) # 특정 행렬의 값 출력 (grb 값이 출력됨)\n",
    "\n",
    "print_matInfo(title1, gray2gray)\n",
    "print_matInfo(title2, gray2color)\n",
    "\n",
    "cv2.imshow(title1, gray2gray)\n",
    "cv2.imshow(title2, gray2color)\n",
    "cv2.waitKey(0)\n",
    "\n",
    "\n",
    "\n",
    "\n"
   ]
  },
  {
   "cell_type": "markdown",
   "metadata": {},
   "source": [
    "위 결과의 2color는 gray를 3채널로 만들었기 때문에 grb 모든 채널이 동일한 값을 가짐\n",
    "\n",
    "-> 2gray(명암도) 사진과 동일한 결과를 얻음"
   ]
  },
  {
   "cell_type": "code",
   "execution_count": 3,
   "metadata": {},
   "outputs": [
    {
     "name": "stdout",
     "output_type": "stream",
     "text": [
      "행렬 좌표 (100, 100) 화소값\n",
      "color2gray 137\n",
      "color2color [197 145  98]\n",
      "  color2gray: depth(uint8), channels(1) -> mat_type(CV_8UC1)\n",
      " color2color: depth(uint8), channels(3) -> mat_type(CV_8UC3)\n"
     ]
    },
    {
     "data": {
      "text/plain": [
       "-1"
      ]
     },
     "execution_count": 3,
     "metadata": {},
     "output_type": "execute_result"
    }
   ],
   "source": [
    "# 4.4.2 컬러 영상파일 읽기\n",
    "import cv2\n",
    "\n",
    "# 행렬의 정보를 출력하는 함수\n",
    "def print_matInfo(name, image):\n",
    "    if image.dtype == 'uint8': mat_type = 'CV_8U'\n",
    "    elif image.dtype == 'int8': mat_type = 'CV_8S'\n",
    "    elif image.dtype == 'uint16': mat_type = 'CV_16U'\n",
    "    elif image.dtype == 'int16': mat_type = 'CV_16S'\n",
    "    elif image.dtype == 'float32': mat_type = 'CV_32F'\n",
    "    elif image.dtype == 'float64': mat_type = 'CV_64F'\n",
    "    nchannel = 3 if image.ndim == 3 else 1\n",
    "\n",
    "    print(\"%12s: depth(%s), channels(%s) -> mat_type(%sC%d)\" %(name, image.dtype, nchannel, mat_type, nchannel))\n",
    "\n",
    "title1, title2 = 'color2gray', 'color2color'\n",
    "color2gray = cv2.imread(\"images_04/read_color.jpg\", cv2.IMREAD_GRAYSCALE) # 컬러 영상을 gray로 변경\n",
    "color2color = cv2.imread(\"images_04/read_color.jpg\", cv2.IMREAD_COLOR) # 컬러\n",
    "\n",
    "if color2gray is None or color2color is None:\n",
    "    raise Exception(\"영상파일 읽기 에러\")\n",
    "\n",
    "print(\"행렬 좌표 (100, 100) 화소값\")\n",
    "print(\"%s %s\" % (title1, color2gray[100, 100]))\n",
    "print(\"%s %s\" % (title2, color2color[100, 100]))\n",
    "\n",
    "print_matInfo(title1, color2gray)\n",
    "print_matInfo(title2, color2color)\n",
    "\n",
    "cv2.imshow(title1, color2gray)\n",
    "cv2.imshow(title2, color2color)\n",
    "cv2.waitKey(0)\n",
    "\n",
    "\n",
    "\n"
   ]
  },
  {
   "cell_type": "code",
   "execution_count": 4,
   "metadata": {},
   "outputs": [
    {
     "name": "stdout",
     "output_type": "stream",
     "text": [
      "16bit unchanged: depth(uint16), channels(3) -> mat_type(CV_16UC3)\n",
      "32bit unchanged: depth(float32), channels(3) -> mat_type(CV_32FC3)\n"
     ]
    },
    {
     "data": {
      "text/plain": [
       "-1"
      ]
     },
     "execution_count": 4,
     "metadata": {},
     "output_type": "execute_result"
    }
   ],
   "source": [
    "# 4.4.3 비트별(16, 32) 영상파일 읽기\n",
    "import cv2\n",
    "\n",
    "# 행렬의 정보를 출력하는 함수\n",
    "def print_matInfo(name, image):\n",
    "    if image.dtype == 'uint8': mat_type = 'CV_8U'\n",
    "    elif image.dtype == 'int8': mat_type = 'CV_8S'\n",
    "    elif image.dtype == 'uint16': mat_type = 'CV_16U'\n",
    "    elif image.dtype == 'int16': mat_type = 'CV_16S'\n",
    "    elif image.dtype == 'float32': mat_type = 'CV_32F'\n",
    "    elif image.dtype == 'float64': mat_type = 'CV_64F'\n",
    "    nchannel = 3 if image.ndim == 3 else 1\n",
    "\n",
    "    print(\"%12s: depth(%s), channels(%s) -> mat_type(%sC%d)\" %(name, image.dtype, nchannel, mat_type, nchannel))\n",
    "\n",
    "title1, title2 = '16bit unchanged', '32bit unchanged'\n",
    "# cv2.imread(\"파일이름, 컬러타입\")\n",
    "color2unchanged1 = cv2.imread(\"images_04/read_16.tif\", cv2.IMREAD_UNCHANGED) # 정의된 타입의 영상을 그대로 반환\n",
    "color2unchanged2 = cv2.imread(\"images_04/read_32.tif\", cv2.IMREAD_UNCHANGED)\n",
    "if color2unchanged1 is None or color2unchanged2 is None:\n",
    "    raise Exception(\"영상파일 읽기 에러\")\n",
    "\n",
    "print_matInfo(title1, color2unchanged1)\n",
    "print_matInfo(title2, color2unchanged2)\n",
    "\n",
    "cv2.imshow(title1, color2unchanged1)\n",
    "cv2.imshow(title2, color2unchanged2)\n",
    "cv2.waitKey(0)"
   ]
  },
  {
   "cell_type": "markdown",
   "metadata": {},
   "source": [
    "##### 4.4.2 행렬 -> 영상"
   ]
  },
  {
   "cell_type": "code",
   "execution_count": 7,
   "metadata": {},
   "outputs": [
    {
     "name": "stdout",
     "output_type": "stream",
     "text": [
      "완료\n"
     ]
    }
   ],
   "source": [
    "# 4.4.3 행렬을 영상으로 저장\n",
    "import cv2\n",
    "import numpy as np\n",
    "\n",
    "image = cv2.imread(\"images_04/read_color.jpg\", cv2.IMREAD_COLOR)\n",
    "if image is None: raise Exception(\"영상 파일 읽기 에러\")\n",
    "\n",
    "params_jpg = (cv2.IMWRITE_JPEG_QUALITY, 10) # jpeg 화질 설정 (1~100)\n",
    "params_png = (cv2.IMWRITE_PNG_COMPRESSION, 9) # png 압축 레벨 설정\n",
    "\n",
    "cv2.imwrite(\"images_04/result/write_test1.jpg\", image) # default 값으로 저장 (95)\n",
    "cv2.imwrite(\"images_04/result/write_test2.jpg\", image, params_jpg) # 지정한 화질로 저장\n",
    "cv2.imwrite(\"images_04/result/write_test3.png\", image, params_png)\n",
    "cv2.imwrite(\"images_04/result/write_test4.bmp\", image)\n",
    "\n",
    "cv2.imwrite(\"images_04/result/write_test5.jpg\", image, (cv2.IMWRITE_JPEG_QUALITY, 100))\n",
    "cv2.imwrite(\"images_04/result/write_test6.jpg\", image, (cv2.IMWRITE_JPEG_QUALITY, 70))\n",
    "cv2.imwrite(\"images_04/result/write_test7.jpg\", image, (cv2.IMWRITE_JPEG_QUALITY, 50))\n",
    "cv2.imwrite(\"images_04/result/write_test8.jpg\", image, (cv2.IMWRITE_JPEG_QUALITY, 30))\n",
    "\n",
    "print(\"완료\")\n",
    "\n"
   ]
  },
  {
   "cell_type": "code",
   "execution_count": 11,
   "metadata": {},
   "outputs": [
    {
     "name": "stdout",
     "output_type": "stream",
     "text": [
      "image8 행렬의 일부\n",
      " [[[189 134  91]\n",
      "  [189 134  91]\n",
      "  [189 134  91]]\n",
      "\n",
      " [[189 134  91]\n",
      "  [189 134  91]\n",
      "  [189 134  91]]]\n",
      "\n",
      "image16 행렬의 일부\n",
      " [[[48573 34438 23387]\n",
      "  [48573 34438 23387]\n",
      "  [48573 34438 23387]]\n",
      "\n",
      " [[48573 34438 23387]\n",
      "  [48573 34438 23387]\n",
      "  [48573 34438 23387]]]\n",
      "\n",
      "image32 행렬의 일부\n",
      " [[[0.7411765  0.5254902  0.35686275]\n",
      "  [0.7411765  0.5254902  0.35686275]\n",
      "  [0.7411765  0.5254902  0.35686275]]\n",
      "\n",
      " [[0.7411765  0.5254902  0.35686275]\n",
      "  [0.7411765  0.5254902  0.35686275]\n",
      "  [0.7411765  0.5254902  0.35686275]]]\n",
      "\n"
     ]
    },
    {
     "data": {
      "text/plain": [
       "-1"
      ]
     },
     "execution_count": 11,
     "metadata": {},
     "output_type": "execute_result"
    }
   ],
   "source": [
    "# 4.4.4 8비트 영상 -> 16/32비트 영상\n",
    "import cv2\n",
    "import numpy as np\n",
    "\n",
    "image8 = cv2.imread(\"images_04/read_color.jpg\", cv2.IMREAD_COLOR)\n",
    "if image8 is None: raise Exception(\"영상 파일 읽기 에러\")\n",
    "image16 = np.uint16(image8 * (65535/255)) # 형변환, 화소 범위 조정\n",
    "image32 = np.float32(image8 * (1/255)) # 형변환, 화소 범위 조정\n",
    "\n",
    "# 화소값 확인 - 관심 영역 출력\n",
    "print(\"image8 행렬의 일부\\n %s\\n\" % image8[10:12, 10:13])\n",
    "print(\"image16 행렬의 일부\\n %s\\n\" % image16[10:12, 10:13])\n",
    "print(\"image32 행렬의 일부\\n %s\\n\" % image32[10:12, 10:13])\n",
    "\n",
    "# 저장\n",
    "cv2.imwrite(\"iamges/write_test_16.tif\", image16)\n",
    "cv2.imwrite(\"iamges/write_test_32.tif\", image32)\n",
    "\n",
    "cv2.imshow(\"image16\", image16)\n",
    "cv2.imshow(\"image32\", (image32*255).astype('uint8'))\n",
    "cv2.waitKey(0)"
   ]
  },
  {
   "cell_type": "code",
   "execution_count": null,
   "metadata": {},
   "outputs": [],
   "source": []
  }
 ],
 "metadata": {
  "interpreter": {
   "hash": "ee8e767f248e676331efd5b15066fe2f4c07a210f3df6062615d104073107a4a"
  },
  "kernelspec": {
   "display_name": "Python 3.9.0 64-bit",
   "language": "python",
   "name": "python3"
  },
  "language_info": {
   "codemirror_mode": {
    "name": "ipython",
    "version": 3
   },
   "file_extension": ".py",
   "mimetype": "text/x-python",
   "name": "python",
   "nbconvert_exporter": "python",
   "pygments_lexer": "ipython3",
   "version": "3.9.0"
  },
  "orig_nbformat": 4
 },
 "nbformat": 4,
 "nbformat_minor": 2
}
