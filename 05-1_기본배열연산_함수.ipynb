{
 "cells": [
  {
   "cell_type": "code",
   "execution_count": null,
   "metadata": {},
   "outputs": [],
   "source": []
  },
  {
   "cell_type": "code",
   "execution_count": 1,
   "metadata": {},
   "outputs": [
    {
     "ename": "Exception",
     "evalue": "영상파일 읽기 오류",
     "output_type": "error",
     "traceback": [
      "\u001b[1;31m---------------------------------------------------------------------------\u001b[0m",
      "\u001b[1;31mException\u001b[0m                                 Traceback (most recent call last)",
      "\u001b[1;32md:\\github\\image-processing\\05-1_기본배열연산_함수.ipynb Cell 2'\u001b[0m in \u001b[0;36m<module>\u001b[1;34m\u001b[0m\n\u001b[0;32m      <a href='vscode-notebook-cell:/d%3A/github/image-processing/05-1_%EA%B8%B0%EB%B3%B8%EB%B0%B0%EC%97%B4%EC%97%B0%EC%82%B0_%ED%95%A8%EC%88%98.ipynb#ch0000001?line=2'>3</a>\u001b[0m \u001b[39mimport\u001b[39;00m \u001b[39mnumpy\u001b[39;00m \u001b[39mas\u001b[39;00m \u001b[39mnp\u001b[39;00m\n\u001b[0;32m      <a href='vscode-notebook-cell:/d%3A/github/image-processing/05-1_%EA%B8%B0%EB%B3%B8%EB%B0%B0%EC%97%B4%EC%97%B0%EC%82%B0_%ED%95%A8%EC%88%98.ipynb#ch0000001?line=4'>5</a>\u001b[0m image \u001b[39m=\u001b[39m cv2\u001b[39m.\u001b[39mimread(\u001b[39m\"\u001b[39m\u001b[39mimages/color.jpg\u001b[39m\u001b[39m\"\u001b[39m, cv2\u001b[39m.\u001b[39mIMREAD_COLOR)\n\u001b[1;32m----> <a href='vscode-notebook-cell:/d%3A/github/image-processing/05-1_%EA%B8%B0%EB%B3%B8%EB%B0%B0%EC%97%B4%EC%97%B0%EC%82%B0_%ED%95%A8%EC%88%98.ipynb#ch0000001?line=5'>6</a>\u001b[0m \u001b[39mif\u001b[39;00m image \u001b[39mis\u001b[39;00m \u001b[39mNone\u001b[39;00m: \u001b[39mraise\u001b[39;00m \u001b[39mException\u001b[39;00m(\u001b[39m\"\u001b[39m\u001b[39m영상파일 읽기 오류\u001b[39m\u001b[39m\"\u001b[39m)\n\u001b[0;32m      <a href='vscode-notebook-cell:/d%3A/github/image-processing/05-1_%EA%B8%B0%EB%B3%B8%EB%B0%B0%EC%97%B4%EC%97%B0%EC%82%B0_%ED%95%A8%EC%88%98.ipynb#ch0000001?line=6'>7</a>\u001b[0m \u001b[39mif\u001b[39;00m image\u001b[39m.\u001b[39mndim \u001b[39m!=\u001b[39m \u001b[39m3\u001b[39m: \u001b[39mraise\u001b[39;00m \u001b[39mException\u001b[39;00m(\u001b[39m\"\u001b[39m\u001b[39m컬러 영상 아님\u001b[39m\u001b[39m\"\u001b[39m)\n\u001b[0;32m      <a href='vscode-notebook-cell:/d%3A/github/image-processing/05-1_%EA%B8%B0%EB%B3%B8%EB%B0%B0%EC%97%B4%EC%97%B0%EC%82%B0_%ED%95%A8%EC%88%98.ipynb#ch0000001?line=8'>9</a>\u001b[0m bgr \u001b[39m=\u001b[39m cv2\u001b[39m.\u001b[39msplit(image)\n",
      "\u001b[1;31mException\u001b[0m: 영상파일 읽기 오류"
     ]
    }
   ],
   "source": [
    "# 5.2.2\n",
    "import cv2\n",
    "import numpy as np\n",
    "\n",
    "image = cv2.imread(\"images/color.jpg\", cv2.IMREAD_COLOR)\n",
    "if image is None: raise Exception(\"영상파일 읽기 오류\")\n",
    "if image.ndim != 3: raise Exception(\"컬러 영상 아님\")\n",
    "\n",
    "bgr = cv2.split(image)\n",
    "print(\"bgr 자료형:\", type(bgr), type(bgr[0]), type(bgr[0][0][0]), bgr[0].shape)\n",
    "print(\"bgr 원소개수:\", len(bgr))\n",
    "\n",
    "\n",
    "cv2.imshow(\"image\", image)\n",
    "cv2.imshow(\"Blue channel\", bgr[0])\n",
    "cv2.imshow(\"Green channel\", bgr[1])\n",
    "cv2.imshow(\"Red channel\", bgr[2])\n",
    "cv2.waitKey(0)"
   ]
  },
  {
   "cell_type": "code",
   "execution_count": 2,
   "metadata": {},
   "outputs": [
    {
     "name": "stdout",
     "output_type": "stream",
     "text": [
      "[x] 형태: %s 원소 %s\n"
     ]
    }
   ],
   "source": [
    "# 5.3.2\n",
    "\n",
    "import numpy as np, cv2\n",
    "\n",
    "x = np.array([1,2,3,5,10], np.float32)\n",
    "y = np.array([2,5,7,2,9]).astype(\"float32\")\n",
    "\n",
    "mag = cv2.magnitude(x, y)\n",
    "ang = cv2.phase(x, y)\n",
    "p_mag, p_ang = cv2.cartToPolar(x,y)\n",
    "x2, y2 = cv2.polarToCart(p_mag, p_ang)\n",
    "\n",
    "print(\"[x] 형태: %s 원소 %s\")"
   ]
  },
  {
   "cell_type": "code",
   "execution_count": null,
   "metadata": {},
   "outputs": [],
   "source": []
  }
 ],
 "metadata": {
  "interpreter": {
   "hash": "ee8e767f248e676331efd5b15066fe2f4c07a210f3df6062615d104073107a4a"
  },
  "kernelspec": {
   "display_name": "Python 3.9.0 64-bit",
   "language": "python",
   "name": "python3"
  },
  "language_info": {
   "codemirror_mode": {
    "name": "ipython",
    "version": 3
   },
   "file_extension": ".py",
   "mimetype": "text/x-python",
   "name": "python",
   "nbconvert_exporter": "python",
   "pygments_lexer": "ipython3",
   "version": "3.9.0"
  },
  "orig_nbformat": 4
 },
 "nbformat": 4,
 "nbformat_minor": 2
}
