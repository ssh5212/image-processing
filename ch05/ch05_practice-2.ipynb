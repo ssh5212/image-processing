{
 "cells": [
  {
   "cell_type": "markdown",
   "metadata": {},
   "source": [
    "블러링\n",
    "\n",
    "자신을 기준으로 왼쪽 2칸, 오른쪽으로 2칸의 평균을 수행하라\n",
    "\n",
    "------\n",
    "모서리는 어떻게 하나?\n",
    "\n",
    "이번 과제에서는 제외하고 작업한다"
   ]
  },
  {
   "cell_type": "code",
   "execution_count": 1,
   "metadata": {},
   "outputs": [],
   "source": [
    "# 원본\n",
    "# import numpy as np, cv2\n",
    "\n",
    "# image = cv2.imread(\"images/color.jpg\", cv2.IMREAD_COLOR)\n",
    "# image_temp = image\n",
    "# image_blur = cv2.blur(image, (5,5))\n",
    "\n",
    "\n",
    "# cv2.imshow(\"blur\", image_temp)\n",
    "# cv2.imshow(\"blur2\", image_blur)\n",
    "\n",
    "# cv2.waitKeyEx()\n",
    "\n"
   ]
  },
  {
   "cell_type": "code",
   "execution_count": 6,
   "metadata": {},
   "outputs": [
    {
     "data": {
      "text/plain": [
       "(360, 480, 3)"
      ]
     },
     "execution_count": 6,
     "metadata": {},
     "output_type": "execute_result"
    }
   ],
   "source": [
    "import numpy as np, cv2\n",
    "\n",
    "image = cv2.imread(\"images_05/color.jpg\", cv2.IMREAD_COLOR)\n",
    "image_temp = image\n",
    "image_blur = cv2.blur(image, (5,5))\n",
    "\n",
    "image.shape # 세로 360, 가로 480짜리\n",
    "# print(image[0].shape)\n",
    "# print(image[1].shape)\n",
    "# print(image_temp[0][0][0])\n",
    "# # 5x5 blur 처리\n",
    "# for h in range(len(image)-4):\n",
    "#     image_temp[h+2] = cv2.reduce(image[h:h+5], dim=0, rtype=cv2.REDUCE_AVG)\n",
    "#     for w in range(len(image[0])-4):\n",
    "#         image_temp[h+2][w+2] = cv2.reduce(image_temp[h+2], dim=1, rtype=cv2.REDUCE_AVG)\n",
    "\n",
    "#         print(image_temp[h+2][w+2])\n",
    "\n",
    "\n",
    "# cv2.imshow(\"blur\", image_temp)\n",
    "# cv2.imshow(\"blur2\", image_blur) # cv를 통해 blur된 결과물\n",
    "\n",
    "# cv2.waitKeyEx()\n",
    "\n"
   ]
  },
  {
   "cell_type": "code",
   "execution_count": 5,
   "metadata": {},
   "outputs": [
    {
     "name": "stdout",
     "output_type": "stream",
     "text": [
      "(360, 480, 3)\n"
     ]
    },
    {
     "data": {
      "text/plain": [
       "-1"
      ]
     },
     "execution_count": 5,
     "metadata": {},
     "output_type": "execute_result"
    }
   ],
   "source": [
    "# 모범 답안\n",
    "import numpy as np, cv2\n",
    "\n",
    "image = cv2.imread(\"images_05/color.jpg\", cv2.IMREAD_COLOR)\n",
    "image_temp = image\n",
    "image_blur = cv2.blur(image, (5,5))\n",
    "\n",
    "print(image.shape)\n",
    "for w in range(2, image.shape[0]-2):\n",
    "    for h in range(2, image.shape[1]-2):\n",
    "        region = image[w-2:w+3, h-2:h+3] # filter 영역\n",
    "        region = cv2.reduce(region, dim=0, rtype=cv2.REDUCE_AVG)\n",
    "        image_temp[w][h] = cv2.reduce(region, dim=1, rtype=cv2.REDUCE_AVG)\n",
    "\n",
    "cv2.imshow(\"blur\", image_temp)\n",
    "cv2.imshow(\"blur2\", image_blur)\n",
    "\n",
    "cv2.waitKeyEx()\n",
    "\n"
   ]
  },
  {
   "cell_type": "code",
   "execution_count": null,
   "metadata": {},
   "outputs": [],
   "source": []
  }
 ],
 "metadata": {
  "interpreter": {
   "hash": "ee8e767f248e676331efd5b15066fe2f4c07a210f3df6062615d104073107a4a"
  },
  "kernelspec": {
   "display_name": "Python 3.9.0 64-bit",
   "language": "python",
   "name": "python3"
  },
  "language_info": {
   "codemirror_mode": {
    "name": "ipython",
    "version": 3
   },
   "file_extension": ".py",
   "mimetype": "text/x-python",
   "name": "python",
   "nbconvert_exporter": "python",
   "pygments_lexer": "ipython3",
   "version": "3.9.0"
  },
  "orig_nbformat": 4
 },
 "nbformat": 4,
 "nbformat_minor": 2
}
