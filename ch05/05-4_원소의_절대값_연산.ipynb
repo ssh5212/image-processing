{
 "cells": [
  {
   "cell_type": "markdown",
   "metadata": {},
   "source": [
    "### 5.4 원소의 절대값 연산"
   ]
  },
  {
   "cell_type": "code",
   "execution_count": 2,
   "metadata": {},
   "outputs": [
    {
     "name": "stdout",
     "output_type": "stream",
     "text": [
      "[[165 169 171 ... 102 102 102]\n",
      " [165 169 171 ...  99 102 104]\n",
      " [165 169 171 ...  98 107 109]\n",
      " ...\n",
      " [ 72  50  59 ...  78  75  74]\n",
      " [ 59  55  60 ...  77  74  70]\n",
      " [ 54  77  56 ...  70  75  75]]\n",
      "[dif_img1(roi) uint8] = \n",
      "[[0 0 0 0 0 0 0]\n",
      " [0 0 0 0 0 0 0]\n",
      " [0 0 0 0 0 0 0]]\n",
      " \n",
      "[dif_img2(roi) uint16] = \n",
      "[[-185 -195 -192 -193 -201 -176 -133]\n",
      " [-193 -196 -190 -194 -198 -182 -122]\n",
      " [-194 -193 -190 -187 -178 -199 -155]]\n",
      " \n",
      "[abs_dif1(roi)] = \n",
      "[[185 195 192 193 201 176 133]\n",
      " [193 196 190 194 198 182 122]\n",
      " [194 193 190 187 178 199 155]]\n",
      " \n",
      "[abs_dif2(roi)] = \n",
      "[[185 195 192 193 201 176 133]\n",
      " [193 196 190 194 198 182 122]\n",
      " [194 193 190 187 178 199 155]]\n",
      " \n"
     ]
    },
    {
     "data": {
      "text/plain": [
       "-1"
      ]
     },
     "execution_count": 2,
     "metadata": {},
     "output_type": "execute_result"
    }
   ],
   "source": [
    "# 5.4.1 행렬 절대값 및 차분 연산\n",
    "import numpy as np\n",
    "import cv2\n",
    "\n",
    "image1 = cv2.imread(\"images_05/abs_test1.jpg\", cv2.IMREAD_GRAYSCALE) # 명암도 영상 읽기\n",
    "image2 = cv2.imread(\"images_05/abs_test2.jpg\", cv2.IMREAD_GRAYSCALE)\n",
    "if image1 is None or image2 is None: raise Exception(\"영상파일 읽기 오류\")\n",
    "\n",
    "dif_img1 = cv2.subtract(image1, image2) # 차분 연산 : 함수 값들의 차이\n",
    "dif_img2 = cv2.subtract(np.int16(image1), np.int16(image2)) # 음수 결과 보존\n",
    "abs_dif1 = np.absolute(dif_img2).astype('uint8')\n",
    "abs_dif2 = cv2.absdiff(image1, image2) # 차분 절대값 계산\n",
    "\n",
    "x, y, w, h = 100, 150, 7, 3\n",
    "print(\"[dif_img1(roi) uint8] = \\n%s\\n \" % dif_img1[y:y+h, x:x+w] )\n",
    "print(\"[dif_img2(roi) uint16] = \\n%s\\n \" % dif_img2[y:y+h, x:x+w] )\n",
    "print(\"[abs_dif1(roi)] = \\n%s\\n \" % abs_dif1[y:y+h, x:x+w] )\n",
    "print(\"[abs_dif2(roi)] = \\n%s\\n \" % abs_dif2[y:y+h, x:x+w] )\n",
    "\n",
    "titles = ['image1', 'image2', 'dif_img1', 'abs_dif1', 'abs_dif2']\n",
    "for title in titles:\n",
    "    cv2.imshow(title, eval(title))\n",
    "cv2.waitKey(0)"
   ]
  },
  {
   "cell_type": "code",
   "execution_count": 6,
   "metadata": {},
   "outputs": [
    {
     "name": "stdout",
     "output_type": "stream",
     "text": [
      "[m1] = \n",
      "[[ 10 200   5   7   9]\n",
      " [ 15  35  60  80 170]\n",
      " [100   2  55  37  70]]\n",
      "\n",
      "[m_min] = \n",
      "[[10 30  5  7  9]\n",
      " [15 30 30 30 30]\n",
      " [30  2 30 30 30]]\n",
      "\n",
      "[m_max] = \n",
      "[[ 50 200  50  50  50]\n",
      " [ 50  50  60  80 170]\n",
      " [100  50  55  50  70]]\n",
      "\n",
      "m1 행렬 최소값 좌표: (1, 2), 최소값: 2\n",
      "m1 행렬 최대값 좌표: (1, 0), 최대값: 200\n"
     ]
    }
   ],
   "source": [
    "# 5.4.2 행렬 최대값 및 최소값 연산\n",
    "import numpy as np\n",
    "import cv2\n",
    "\n",
    "data = [10, 200, 5, 7, 9, 15, 35, 60, 80, 170, 100, 2, 55, 37, 70]\n",
    "m1 = np.reshape(data, (3,5))\n",
    "m2 = np.full(m1.shape, 50)\n",
    "\n",
    "m_min = cv2.min(m1, 30) # m1의 요소 중 30보다 작은 값은 유지, 30보다 큰 값은 30\n",
    "m_max = cv2.max(m1, m2) # m1, m2의 요소 중 큰 값을 가짐\n",
    "\n",
    "min_val, max_val, min_loc, max_loc = cv2.minMaxLoc(m1) # 행렬의 최소값, 최대값, 좌표위치를 받아옴\n",
    "\n",
    "print(\"[m1] = \\n%s\\n\" % m1)\n",
    "print(\"[m_min] = \\n%s\\n\" % m_min)\n",
    "print(\"[m_max] = \\n%s\\n\" % m_max)\n",
    "\n",
    "print(\"m1 행렬 최소값 좌표: %s, 최소값: %d\" %(min_loc, min_val)) # 좌표가 헷갈릴 수 있음, 잘 확인해야 함\n",
    "print(\"m1 행렬 최대값 좌표: %s, 최대값: %d\" %(max_loc, max_val))"
   ]
  },
  {
   "cell_type": "code",
   "execution_count": 7,
   "metadata": {},
   "outputs": [
    {
     "name": "stdout",
     "output_type": "stream",
     "text": [
      "원본 영상 최소값: 13, 최대값: 107\n",
      "수정 영상 최소값: 0, 최대값: 255\n"
     ]
    },
    {
     "data": {
      "text/plain": [
       "-1"
      ]
     },
     "execution_count": 7,
     "metadata": {},
     "output_type": "execute_result"
    }
   ],
   "source": [
    "# 5.4.3 영상 최소값 최대값 연산\n",
    "import numpy as np\n",
    "import cv2\n",
    "\n",
    "image = cv2.imread(\"images_05/minMax.jpg\", cv2.IMREAD_GRAYSCALE) # 명암도 영상 읽기\n",
    "if image is None: raise Exception(\"영상파일 읽기 오류\")\n",
    "\n",
    "min_val, max_val, _, _ = cv2.minMaxLoc(image) # 최소값, 최대값 불러오기\n",
    "ratio = 255 / (max_val - min_val) # 차분으로 나누어 비율 계산\n",
    "dst = np.round((image - min_val) * ratio).astype('uint8') # 최소 값으로 뺀 후 비율을 곱하여 영상 내 최소값이 0, 최대 값이 255가 되도록 함\n",
    "min_dst, max_dst, _, _ = cv2.minMaxLoc(dst)\n",
    "\n",
    "print(\"원본 영상 최소값: %d, 최대값: %d\" %(min_val, max_val))\n",
    "print(\"수정 영상 최소값: %d, 최대값: %d\" %(min_dst, max_dst))\n",
    "cv2.imshow('image', image)\n",
    "cv2.imshow('dst', dst)\n",
    "cv2.waitKey(0)\n"
   ]
  },
  {
   "cell_type": "markdown",
   "metadata": {},
   "source": [
    "-> 최대 최소값을 0과 255로 만들었기 때문에 어두운 부분은 더 어둡게, 밝은 부분은 더 밝게 보임\n",
    "\n",
    "--------\n",
    "순서\n",
    "\n",
    "1. 최소값이 0이 되도록 한다. \n",
    "\n",
    "2. 최소값이 0이 되도록하는 값으로 모든 데이터의 값을 뺀다. (차분)\n",
    "\n",
    "3. 모든 데이터의 값을 최대값이 255로 되도록 만드는 값을 곱한다 (= Ratio)\n",
    "\n",
    "\n",
    "얼마나 끌어 당겨서 최대값을 255로 만들 수 있는가? : Ratio = 255/(Max-Min)"
   ]
  },
  {
   "cell_type": "markdown",
   "metadata": {},
   "source": [
    "### 5.5 통계 관련 함수"
   ]
  },
  {
   "cell_type": "code",
   "execution_count": 11,
   "metadata": {},
   "outputs": [
    {
     "name": "stdout",
     "output_type": "stream",
     "text": [
      "sum_value 자료형:  <class 'tuple'> <class 'float'>\n",
      "[sum_value] =  (15865577.0, 15880547.0, 16470875.0, 0.0)\n",
      "[mean_value1] =  (132.21314166666667, 132.33789166666668, 137.25729166666667, 0.0)\n",
      "[mean_value2] =  (80.26520000000001, 81.59740000000001, 90.3211, 0.0)\n",
      "\n",
      "mean 자료형:  <class 'numpy.ndarray'> <class 'numpy.float64'>\n",
      "[mean] =  [132.21314167 132.33789167 137.25729167]\n",
      "[stddev] =  [73.35044328 68.76754506 63.96477788]\n",
      "\n",
      "[mean2] =  [80.2652 81.5974 90.3211]\n",
      "[stddev2] =  [58.91488326 57.57273064 54.0648388 ]\n"
     ]
    },
    {
     "data": {
      "text/plain": [
       "-1"
      ]
     },
     "execution_count": 11,
     "metadata": {},
     "output_type": "execute_result"
    }
   ],
   "source": [
    "# 5.5.1 행렬 합/평균 연산\n",
    "import numpy as np\n",
    "import cv2\n",
    "\n",
    "image = cv2.imread(\"images_05/sum_test.jpg\", cv2.IMREAD_COLOR) \n",
    "if image is None: raise Exception(\"영상파일 읽기 오류\")\n",
    "\n",
    "mask = np.zeros(image.shape[:2], np.uint8) # 관심(마스크) 영역\n",
    "mask[60:160, 20:120] = 255 # 관심영역에 값 할당 # 행(세로 60~160)이 먼저, 다음이 열(가로 20~120)임\n",
    "\n",
    "sum_value = cv2.sumElems(image) # 채널별 합\n",
    "mean_value1 = cv2.mean(image) # 채널별 평균\n",
    "mean_value2 = cv2.mean(image, mask) # 마스크 원소에 해당하는 부분만 평균을 계산함\n",
    "\n",
    "print(\"sum_value 자료형: \", type(sum_value), type(sum_value[0]))\n",
    "print(\"[sum_value] = \", sum_value)\n",
    "print(\"[mean_value1] = \", mean_value1)\n",
    "print(\"[mean_value2] = \", mean_value2)\n",
    "print()\n",
    "\n",
    "mean, stddev = cv2.meanStdDev(image) # 평균, 표준편차\n",
    "mean2, stddev2 = cv2.meanStdDev(image, mask=mask) # 마스크 영역 부분만 계산\n",
    "print(\"mean 자료형: \", type(mean), type(mean[0][0]))\n",
    "print(\"[mean] = \", mean.flatten())\n",
    "print(\"[stddev] = \", stddev.flatten())\n",
    "print()\n",
    "print(\"[mean2] = \", mean2.flatten())\n",
    "print(\"[stddev2] = \", stddev2.flatten())\n",
    "\n",
    "cv2.imshow('image', image)\n",
    "cv2.imshow('mask', mask)\n",
    "cv2.waitKey(0)"
   ]
  },
  {
   "cell_type": "code",
   "execution_count": 13,
   "metadata": {},
   "outputs": [
    {
     "name": "stdout",
     "output_type": "stream",
     "text": [
      "[m] = \n",
      "[[96 58 51 68 13]\n",
      " [ 4 71  3 86 74]\n",
      " [30 71 71 43 51]]\n",
      "\n",
      "[sort1] = \n",
      "[[13 51 58 68 96]\n",
      " [ 3  4 71 74 86]\n",
      " [30 43 51 71 71]]\n",
      "\n",
      "[sort2] = \n",
      "[[ 4 58  3 43 13]\n",
      " [30 71 51 68 51]\n",
      " [96 71 71 86 74]]\n",
      "\n",
      "[sort3] = \n",
      "[[96 68 58 51 13]\n",
      " [86 74 71  4  3]\n",
      " [71 71 51 43 30]]\n",
      "\n",
      "[sort4] = \n",
      "[[13 51 58 68 96]\n",
      " [ 3  4 71 74 86]\n",
      " [30 43 51 71 71]]\n",
      "\n",
      "[sort5] = \n",
      "[[ 4 58  3 43 13]\n",
      " [30 71 51 68 51]\n",
      " [96 71 71 86 74]]\n",
      "\n",
      "[sort6] = \n",
      "[[96 68 58 51 13]\n",
      " [86 74 71  4  3]\n",
      " [71 71 51 43 30]]\n",
      "\n"
     ]
    }
   ],
   "source": [
    "# 5.5.2 행렬 원소 정렬\n",
    "import numpy as np\n",
    "import cv2\n",
    "\n",
    "m = np.random.randint(0, 100, 15).reshape(3,5) # 난수 생성\n",
    "\n",
    "sort1 = cv2.sort(m, cv2.SORT_EVERY_ROW) # 행(가로 방향)단위 오름차순\n",
    "sort2 = cv2.sort(m, cv2.SORT_EVERY_COLUMN) # 열(세로 방향)단위 오름차순\n",
    "sort3 = cv2.sort(m, cv2.SORT_EVERY_ROW+cv2.SORT_DESCENDING) # 행단위 내림차순\n",
    "sort4 = np.sort(m, axis=1) # x축 정렬\n",
    "sort5 = np.sort(m, axis=0) # y축 정렬\n",
    "sort6 = np.sort(m, axis=1)[:, : :-1] # 행 단위 내림차순 정렬\n",
    "\n",
    "titles = ['m', 'sort1', 'sort2', 'sort3', 'sort4', 'sort5', 'sort6']\n",
    "for title in titles:\n",
    "    print(\"[%s] = \\n%s\\n\" %(title, eval(title)))"
   ]
  },
  {
   "cell_type": "code",
   "execution_count": 14,
   "metadata": {},
   "outputs": [
    {
     "name": "stdout",
     "output_type": "stream",
     "text": [
      "[m] = \n",
      "[[ 0 37 52 21 68]\n",
      " [80  0 75 95 55]\n",
      " [14 15 87 30 30]]\n",
      "\n",
      "[m_sort1] = \n",
      "[[0 3 1 2 4]\n",
      " [1 4 2 0 3]\n",
      " [0 1 3 4 2]]\n",
      "\n",
      "[m_sort2] = \n",
      "[[0 1 0 0 2]\n",
      " [2 2 1 2 1]\n",
      " [1 0 2 1 0]]\n",
      "\n",
      "[m_sort3] = \n",
      "[[0 1 0 0 2]\n",
      " [2 2 1 2 1]\n",
      " [1 0 2 1 0]]\n",
      "\n"
     ]
    }
   ],
   "source": [
    "# 5.5.3 정렬 인덱스 반환\n",
    "import numpy as np\n",
    "import cv2\n",
    "\n",
    "m = np.random.randint(0, 100, 15).reshape(3,5) # 난수 생성\n",
    "\n",
    "m_sort1 = cv2.sortIdx(m, cv2.SORT_EVERY_ROW) # 정렬 후 원본 인덱스를 반환 (가로 정렬)\n",
    "m_sort2 = cv2.sortIdx(m, cv2.SORT_EVERY_COLUMN) # 정렬 후 원본 인덱스 반환 (세로 정렬)\n",
    "m_sort3 = np.argsort(m, axis=0) # 세로 정렬\n",
    "\n",
    "titles = ['m', 'm_sort1', 'm_sort2', 'm_sort3']\n",
    "for title in titles:\n",
    "    print(\"[%s] = \\n%s\\n\" %(title, eval(title)))\n"
   ]
  },
  {
   "cell_type": "code",
   "execution_count": 16,
   "metadata": {},
   "outputs": [
    {
     "name": "stdout",
     "output_type": "stream",
     "text": [
      "[[215 257]\n",
      " [365 245]\n",
      " [225 257]\n",
      " [134 146]\n",
      " [205 208]]\n",
      "[55255 23889 57825 19564 42640]\n",
      "----------------------------------------------\n",
      "사각형 원소\t랜덤 사각형 정보\t크기\n",
      "----------------------------------------------\n",
      "rects[0] = [(177, 61) from (215,257)] 55255\n",
      "rects[1] = [(  0, 23) from (365,245)] 23889\n",
      "rects[2] = [( 32, 97) from (225,257)] 57825\n",
      "rects[3] = [(168,140) from (134,146)] 19564\n",
      "rects[4] = [( 87, 74) from (205,208)] 42640\n",
      "----------------------------------------------\n",
      "사각형 원소\t랜덤 사각형 정보\t크기\n",
      "----------------------------------------------\n",
      "rects[0] = [(168,140) from (134,146)] 19564\n",
      "rects[1] = [(  0, 23) from (365,245)] 23889\n",
      "rects[2] = [( 87, 74) from (205,208)] 42640\n",
      "rects[3] = [(177, 61) from (215,257)] 55255\n",
      "rects[4] = [( 32, 97) from (225,257)] 57825\n"
     ]
    }
   ],
   "source": [
    "# 5.5.4 사각형 크기로 정렬\n",
    "import numpy as np\n",
    "import cv2\n",
    "\n",
    "# 사각형 정보 출력 함수\n",
    "def print_rects(rects):\n",
    "    print(\"-\" * 46)\n",
    "    print(\"사각형 원소\\t랜덤 사각형 정보\\t크기\")\n",
    "    print('-'*46)\n",
    "    for i, (x,y,w,h,a) in enumerate(rects):\n",
    "        print(\"rects[%i] = [(%3d,%3d) from (%3d,%3d)] %5d\" %(i,x,y,w,h,a))\n",
    "    \n",
    "rands = np.zeros((5, 5), np.uint16) # 5x5 행렬 생성\n",
    "starts = cv2.randn(rands[:, :2], 100, 50) # 시작 좌표(0, 1열) 랜덤 생성 (평균 100, 표준편차 50) \n",
    "ends = cv2.randn(rands[:, 2:-1], 300, 50) # 종료 좌표(2, 3열) 랜덤 생성 (평균 300, 표준편차 50)\n",
    "\n",
    "sizes = cv2.absdiff(starts, ends) # 차분 절대값 = 크기 = (너비, 높이)\n",
    "print(sizes)\n",
    "areas = sizes[:, 0] * sizes[:, 1] # 가로x세로 = 넓이\n",
    "print(areas)\n",
    "\n",
    "rects = rands.copy() # 결과 복사\n",
    "rects[:, 2:-1] = sizes # 2, 3열에 너비와 높이 복사 \n",
    "rects[:, -1] = areas # 마지막 열에 넓이 저장\n",
    "\n",
    "idx = cv2.sortIdx(areas, cv2.SORT_EVERY_COLUMN).flatten()\n",
    "\n",
    "print_rects(rects) # 원본 사각형 정보 출력\n",
    "print_rects(rects[idx.astype('int')]) # 크기순 정렬 사각형 출력\n"
   ]
  },
  {
   "cell_type": "code",
   "execution_count": 17,
   "metadata": {},
   "outputs": [
    {
     "name": "stdout",
     "output_type": "stream",
     "text": [
      "[m1] = \n",
      "[[ 10 200   5   7   9]\n",
      " [ 15  35  60  80 170]\n",
      " [100   2  55  37  70]]\n",
      " \n",
      "[m_reduce_sum] =  [ 35. 128. 212. 162. 142.]\n",
      "[m_reduce_avg] =  [61.8 39.6 34.4]\n",
      "[m_reduce_max] =  [22. 50. 95. 79. 88.]\n",
      "[m_reduce_min] =  [4. 9. 6.]\n"
     ]
    }
   ],
   "source": [
    "# 5.5.5 행렬 축소 연산\n",
    "import numpy as np\n",
    "import cv2\n",
    "\n",
    "m = np.random.rand(3,5) * 1000//10 # 난수 생성\n",
    "\n",
    "# reduce() : 차원 축소 함수\n",
    "reduce_sum = cv2.reduce(m, dim=0, rtype=cv2.REDUCE_SUM) # dim=0 : 열방향(세로) 축소 (= 요소 5개)\n",
    "reduce_avg = cv2.reduce(m, dim=1, rtype=cv2.REDUCE_AVG) # dim=1 : 행방향(가로) 축소 (= 요소 3개)\n",
    "reduce_max = cv2.reduce(m, dim=0, rtype=cv2.REDUCE_MAX)\n",
    "reduce_min = cv2.reduce(m, dim=1, rtype=cv2.REDUCE_MIN) \n",
    "\n",
    "print(\"[m1] = \\n%s\\n \" % m1)\n",
    "print(\"[m_reduce_sum] = \", reduce_sum.flatten())\n",
    "print(\"[m_reduce_avg] = \", reduce_avg.flatten())\n",
    "print(\"[m_reduce_max] = \", reduce_max.flatten())\n",
    "print(\"[m_reduce_min] = \", reduce_min.flatten())"
   ]
  },
  {
   "cell_type": "markdown",
   "metadata": {},
   "source": [
    "### 5.6 행렬 연산 함수"
   ]
  },
  {
   "cell_type": "code",
   "execution_count": 18,
   "metadata": {},
   "outputs": [
    {
     "name": "stdout",
     "output_type": "stream",
     "text": [
      "[src1] = \n",
      "[[1. 2. 3.]\n",
      " [1. 2. 3.]]\n",
      "\n",
      "[src2] = \n",
      "[[1. 2. 3.]\n",
      " [4. 5. 6.]]\n",
      "\n",
      "[src3] = \n",
      "[[1. 2.]\n",
      " [1. 2.]\n",
      " [1. 2.]]\n",
      "\n",
      "[dst1] = \n",
      "[[ 5.  7.  9.]\n",
      " [10. 14. 18.]\n",
      " [15. 21. 27.]]\n",
      "\n",
      "[dst2] = \n",
      "[[14. 32.]\n",
      " [14. 32.]]\n",
      "\n",
      "[dst3] = \n",
      "[[ 6. 12.]\n",
      " [ 6. 12.]]\n",
      "\n"
     ]
    }
   ],
   "source": [
    "# 5.6.1 내적 연산\n",
    "import numpy as np\n",
    "import cv2\n",
    "\n",
    "src1 = np.array([1,2,3,1,2,3], np.float32).reshape(2,3)\n",
    "src2 = np.array([1,2,3,4,5,6], np.float32).reshape(2,3)\n",
    "src3 = np.array([1,2,1,2,1,2], np.float32).reshape(3,2)\n",
    "alpha, beta= 1, 1\n",
    "\n",
    "dst1 = cv2.gemm(src1, src2, alpha, None, beta, flags=cv2.GEMM_1_T) # flags -> 첫 번째 요소(src1)를 전치하여 내적을 구함\n",
    "dst2 = cv2.gemm(src1, src2, alpha, None, beta, flags=cv2.GEMM_2_T) # flags -> 두 번째 요소(src2)를 전치하여 내적을 구함\n",
    "dst3 = cv2.gemm(src1, src3, alpha, None, beta)\n",
    "\n",
    "titles = ['src1', 'src2', 'src3', 'dst1', 'dst2', 'dst3']\n",
    "for title in titles:\n",
    "    print(\"[%s] = \\n%s\\n\" %(title, eval(title)))"
   ]
  },
  {
   "cell_type": "code",
   "execution_count": 20,
   "metadata": {},
   "outputs": [
    {
     "name": "stdout",
     "output_type": "stream",
     "text": [
      "pts1[0] = [250.  30.], pts2[0] = [224.66255  113.695816]\n",
      "pts1[1] = [400.  70.], pts2[1] = [351.93564 202.58655]\n",
      "pts1[2] = [350. 250.], pts2[2] = [243.38737 354.63022]\n",
      "pts1[3] = [150. 200.], pts2[3] = [ 72.54986 239.24155]\n"
     ]
    },
    {
     "data": {
      "text/plain": [
       "-1"
      ]
     },
     "execution_count": 20,
     "metadata": {},
     "output_type": "execute_result"
    }
   ],
   "source": [
    "# 5.6.2 회전 변환\n",
    "import numpy as np\n",
    "import cv2\n",
    "\n",
    "theta = 20 * np.pi / 180 # 회전할 라디안 각도\n",
    "rot_mat = np.array([ [np.cos(theta), -np.sin(theta)], [np.sin(theta), np.cos(theta)] ], np.float32) # 회전 변환 행렬\n",
    "\n",
    "pts1 = np.array([(250, 30), (400, 70), (350, 250), (150, 200)], np.float32) # 입력 좌표, 사변형을 구성하는 행렬\n",
    "pts2 = cv2.gemm(pts1, rot_mat, 1, None, 1, flags=cv2.GEMM_2_T) # 행렬곱으로 회전변환\n",
    "\n",
    "for i, (pt1, pt2) in enumerate(zip(pts1, pts2)):\n",
    "    print(\"pts1[%d] = %s, pts2[%d] = %s\" %(i, pt1, i, pt2))\n",
    "\n",
    "image = np.full((400, 500, 3), 255, np.uint8)\n",
    "cv2.polylines(image, [np.int32(pts1)], True, (0, 255, 0), 2) # 좌표들을 잇는 사변형을 그림\n",
    "cv2.polylines(image, [np.int32(pts2)], True, (255, 0, 0), 3)\n",
    "cv2.imshow('image', image)\n",
    "cv2.waitKey(0)\n",
    "\n",
    "# 원점을 기준으로 회전하기 때문에 위치가 돌아감\n",
    "# 도형을 중심으로 회전하고 싶은 경우 도형의 중심을 원점으로 보낸 후 회전하여 다시 원래 위치로 이동하면 됨"
   ]
  },
  {
   "cell_type": "code",
   "execution_count": null,
   "metadata": {},
   "outputs": [],
   "source": [
    "# 심화) 물체 자체회전\n",
    "import numpy as np\n",
    "import cv2\n",
    "\n",
    "theta = 20 * np.pi / 180 # 회전할 라디안 각도\n",
    "rot_mat = np.array([ [np.cos(theta), -np.sin(theta)], [np.sin(theta), np.cos(theta)] ], np.float32) # 회전 변환 행렬\n",
    "\n",
    "# 중점 찾기\n",
    "\n",
    "# 중점을 원점으로 보내기\n",
    "\n",
    "pts1 = np.array([(250, 30), (400, 70), (350, 250), (150, 200)], np.float32) # 입력 좌표, 사변형을 구성하는 행렬\n",
    "pts2 = cv2.gemm(pts1, rot_mat, 1, None, 1, flags=cv2.GEMM_2_T) # 행렬곱으로 회전변환\n",
    "\n",
    "# 원점으로 보낸 중점을 원래 자리로 되돌리기 \n",
    "\n",
    "for i, (pt1, pt2) in enumerate(zip(pts1, pts2)):\n",
    "    print(\"pts1[%d] = %s, pts2[%d] = %s\" %(i, pt1, i, pt2))\n",
    "\n",
    "image = np.full((400, 500, 3), 255, np.uint8)\n",
    "cv2.polylines(image, [np.int32(pts1)], True, (0, 255, 0), 2) # 좌표들을 잇는 사변형을 그림\n",
    "cv2.polylines(image, [np.int32(pts2)], True, (255, 0, 0), 3)\n",
    "cv2.imshow('image', image)\n",
    "cv2.waitKey(0)\n"
   ]
  },
  {
   "cell_type": "code",
   "execution_count": 1,
   "metadata": {},
   "outputs": [
    {
     "name": "stdout",
     "output_type": "stream",
     "text": [
      "[inv] = \n",
      "[[ 0.15079366 -0.02380952 -0.0952381 ]\n",
      " [ 0.06746032  0.22619048 -0.0952381 ]\n",
      " [ 0.09126984  0.01190476  0.04761905]]\n",
      "\n",
      "[dst1] =  [2.5238097 2.0238097 4.7380953]\n",
      "[dst2] =  [2.5238097 2.0238097 4.7380953]\n",
      "[dst3] =  [2.5238094 2.0238094 4.7380953]\n"
     ]
    }
   ],
   "source": [
    "# 5.6.3 연립방정식 풀이\n",
    "import numpy as np\n",
    "import cv2\n",
    "\n",
    "data = [3,0,6,-3,4,2,-5,-1,9] # 연립방정식의 계수\n",
    "m1 = np.array(data, np.float32).reshape(3,3) # 계수들을 행렬로 생성\n",
    "m2 = np.array([36,10,28], np.float32) # 상수 벡터\n",
    "\n",
    "ret, inv = cv2.invert(m1, cv2.DECOMP_LU) # 역행렬 계산\n",
    "if ret: # 역행렬이 존재하는 경우\n",
    "    dst1 = inv.dot(m2) # 내적함수 dot 사용 \n",
    "    dst2 = cv2.gemm(inv, m2, 1, None, 1) # gemm()함수로 내적 계산\n",
    "    _, dst3 = cv2.solve(m1, m2, cv2.DECOMP_LU) # solve로 연립방정식 해 계산\n",
    "\n",
    "    print(\"[inv] = \\n%s\\n\" % inv)\n",
    "    print(\"[dst1] = \", dst1.flatten())\n",
    "    print(\"[dst2] = \", dst2.flatten())\n",
    "    print(\"[dst3] = \", dst3.flatten())\n",
    "else:\n",
    "    print(\"역행렬이 존재하지 않습니다.\")"
   ]
  },
  {
   "cell_type": "code",
   "execution_count": null,
   "metadata": {},
   "outputs": [],
   "source": []
  }
 ],
 "metadata": {
  "interpreter": {
   "hash": "2b6024cb2edbfebdd70461c66559173aa04dec10d8798ddfdc8d51cdb4582a6b"
  },
  "kernelspec": {
   "display_name": "Python 3.9.0 64-bit",
   "language": "python",
   "name": "python3"
  },
  "language_info": {
   "codemirror_mode": {
    "name": "ipython",
    "version": 3
   },
   "file_extension": ".py",
   "mimetype": "text/x-python",
   "name": "python",
   "nbconvert_exporter": "python",
   "pygments_lexer": "ipython3",
   "version": "3.9.0"
  },
  "orig_nbformat": 4
 },
 "nbformat": 4,
 "nbformat_minor": 2
}
