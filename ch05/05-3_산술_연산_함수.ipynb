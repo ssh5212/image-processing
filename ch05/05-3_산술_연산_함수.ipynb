{
 "cells": [
  {
   "cell_type": "markdown",
   "metadata": {},
   "source": [
    "### 5.3 산술 연산 함수\n",
    "\n",
    "##### 5.3.1 사칙연산\n",
    "mask : 부분 정보에만 결과를 적용시킬 때 사용함\n",
    "- 배열 slising을 통해 연산을 적용할 부분 정보를 저장할 수 있음\n",
    "\n",
    "스칼라 : 방향을 가지지 않고 크기만 갖는 물리량"
   ]
  },
  {
   "cell_type": "code",
   "execution_count": 1,
   "metadata": {},
   "outputs": [
    {
     "name": "stdout",
     "output_type": "stream",
     "text": [
      "[m1] = \n",
      "[[10 10 10 10 10 10]\n",
      " [10 10 10 10 10 10]\n",
      " [10 10 10 10 10 10]] \n",
      "\n",
      "[m2] = \n",
      "[[50 50 50 50 50 50]\n",
      " [50 50 50 50 50 50]\n",
      " [50 50 50 50 50 50]] \n",
      "\n",
      "[m_mask] = \n",
      "[[0 0 0 1 1 1]\n",
      " [0 0 0 1 1 1]\n",
      " [0 0 0 1 1 1]] \n",
      "\n",
      "[m_add1] = \n",
      "[[60 60 60 60 60 60]\n",
      " [60 60 60 60 60 60]\n",
      " [60 60 60 60 60 60]] \n",
      "\n",
      "[m_add2] = \n",
      "[[ 0  0  0 60 60 60]\n",
      " [ 0  0  0 60 60 60]\n",
      " [ 0  0  0 60 60 60]] \n",
      "\n"
     ]
    }
   ],
   "source": [
    "# 5.3.1 행렬 산술 연산\n",
    "import numpy as np\n",
    "import cv2\n",
    "\n",
    "m1 = np.full((3,6), 10, np.uint8)\n",
    "m2 = np.full((3,6), 50, np.uint8)\n",
    "\n",
    "m_mask = np.zeros(m1.shape, np.uint8)\n",
    "m_mask[ : , 3:] = 1 # 행 전체, 열은 3이상의 모든 요소를 지정\n",
    "\n",
    "m_add1 = cv2.add(m1, m2) \n",
    "m_add2 = cv2.add(m1, m2, mask=m_mask) # mask를 사용하여 특정 부분만 적용\n",
    "\n",
    "titles = ['m1', 'm2', 'm_mask', 'm_add1', 'm_add2']\n",
    "\n",
    "for title in titles:\n",
    "    print(\"[%s] = \\n%s \\n\" % (title, eval(title))) \n",
    "\n"
   ]
  },
  {
   "cell_type": "code",
   "execution_count": 4,
   "metadata": {},
   "outputs": [
    {
     "name": "stdout",
     "output_type": "stream",
     "text": [
      "[v1] 형태: (3,) 원소: [1. 2. 3.]\n",
      "[v2] 형태: (3, 1) 원소: [[1.]\n",
      " [2.]\n",
      " [3.]]\n",
      "[v3] 형태: (1, 3) 원소: [[1. 2. 3.]]\n",
      "\n",
      "[v1_exp] 자료형: <class 'numpy.ndarray'> 형태: (3, 1)\n",
      "[v2_exp] 자료형: <class 'numpy.ndarray'> 형태: (3, 1)\n",
      "[v3_exp] 자료형: <class 'numpy.ndarray'> 형태: (1, 3)\n",
      "\n",
      "[log] =  [[0.        0.6931472 1.0986123]]\n",
      "[log] =  [1.        1.4142135 1.7320508]\n",
      "[log] =  [ 1.  8. 27.]\n"
     ]
    }
   ],
   "source": [
    "# 5.3.2 행렬 지수 및 로그 연산\n",
    "import numpy as np\n",
    "import cv2\n",
    "\n",
    "v1 = np.array([1,2,3], np.float32) # 1차원 리스트 행렬\n",
    "v2 = np.array([[1],[2],[3]], np.float32) # 2차원 리스트 - 열벡터\n",
    "v3 = np.array([[1,2,3]], np.float32) # 2차원 리스트 - 행벡터\n",
    "\n",
    "# cv2.exp(배열) # 지수 계산\n",
    "# cv2.log(배열) # 로그 계산\n",
    "# cv2.sqrt(배열) # 제곱근 계산\n",
    "# cv2.pow(배열, 값) # 거듭제곱 계산\n",
    "v1_exp = cv2.exp(v1) # 1차원 행렬의 지수\n",
    "v2_exp = cv2.exp(v2) # 행벡터에 대한 지수 계산\n",
    "v3_exp = cv2.exp(v3) # 열벡터에 대한 지수 계산\n",
    "log = cv2.log(v1) # 로그 계산\n",
    "sqrt = cv2.sqrt(v2) # 제곱근 계산\n",
    "pow = cv2.pow(v3, 3) # 거듭제곱 계산\n",
    "\n",
    "# 행렬 형태 출력\n",
    "print(\"[v1] 형태: %s 원소: %s\" % (v1.shape, v1))\n",
    "print(\"[v2] 형태: %s 원소: %s\" % (v2.shape, v2))\n",
    "print(\"[v3] 형태: %s 원소: %s\" % (v3.shape, v3))\n",
    "print()\n",
    "\n",
    "print(\"[v1_exp] 자료형: %s 형태: %s\" % (type(v1_exp), v1_exp.shape))\n",
    "print(\"[v2_exp] 자료형: %s 형태: %s\" % (type(v2_exp), v2_exp.shape))\n",
    "print(\"[v3_exp] 자료형: %s 형태: %s\" % (type(v3_exp), v3_exp.shape))\n",
    "print()\n",
    "\n",
    "# 열 벡터 -> 행 벡터로 변환\n",
    "# 배열.T\n",
    "# np.ravel(배열)\n",
    "# 배열.flatten()\n",
    "print(\"[log] = \", log.T) # 열벡터를 전치하여 행벡터로 변경\n",
    "print(\"[log] = \", np.ravel(sqrt)) # 전개하여 1차원 행렬로 변경\n",
    "print(\"[log] = \", pow.flatten()) # 전개하여 1차원 행렬로 변경\n"
   ]
  },
  {
   "cell_type": "code",
   "execution_count": 6,
   "metadata": {},
   "outputs": [
    {
     "name": "stdout",
     "output_type": "stream",
     "text": [
      "[x] 형태: (5,) 원소: [ 1.  2.  3.  5. 10.]\n",
      "[mag] 형태: (5, 1) 원소: [[ 2.236068 ]\n",
      " [ 5.3851647]\n",
      " [ 7.615773 ]\n",
      " [ 5.3851647]\n",
      " [13.453624 ]]\n"
     ]
    }
   ],
   "source": [
    "# 5.3.3 행렬 크기 및 위상 연산\n",
    "import numpy as np\n",
    "import cv2\n",
    "\n",
    "x = np.array([1,2,3,5,10], np.float32)\n",
    "y = np.array([2,5,7,2,9]).astype(\"float32\") # 생성 후 실수형 변환\n",
    "\n",
    "mag = cv2.magnitude(x, y) # 크기 계산\n",
    "ang = cv2.phase(x, y) # 각도(방향) 계산\n",
    "p_mag, p_ang = cv2.cartToPolar(x, y) # 극 좌표로 변환\n",
    "x2, y2 = cv2.polarToCart(p_mag, p_ang) # 직교좌표로 변환\n",
    "\n",
    "print(\"[x] 형태: %s 원소: %s\" % (x.shape, x))\n",
    "print(\"[mag] 형태: %s 원소: %s\" % (mag.shape, mag))"
   ]
  },
  {
   "cell_type": "markdown",
   "metadata": {},
   "source": [
    "##### 5.3.3 논리(비트) 단위 연산\n",
    "원소의 비트 단위로 논리 연산을 수행함"
   ]
  },
  {
   "cell_type": "code",
   "execution_count": 19,
   "metadata": {},
   "outputs": [
    {
     "data": {
      "text/plain": [
       "-1"
      ]
     },
     "execution_count": 19,
     "metadata": {},
     "output_type": "execute_result"
    }
   ],
   "source": [
    "# 5.3.4 행렬 비트 연산\n",
    "import numpy as np\n",
    "import cv2\n",
    "\n",
    "image1 = np.zeros((300,300), np.uint8) # 검정색 영상 생성\n",
    "image2 = image1.copy() # 복사\n",
    "\n",
    "h, w = image1.shape[:2] # 행, 열 정보를 저장\n",
    "cx, cy = w//2, h//2 # 중심 좌표\n",
    "cv2.circle(image1, (cx, cy), 100, 255, -1) # 중심에 원 그리기\n",
    "cv2.rectangle(image2, (0, 0, cx, h), 255, -1) # 영상의 가로 절반\n",
    "\n",
    "# cv2.bitwise_연산() # and/or/not/xor 연산을 수행한다.\n",
    "image3 = cv2.bitwise_or(image1, image2) # 논리합\n",
    "image4 = cv2.bitwise_and(image1, image2) # 논리곱\n",
    "image5 = cv2.bitwise_xor(image1, image2) # 베타적 논리합\n",
    "image6 = cv2.bitwise_not(image1) # 행렬 반전\n",
    "\n",
    "cv2.imshow(\"image1\", image1)\n",
    "cv2.imshow(\"image2\", image2)\n",
    "cv2.imshow(\"bitwise_or\", image3)\n",
    "cv2.imshow(\"bitwise_and\", image4)\n",
    "cv2.imshow(\"bitwise_xor\", image5)\n",
    "cv2.imshow(\"bitwise_not\", image6)\n",
    "cv2.waitKey(0)\n"
   ]
  },
  {
   "cell_type": "code",
   "execution_count": 5,
   "metadata": {},
   "outputs": [
    {
     "name": "stdout",
     "output_type": "stream",
     "text": [
      "masks.shape :  (308, 250, 3)\n"
     ]
    },
    {
     "data": {
      "text/plain": [
       "-1"
      ]
     },
     "execution_count": 5,
     "metadata": {},
     "output_type": "execute_result"
    }
   ],
   "source": [
    "# 5.3.4 행렬 비트 연산2\n",
    "import numpy as np\n",
    "import cv2\n",
    "\n",
    "image = cv2.imread(\"images_05/bit_test.jpg\", cv2.IMREAD_COLOR) # 원본 영상 읽기\n",
    "logo = cv2.imread(\"images_05/logo.jpg\", cv2.IMREAD_COLOR) # 로고 영상 읽기\n",
    "if image is None or logo is None: raise Exception(\"영상파일 읽기 오류\")\n",
    "\n",
    "# cv2.threshold(이미지, 0_최대_범위, 1_최대_범위, cv2.THRESH_BINARY) # 0최대 범위보다 작으면 0, 큰 화소는 1\n",
    "masks = cv2.threshold(logo, 220, 255, cv2.THRESH_BINARY)[1] # 컬러 채널이기 때문에 채널별로 3개로 분리되어 나옴\n",
    "print(\"masks.shape : \", masks.shape)\n",
    "masks = cv2.split(masks)\n",
    "\n",
    "fg_pass_mask = cv2.bitwise_or(masks[0], masks[1]) \n",
    "fg_pass_mask = cv2.bitwise_or(masks[2], fg_pass_mask) # 단일 채널 3개를 합쳐서 fg_pass_mask에 저장\n",
    "bg_pass_mask = cv2.bitwise_not(fg_pass_mask) # 배경 통과 마스크\n",
    "\n",
    "(H, W), (h, w) = image.shape[:2], logo.shape[:2] # 영상들의 크기를 저장\n",
    "x, y = (W-w)//2, (H-h)//2 # 시작 좌표\n",
    "roi = image[y:y+h, x:x+w] # 관심 영역\n",
    "\n",
    "foreground = cv2.bitwise_and(logo, logo, mask=fg_pass_mask) # 로고 전경만 복사\n",
    "background = cv2.bitwise_and(roi, roi, mask=bg_pass_mask) # 로고 전경만 복사\n",
    "\n",
    "dst = cv2.add(background, foreground) # 합성\n",
    "image[y:y+h, x:x+w] = dst # 합성 영상을 원본에 복사\n",
    "\n",
    "cv2.imshow('background', background)\n",
    "cv2.imshow('foreground', foreground)\n",
    "cv2.imshow('dst', dst)\n",
    "cv2.imshow('image', image)\n",
    "cv2.waitKey(0)\n",
    "\n"
   ]
  },
  {
   "cell_type": "code",
   "execution_count": null,
   "metadata": {},
   "outputs": [],
   "source": []
  }
 ],
 "metadata": {
  "interpreter": {
   "hash": "2b6024cb2edbfebdd70461c66559173aa04dec10d8798ddfdc8d51cdb4582a6b"
  },
  "kernelspec": {
   "display_name": "Python 3.9.0 64-bit",
   "language": "python",
   "name": "python3"
  },
  "language_info": {
   "codemirror_mode": {
    "name": "ipython",
    "version": 3
   },
   "file_extension": ".py",
   "mimetype": "text/x-python",
   "name": "python",
   "nbconvert_exporter": "python",
   "pygments_lexer": "ipython3",
   "version": "3.9.0"
  },
  "orig_nbformat": 4
 },
 "nbformat": 4,
 "nbformat_minor": 2
}
