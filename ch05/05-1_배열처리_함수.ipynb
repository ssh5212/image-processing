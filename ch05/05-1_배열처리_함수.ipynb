{
 "cells": [
  {
   "cell_type": "markdown",
   "metadata": {},
   "source": [
    "### 5.1 기본 배열 처리 함수\n"
   ]
  },
  {
   "cell_type": "code",
   "execution_count": 4,
   "metadata": {},
   "outputs": [
    {
     "data": {
      "text/plain": [
       "-1"
      ]
     },
     "execution_count": 4,
     "metadata": {},
     "output_type": "execute_result"
    }
   ],
   "source": [
    "# 5.1.1 행렬 처리 함수 (뒤집기, 복사 전치)\n",
    "import cv2\n",
    "import numpy as np\n",
    "\n",
    "image = cv2.imread(\"images_05/flip_test.jpg\", cv2.IMREAD_COLOR)\n",
    "if image is None: raise Exception(\"영상파일 읽기 오류\")\n",
    "\n",
    "# cv2.filp(배열, 방향)\n",
    "x_axis = cv2.flip(image, 0) # 상하 뒤집기 (=x축 기준)\n",
    "y_axis = cv2.flip(image, 1) # 좌우 뒤집기 (=y축 기준)\n",
    "xy_axis = cv2.flip(image, -1) # 상화좌우 모두 뒤집기\n",
    "# cv2.repeat(배열, 방향, 반복_횟수)\n",
    "rep_axis = cv2.repeat(image, 1, 2) # 반복 복사\n",
    "# cv2.transpose(배열)\n",
    "trans_axis = cv2.transpose(image) # 행렬 전치\n",
    "\n",
    "titles = ['image', 'x_axis', 'y_axis', 'xy_axis', 'rep_axis', 'trans_axis']\n",
    "\n",
    "for title in titles:\n",
    "    cv2.imshow(title, eval(title))\n",
    "cv2.waitKey(0)"
   ]
  },
  {
   "cell_type": "markdown",
   "metadata": {},
   "source": [
    "### 5.2 채널 처리 함수"
   ]
  },
  {
   "cell_type": "code",
   "execution_count": 8,
   "metadata": {},
   "outputs": [
    {
     "name": "stdout",
     "output_type": "stream",
     "text": [
      "split_bgr 행렬 형태 (3, 2, 4)\n",
      "merge_bar 행렬 형태 (2, 4, 3)\n",
      "[ch0] = \n",
      "[[10 10 10 10]\n",
      " [10 10 10 10]]\n",
      "[ch1] = \n",
      "[[20 20 20 20]\n",
      " [20 20 20 20]]\n",
      "[ch2] = \n",
      "[[30 30 30 30]\n",
      " [30 30 30 30]]\n",
      "[merge_bgr] = \n",
      "[[[10 20 30]\n",
      "  [10 20 30]\n",
      "  [10 20 30]\n",
      "  [10 20 30]]\n",
      "\n",
      " [[10 20 30]\n",
      "  [10 20 30]\n",
      "  [10 20 30]\n",
      "  [10 20 30]]]\n",
      "\n",
      "[split_bgr[0]] = \n",
      "[[10 10 10 10]\n",
      " [10 10 10 10]]\n",
      "\n",
      "[split_bgr[1]] = \n",
      "[[20 20 20 20]\n",
      " [20 20 20 20]]\n",
      "\n",
      "[split_bgr[2]] = \n",
      "[[30 30 30 30]\n",
      " [30 30 30 30]]\n",
      "\n"
     ]
    }
   ],
   "source": [
    "# 5.2.1 채널 분리 및 합성\n",
    "import numpy as np\n",
    "import cv2\n",
    "\n",
    "# 행렬 생성 및 초기화\n",
    "ch0 = np.zeros((2,4), np.uint8) + 10 # 0로 가득찬 배열 생성 후 모든 요소에 10 더하기\n",
    "ch1 = np.ones((2,4), np.uint8) * 20 # 1로 가득찬 배열 생성 후 모든 요소에 20 곱하기\n",
    "ch2 = np.full((2,4), 30, np.uint8) # 30으로 가득찬 배열 생성\n",
    "\n",
    "list_bgr = [ch0, ch1, ch2] # 리스트 구성\n",
    "merge_bgr = cv2.merge(list_bgr) # 채널 합성\n",
    "split_bgr = cv2.split(merge_bgr) # 채널 분리 (컬러영상 -> 3개의 채널로 분리)\n",
    "\n",
    "print(\"split_bgr 행렬 형태\", np.array(split_bgr).shape)\n",
    "print(\"merge_bar 행렬 형태\", np.array(merge_bgr).shape)\n",
    "\n",
    "print(\"[ch0] = \\n%s\" % ch0)\n",
    "print(\"[ch1] = \\n%s\" % ch1)\n",
    "print(\"[ch2] = \\n%s\" % ch2)\n",
    "print(\"[merge_bgr] = \\n%s\\n\" % merge_bgr)\n",
    "\n",
    "print(\"[split_bgr[0]] = \\n%s\\n\" % split_bgr[0])\n",
    "print(\"[split_bgr[1]] = \\n%s\\n\" % split_bgr[1])\n",
    "print(\"[split_bgr[2]] = \\n%s\\n\" % split_bgr[2])\n"
   ]
  },
  {
   "cell_type": "code",
   "execution_count": 9,
   "metadata": {},
   "outputs": [
    {
     "name": "stdout",
     "output_type": "stream",
     "text": [
      "bgr 자료형: <class 'tuple'> <class 'numpy.ndarray'> <class 'numpy.uint8'> (360, 480)\n",
      "bgr 원소개수: 3\n"
     ]
    },
    {
     "data": {
      "text/plain": [
       "-1"
      ]
     },
     "execution_count": 9,
     "metadata": {},
     "output_type": "execute_result"
    }
   ],
   "source": [
    "# 5.2.2 컬러 채널 분리\n",
    "import cv2\n",
    "import numpy as np\n",
    "\n",
    "image = cv2.imread(\"images_05/color.jpg\", cv2.IMREAD_COLOR)\n",
    "if image is None: raise Exception(\"영상파일 읽기 오류\")\n",
    "if image.ndim != 3: raise Exception(\"컬러 영상 아님\")\n",
    "\n",
    "bgr = cv2.split(image) # 채널 분리\n",
    "print(\"bgr 자료형:\", type(bgr), type(bgr[0]), type(bgr[0][0][0]), bgr[0].shape)\n",
    "print(\"bgr 원소개수:\", len(bgr))\n",
    "\n",
    "\n",
    "cv2.imshow(\"image\", image)\n",
    "cv2.imshow(\"Blue channel\", bgr[0])\n",
    "cv2.imshow(\"Green channel\", bgr[1])\n",
    "cv2.imshow(\"Red channel\", bgr[2])\n",
    "cv2.waitKey(0)"
   ]
  },
  {
   "cell_type": "markdown",
   "metadata": {},
   "source": [
    "-> 각 채널의 색상을 가지는 요소가 밝게 표시됨 (bgr[0]에서 파란색 물체가 밝게 표시)\n",
    "\n"
   ]
  },
  {
   "cell_type": "markdown",
   "metadata": {},
   "source": [
    "### 심화 : grb 중 원하는 색상만 보이게 하기\n",
    "\n",
    "앞서 작성한 코드의 경우 grb를 따로 추출은 하였으나 출력 시 해당 색상이 밝게 보일 뿐 큰 차이를 알기 어려움 (명암으로만 물체의 색상을 확인 가능)\n",
    "\n",
    "따라서 3채널로 만들고, 보여주고자 하는 채널을 제외한 나머지 채널을 0으로 만들어 출력한다면 색상이 보일 것임"
   ]
  },
  {
   "cell_type": "code",
   "execution_count": 9,
   "metadata": {},
   "outputs": [
    {
     "data": {
      "text/plain": [
       "-1"
      ]
     },
     "execution_count": 9,
     "metadata": {},
     "output_type": "execute_result"
    }
   ],
   "source": [
    "# 테스트 : grb중 원하는 색상만 보이게 하기\n",
    "import copy\n",
    "import cv2\n",
    "import numpy as np\n",
    "\n",
    "image = cv2.imread(\"images_05/color.jpg\", cv2.IMREAD_COLOR)\n",
    "if image is None: raise Exception(\"영상파일 읽기 오류\")\n",
    "if image.ndim != 3: raise Exception(\"컬러 영상 아님\")\n",
    "\n",
    "# 이미지[:,:,가져올 채널] -> 행, 열은 모두 가져오고 채널(높이)만 원하는 위치의 값을 가져옴 \n",
    "# 채널 분리했을 떄와 동일한 효과 (행, 열) 가져옴\n",
    "b = copy.deepcopy(image)\n",
    "b[:,:,1] = 0\n",
    "b[:,:,2] = 0\n",
    "\n",
    "g = copy.deepcopy(image)\n",
    "g[:,:,0] = 0\n",
    "g[:,:,2] = 0\n",
    "\n",
    "r = copy.deepcopy(image)\n",
    "r[:,:,0] = 0\n",
    "r[:,:,1] = 0\n",
    "\n",
    "cv2.imshow(\"Original\", image)\n",
    "cv2.imshow(\"Only Blue\", b)\n",
    "cv2.imshow(\"Only Green\", g)\n",
    "cv2.imshow(\"Only Red\", r)\n",
    "cv2.waitKey(0)\n",
    "\n",
    "\n",
    "\n"
   ]
  }
 ],
 "metadata": {
  "interpreter": {
   "hash": "ee8e767f248e676331efd5b15066fe2f4c07a210f3df6062615d104073107a4a"
  },
  "kernelspec": {
   "display_name": "Python 3.9.0 64-bit",
   "language": "python",
   "name": "python3"
  },
  "language_info": {
   "codemirror_mode": {
    "name": "ipython",
    "version": 3
   },
   "file_extension": ".py",
   "mimetype": "text/x-python",
   "name": "python",
   "nbconvert_exporter": "python",
   "pygments_lexer": "ipython3",
   "version": "3.9.0"
  },
  "orig_nbformat": 4
 },
 "nbformat": 4,
 "nbformat_minor": 2
}
