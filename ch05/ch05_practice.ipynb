{
 "cells": [
  {
   "cell_type": "markdown",
   "metadata": {},
   "source": [
    "### 이미지 뒤집기 (x, y, xy, 전치)"
   ]
  },
  {
   "cell_type": "code",
   "execution_count": 1,
   "metadata": {},
   "outputs": [],
   "source": [
    "# 원본\n",
    "# import numpy as np\n",
    "# import cv2\n",
    "\n",
    "# image = cv2.imread(\"images/flip_test.jpg\", cv2.IMREAD_COLOR)\n",
    "# if image is None: raise Exception(\"에러\")\n",
    "\n",
    "# image_x = np.zeros(image.shape,image.dtype)\n",
    "# image_y = np.zeros(image.shape,image.dtype)\n",
    "# image_xy = np.zeros(image.shape,image.dtype)\n",
    "# image_trans = np.zeros((image.shape[1],image.shape[0],image.shape[2]), image.dtype)\n",
    "\n",
    "\n",
    "\n",
    "# cv2.imshow(\"origianl\",image)\n",
    "# cv2.imshow(\"x_flip\",image_x)\n",
    "# cv2.imshow(\"y_flip\",image_y)\n",
    "# cv2.imshow(\"xy_flip\",image_xy)\n",
    "# cv2.imshow(\"xy_trans\",image_trans)\n",
    "\n",
    "\n",
    "# cv2.waitKey(0)\n",
    "\n",
    "\n"
   ]
  },
  {
   "cell_type": "code",
   "execution_count": 16,
   "metadata": {},
   "outputs": [
    {
     "name": "stdout",
     "output_type": "stream",
     "text": [
      "(267, 360, 3)\n",
      "(360, 3)\n",
      "[190 148 119]\n"
     ]
    },
    {
     "data": {
      "text/plain": [
       "-1"
      ]
     },
     "execution_count": 16,
     "metadata": {},
     "output_type": "execute_result"
    }
   ],
   "source": [
    "import numpy as np\n",
    "import cv2\n",
    "\n",
    "image = cv2.imread(\"images_05/flip_test.jpg\", cv2.IMREAD_COLOR)\n",
    "if image is None: raise Exception(\"에러\")\n",
    "# iamge.shape == (행, 열, 색상)\n",
    "\n",
    "print(image.shape)\n",
    "print(image[0].shape)\n",
    "print(image[0][0])\n",
    "image_x = np.zeros(image.shape,image.dtype)\n",
    "image_y = np.zeros(image.shape,image.dtype)\n",
    "image_xy = np.zeros(image.shape,image.dtype)\n",
    "image_trans = np.zeros((image.shape[1],image.shape[0],image.shape[2]), image.dtype)\n",
    "\n",
    "for col in range(len(image)):\n",
    "    for row in range(len(image[col])):\n",
    "        image_x[col][row] = image[len(image)-1-col][row] # x축을 기준으로 대칭\n",
    "        image_y[col][row] = image[col][len(image[0])-1-row] # y축을 기준으로 대칭\n",
    "        image_xy[col][row] = image[len(image)-1-col][len(image[0])-1-row] # xy축으로 대칭\n",
    "        image_trans[row][col] = image[col][row] # 전치\n",
    "\n",
    "cv2.imshow(\"original\",image)\n",
    "cv2.imshow(\"x_flip\",image_x)\n",
    "cv2.imshow(\"y_flip\",image_y)\n",
    "cv2.imshow(\"xy_flip\",image_xy)\n",
    "cv2.imshow(\"xy_trans\",image_trans)\n",
    "\n",
    "cv2.waitKey(0)"
   ]
  },
  {
   "cell_type": "markdown",
   "metadata": {},
   "source": [
    "-> output\n",
    "\n",
    "\n",
    "![](./practice05.JPG)"
   ]
  },
  {
   "cell_type": "code",
   "execution_count": null,
   "metadata": {},
   "outputs": [],
   "source": []
  }
 ],
 "metadata": {
  "interpreter": {
   "hash": "2b6024cb2edbfebdd70461c66559173aa04dec10d8798ddfdc8d51cdb4582a6b"
  },
  "kernelspec": {
   "display_name": "Python 3.9.0 64-bit",
   "language": "python",
   "name": "python3"
  },
  "language_info": {
   "codemirror_mode": {
    "name": "ipython",
    "version": 3
   },
   "file_extension": ".py",
   "mimetype": "text/x-python",
   "name": "python",
   "nbconvert_exporter": "python",
   "pygments_lexer": "ipython3",
   "version": "3.9.0"
  },
  "orig_nbformat": 4
 },
 "nbformat": 4,
 "nbformat_minor": 2
}
