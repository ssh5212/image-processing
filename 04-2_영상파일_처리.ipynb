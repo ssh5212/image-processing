{
 "cells": [
  {
   "cell_type": "markdown",
   "metadata": {},
   "source": [
    "##### 4.4 영상파일 처리 "
   ]
  },
  {
   "cell_type": "code",
   "execution_count": 5,
   "metadata": {},
   "outputs": [
    {
     "name": "stdout",
     "output_type": "stream",
     "text": [
      "16bit unchanged: depth(uint16), channels(3) -> mat_type(CV_16UC3)\n",
      "32bit unchanged: depth(float32), channels(3) -> mat_type(CV_32FC3)\n"
     ]
    },
    {
     "data": {
      "text/plain": [
       "-1"
      ]
     },
     "execution_count": 5,
     "metadata": {},
     "output_type": "execute_result"
    }
   ],
   "source": [
    "# 4.4.1\n",
    "import cv2\n",
    "\n",
    "# 행렬의 정보를 출력하는 함수\n",
    "def print_matInfo(name, image):\n",
    "    if image.dtype == 'uint8': mat_type = 'CV_8U'\n",
    "    elif image.dtype == 'int8': mat_type = 'CV_8S'\n",
    "    elif image.dtype == 'uint16': mat_type = 'CV_16U'\n",
    "    elif image.dtype == 'int16': mat_type = 'CV_16S'\n",
    "    elif image.dtype == 'float32': mat_type = 'CV_32F'\n",
    "    elif image.dtype == 'float64': mat_type = 'CV_64F'\n",
    "    nchannel = 3 if image.ndim == 3 else 1\n",
    "\n",
    "    print(\"%12s: depth(%s), channels(%s) -> mat_type(%sC%d)\" %(name, image.dtype, nchannel, mat_type, nchannel))\n",
    "\n",
    "\n",
    "title1, title2 = '16bit unchanged', '32bit unchanged'\n",
    "# cv2.imread(\"파일이름, 컬러타입\")\n",
    "color2unchanged1 = cv2.imread(\"images_04/read_16.tif\", cv2.IMREAD_UNCHANGED) # 지정한 영상 파일에서 영상을 적재하여 행렬로 반환\n",
    "color2unchanged2 = cv2.imread(\"images_04/read_32.tif\", cv2.IMREAD_UNCHANGED)\n",
    "if color2unchanged1 is None or color2unchanged2 is None:\n",
    "    raise Exception(\"영상파일 읽기 에러\")\n",
    "\n",
    "print_matInfo(title1, color2unchanged1)\n",
    "print_matInfo(title2, color2unchanged2)\n",
    "\n",
    "cv2.imshow(title1, color2unchanged1)\n",
    "cv2.imshow(title2, color2unchanged2)\n",
    "cv2.waitKey(0)\n"
   ]
  },
  {
   "cell_type": "code",
   "execution_count": 6,
   "metadata": {},
   "outputs": [
    {
     "ename": "Exception",
     "evalue": "영상 파일 읽기 에러",
     "output_type": "error",
     "traceback": [
      "\u001b[1;31m---------------------------------------------------------------------------\u001b[0m",
      "\u001b[1;31mException\u001b[0m                                 Traceback (most recent call last)",
      "\u001b[1;32md:\\github\\image-processing\\04-2_영상파일_처리.ipynb Cell 3'\u001b[0m in \u001b[0;36m<module>\u001b[1;34m\u001b[0m\n\u001b[0;32m      <a href='vscode-notebook-cell:/d%3A/github/image-processing/04-2_%EC%98%81%EC%83%81%ED%8C%8C%EC%9D%BC_%EC%B2%98%EB%A6%AC.ipynb#ch0000003?line=3'>4</a>\u001b[0m \u001b[39mimport\u001b[39;00m \u001b[39mnumpy\u001b[39;00m \u001b[39mas\u001b[39;00m \u001b[39mnp\u001b[39;00m\n\u001b[0;32m      <a href='vscode-notebook-cell:/d%3A/github/image-processing/04-2_%EC%98%81%EC%83%81%ED%8C%8C%EC%9D%BC_%EC%B2%98%EB%A6%AC.ipynb#ch0000003?line=5'>6</a>\u001b[0m image \u001b[39m=\u001b[39m cv2\u001b[39m.\u001b[39mimread(\u001b[39m\"\u001b[39m\u001b[39mimages/read_color.jpg\u001b[39m\u001b[39m\"\u001b[39m, cv2\u001b[39m.\u001b[39mIMREAD_COLOR)\n\u001b[1;32m----> <a href='vscode-notebook-cell:/d%3A/github/image-processing/04-2_%EC%98%81%EC%83%81%ED%8C%8C%EC%9D%BC_%EC%B2%98%EB%A6%AC.ipynb#ch0000003?line=6'>7</a>\u001b[0m \u001b[39mif\u001b[39;00m image \u001b[39mis\u001b[39;00m \u001b[39mNone\u001b[39;00m: \u001b[39mraise\u001b[39;00m \u001b[39mException\u001b[39;00m(\u001b[39m\"\u001b[39m\u001b[39m영상 파일 읽기 에러\u001b[39m\u001b[39m\"\u001b[39m)\n\u001b[0;32m      <a href='vscode-notebook-cell:/d%3A/github/image-processing/04-2_%EC%98%81%EC%83%81%ED%8C%8C%EC%9D%BC_%EC%B2%98%EB%A6%AC.ipynb#ch0000003?line=8'>9</a>\u001b[0m params_jpg \u001b[39m=\u001b[39m (cv2\u001b[39m.\u001b[39mIMWRITE_JPEG_QUALITY, \u001b[39m10\u001b[39m)\n\u001b[0;32m     <a href='vscode-notebook-cell:/d%3A/github/image-processing/04-2_%EC%98%81%EC%83%81%ED%8C%8C%EC%9D%BC_%EC%B2%98%EB%A6%AC.ipynb#ch0000003?line=9'>10</a>\u001b[0m params_png \u001b[39m=\u001b[39m (cv2\u001b[39m.\u001b[39mIMWRITE_PNG_COMPRESSION, \u001b[39m9\u001b[39m)\n",
      "\u001b[1;31mException\u001b[0m: 영상 파일 읽기 에러"
     ]
    }
   ],
   "source": [
    "# 4.4.3\n",
    "\n",
    "import cv2\n",
    "import numpy as np\n",
    "\n",
    "image = cv2.imread(\"images/read_color.jpg\", cv2.IMREAD_COLOR)\n",
    "if image is None: raise Exception(\"영상 파일 읽기 에러\")\n",
    "\n",
    "params_jpg = (cv2.IMWRITE_JPEG_QUALITY, 10)\n",
    "params_png = (cv2.IMWRITE_PNG_COMPRESSION, 9)\n",
    "\n",
    "cv2.imwrite(\"images/write_test1.jpg\", image)\n",
    "cv2.imwrite(\"images/write_test2.jpg\", image, params_jpg)\n",
    "cv2.imwrite(\"images/write_test3.png\", image, params_png)\n",
    "cv2.imwrite(\"images/write_test4.bmp\", image)\n",
    "cv2.imwrite(\"images/write_test5.jpg\", image, (cv2.IMWRITE_JPEG_QUALITY, 100))\n",
    "cv2.imwrite(\"images/write_test6.jpg\", image, (cv2.IMWRITE_JPEG_QUALITY, 70))\n",
    "cv2.imwrite(\"images/write_test7.jpg\", image, (cv2.IMWRITE_JPEG_QUALITY, 50))\n",
    "cv2.imwrite(\"images/write_test8.jpg\", image, (cv2.IMWRITE_JPEG_QUALITY, 30))\n",
    "\n",
    "\n",
    "image2 = np.zeros(image.shape, image.dtype)\n",
    "#\n",
    "# image1 = cv2.resize(image,dsize=(500,300))\n",
    "# image2 = cv2.resize(image,dsize=(0,0),fx=1.5,fy=1.2,interpolation=cv2_INTER_NEAREST)\n"
   ]
  },
  {
   "cell_type": "code",
   "execution_count": null,
   "metadata": {},
   "outputs": [],
   "source": []
  }
 ],
 "metadata": {
  "interpreter": {
   "hash": "ee8e767f248e676331efd5b15066fe2f4c07a210f3df6062615d104073107a4a"
  },
  "kernelspec": {
   "display_name": "Python 3.9.0 64-bit",
   "language": "python",
   "name": "python3"
  },
  "language_info": {
   "codemirror_mode": {
    "name": "ipython",
    "version": 3
   },
   "file_extension": ".py",
   "mimetype": "text/x-python",
   "name": "python",
   "nbconvert_exporter": "python",
   "pygments_lexer": "ipython3",
   "version": "3.9.0"
  },
  "orig_nbformat": 4
 },
 "nbformat": 4,
 "nbformat_minor": 2
}
