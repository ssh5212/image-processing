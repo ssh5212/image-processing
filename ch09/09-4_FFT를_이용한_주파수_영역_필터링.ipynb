{
 "cells": [
  {
   "cell_type": "markdown",
   "metadata": {},
   "source": [
    "### 9.4 주파수 영역 필터링\n",
    "\n",
    "원형 필터 : 저주파만 남김 = 블러링 효과\n",
    "\n",
    "원형이 제외된 필터 : 고주파만 남김 = 엣지만 추출됨"
   ]
  },
  {
   "cell_type": "code",
   "execution_count": 2,
   "metadata": {},
   "outputs": [
    {
     "data": {
      "text/plain": [
       "-1"
      ]
     },
     "execution_count": 2,
     "metadata": {},
     "output_type": "execute_result"
    }
   ],
   "source": [
    "# 9.4.1 주파수 영역 필터링\n",
    "import numpy as np, cv2\n",
    "from Common.dft2d import dft, idft, calc_spectrum, fftshift\n",
    "\n",
    "def FFT(image, mode=2):\n",
    "    dft = cv2.dft(np.float32(image), flags=cv2.DFT_COMPLEX_OUTPUT)\n",
    "    dft = fftshift(dft)\n",
    "    spectrum = calc_spectrum(dft)\n",
    "    return dft, spectrum\n",
    "\n",
    "def IFFT(dft, shape, mode=2):\n",
    "    dft = fftshift(dft)\n",
    "    img = cv2.idft(dft, flags=cv2.DFT_SCALE)[:,:,0]\n",
    "    img = img[:shape[0], :shape[1]]\n",
    "    return cv2.convertScaleAbs(img)\n",
    "\n",
    "image = cv2.imread(\"images_09/test.jpg\", cv2.IMREAD_GRAYSCALE)\n",
    "if image is None: raise Exception(\"영상 파일 읽기 오류\")\n",
    "\n",
    "cy, cx = np.divmod(image.shape, 2)[0]\n",
    "mode = 3\n",
    "\n",
    "dft, spectrum = FFT(image, mode)\n",
    "lowpass = np.zeros(dft.shape, np.float32)\n",
    "highpass = np.ones(dft.shape, np.float32)\n",
    "cv2.circle(lowpass, (cx, cy), 30, (1, 1), -1)\n",
    "cv2.circle(highpass, (cx, cy), 30, (0, 0), -1)\n",
    "\n",
    "lowpassed_dft = dft * lowpass\n",
    "highpassed_dft = dft * highpass\n",
    "lowpassed_img = IFFT(lowpassed_dft, image.shape, mode)\n",
    "highpassed_img = IFFT(highpassed_dft, image.shape, mode)\n",
    "\n",
    "cv2.imshow(\"image\", image)\n",
    "cv2.imshow(\"lowpassed_img\", lowpassed_img)\n",
    "cv2.imshow(\"highpassed_img\", highpassed_img)\n",
    "cv2.imshow(\"spectrum\", spectrum)\n",
    "cv2.imshow(\"calc_spectrum(lowpassed_dft)\", calc_spectrum(lowpassed_dft))\n",
    "cv2.imshow(\"calc_spectrum(highpassed_dft)\", calc_spectrum(highpassed_dft))\n",
    "cv2.waitKey(0)"
   ]
  },
  {
   "cell_type": "code",
   "execution_count": 2,
   "metadata": {},
   "outputs": [
    {
     "ename": "ValueError",
     "evalue": "Argument Z must be 2-dimensional.",
     "output_type": "error",
     "traceback": [
      "\u001b[1;31m---------------------------------------------------------------------------\u001b[0m",
      "\u001b[1;31mValueError\u001b[0m                                Traceback (most recent call last)",
      "\u001b[1;32m~\\AppData\\Local\\Temp/ipykernel_9792/4004568357.py\u001b[0m in \u001b[0;36m<module>\u001b[1;34m\u001b[0m\n\u001b[0;32m     42\u001b[0m \u001b[0mplt\u001b[0m\u001b[1;33m.\u001b[0m\u001b[0mfigure\u001b[0m\u001b[1;33m(\u001b[0m\u001b[0mfigsize\u001b[0m\u001b[1;33m=\u001b[0m\u001b[1;33m(\u001b[0m\u001b[1;36m10\u001b[0m\u001b[1;33m,\u001b[0m \u001b[1;36m10\u001b[0m\u001b[1;33m)\u001b[0m\u001b[1;33m)\u001b[0m\u001b[1;33m\u001b[0m\u001b[1;33m\u001b[0m\u001b[0m\n\u001b[0;32m     43\u001b[0m \u001b[0max1\u001b[0m \u001b[1;33m=\u001b[0m \u001b[0mplt\u001b[0m\u001b[1;33m.\u001b[0m\u001b[0msubplot\u001b[0m\u001b[1;33m(\u001b[0m\u001b[1;36m332\u001b[0m\u001b[1;33m,\u001b[0m \u001b[0mprojection\u001b[0m\u001b[1;33m=\u001b[0m\u001b[1;34m'3d'\u001b[0m\u001b[1;33m)\u001b[0m\u001b[1;33m\u001b[0m\u001b[1;33m\u001b[0m\u001b[0m\n\u001b[1;32m---> 44\u001b[1;33m \u001b[0max1\u001b[0m\u001b[1;33m.\u001b[0m\u001b[0mplot_surface\u001b[0m\u001b[1;33m(\u001b[0m\u001b[0mx1\u001b[0m\u001b[1;33m,\u001b[0m \u001b[0my1\u001b[0m\u001b[1;33m,\u001b[0m \u001b[0mgauss_filter\u001b[0m\u001b[1;33m,\u001b[0m \u001b[0mcmap\u001b[0m\u001b[1;33m=\u001b[0m\u001b[1;34m'RdPu'\u001b[0m\u001b[1;33m)\u001b[0m\u001b[1;33m\u001b[0m\u001b[1;33m\u001b[0m\u001b[0m\n\u001b[0m\u001b[0;32m     45\u001b[0m \u001b[0mplt\u001b[0m\u001b[1;33m.\u001b[0m\u001b[0mtitle\u001b[0m\u001b[1;33m(\u001b[0m\u001b[1;34m'gauss_filter'\u001b[0m\u001b[1;33m)\u001b[0m\u001b[1;33m\u001b[0m\u001b[1;33m\u001b[0m\u001b[0m\n\u001b[0;32m     46\u001b[0m \u001b[1;33m\u001b[0m\u001b[0m\n",
      "\u001b[1;32mc:\\Users\\Shin\\AppData\\Local\\Programs\\Python\\Python39\\lib\\site-packages\\mpl_toolkits\\mplot3d\\axes3d.py\u001b[0m in \u001b[0;36mplot_surface\u001b[1;34m(self, X, Y, Z, norm, vmin, vmax, lightsource, *args, **kwargs)\u001b[0m\n\u001b[0;32m   1495\u001b[0m \u001b[1;33m\u001b[0m\u001b[0m\n\u001b[0;32m   1496\u001b[0m         \u001b[1;32mif\u001b[0m \u001b[0mZ\u001b[0m\u001b[1;33m.\u001b[0m\u001b[0mndim\u001b[0m \u001b[1;33m!=\u001b[0m \u001b[1;36m2\u001b[0m\u001b[1;33m:\u001b[0m\u001b[1;33m\u001b[0m\u001b[1;33m\u001b[0m\u001b[0m\n\u001b[1;32m-> 1497\u001b[1;33m             \u001b[1;32mraise\u001b[0m \u001b[0mValueError\u001b[0m\u001b[1;33m(\u001b[0m\u001b[1;34m\"Argument Z must be 2-dimensional.\"\u001b[0m\u001b[1;33m)\u001b[0m\u001b[1;33m\u001b[0m\u001b[1;33m\u001b[0m\u001b[0m\n\u001b[0m\u001b[0;32m   1498\u001b[0m         \u001b[1;32mif\u001b[0m \u001b[0mnp\u001b[0m\u001b[1;33m.\u001b[0m\u001b[0many\u001b[0m\u001b[1;33m(\u001b[0m\u001b[0mnp\u001b[0m\u001b[1;33m.\u001b[0m\u001b[0misnan\u001b[0m\u001b[1;33m(\u001b[0m\u001b[0mZ\u001b[0m\u001b[1;33m)\u001b[0m\u001b[1;33m)\u001b[0m\u001b[1;33m:\u001b[0m\u001b[1;33m\u001b[0m\u001b[1;33m\u001b[0m\u001b[0m\n\u001b[0;32m   1499\u001b[0m             cbook._warn_external(\n",
      "\u001b[1;31mValueError\u001b[0m: Argument Z must be 2-dimensional."
     ]
    },
    {
     "data": {
      "image/png": "[encoded data removed]",
      "text/plain": [
       "<Figure size 720x720 with 1 Axes>"
      ]
     },
     "metadata": {
      "needs_background": "light"
     },
     "output_type": "display_data"
    }
   ],
   "source": [
    "# 9.4.2 주파수 영역 필터링2\n",
    "import numpy as np, cv2\n",
    "from Common.dft2d import calc_spectrum, FFT, IFFT\n",
    "import matplotlib.pyplot as plt\n",
    "from mpl_toolkits.mplot3d import Axes3D\n",
    "\n",
    "def get_gaussianFilter(shape, R):\n",
    "    u = np.array(shape)//2\n",
    "    y = np.arange(-u[0], u[0], 1)\n",
    "    x = np.arange(-u[1], u[1], 1)\n",
    "    x, y = np.meshgrid(x, y)\n",
    "    filter = np.exp(-(x**2 + y**2) / (2*R**2))\n",
    "    return x, y, filter if len(shape) < 3 else cv2.merge([filter, filter])\n",
    "\n",
    "def get_butterworthFilter(shape, R, n):\n",
    "    u = np.array(shape)//2\n",
    "    y = np.arange(-u[0], u[0], 1)\n",
    "    x = np.arange(-u[1], u[1], 1)\n",
    "    x, y = np.meshgrid(x, y)\n",
    "    dist = np.sqrt(x**2 + y**2)\n",
    "    filter = 1 / (1 + np.power(dist / R, 2 * n))\n",
    "    return x, y, filter if len(shape) < 3 else cv2.merge([filter, filter])\n",
    "\n",
    "image = cv2.imread(\"images_09/test.jpg\", cv2.IMREAD_GRAYSCALE)\n",
    "if image is None: raise Exception(\"영상 파일 읽기 오류\")\n",
    "\n",
    "mode = 2\n",
    "dft, spectrum = FFT(image, mode)\n",
    "x1, y1, gauss_filter = get_gaussianFilter(dft.shape, 30)\n",
    "x2, y2, butter_filter = get_butterworthFilter(dft.shape, 30, 10)\n",
    "\n",
    "filterd_dft1 = dft * gauss_filter\n",
    "filterd_dft2 = dft * butter_filter\n",
    "gauss_img = IFFT(filterd_dft1, image.shape, mode)\n",
    "butter_img = IFFT(filterd_dft2, image.shape, mode)\n",
    "spectrum1 = calc_spectrum(filterd_dft1)\n",
    "spectrum2 = calc_spectrum(filterd_dft2)\n",
    "\n",
    "if mode == 3:\n",
    "    gauss_filter, butter_filter, = gauss_filter[:, :, 0], butter_filter[:, :, 0]\n",
    "\n",
    "plt.figure(figsize=(10, 10))\n",
    "ax1 = plt.subplot(332, projection='3d')\n",
    "ax1.plot_surface(x1, y1, gauss_filter, cmap='RdPu')\n",
    "plt.title('gauss_filter')\n",
    "\n",
    "ax2 = plt.subplot(333, projection='3d')\n",
    "ax2.plot_surface(x2, y2, butter_filter, cmap='RdPu')\n",
    "plt.title('butter_filter')\n",
    "\n",
    "titles = ['image', 'gauss_img', 'butter_img', 'spectrum', 'spectrum1', 'spectrum2']\n",
    "images = [image, gauss_img, butter_img, spectrum, spectrum1, spectrum2]\n",
    "plt.gray()\n",
    "\n",
    "for i, t in enumerate(titles):\n",
    "    plt.subplot(3, 3, i+4)\n",
    "    plt.imshow(images[i]), plt.title(t)\n",
    "plt.tight_layout()\n",
    "plt.imshow()\n"
   ]
  },
  {
   "cell_type": "markdown",
   "metadata": {},
   "source": [
    "두 가지 신호가 겹치는 경우 발생하는 모아레 현상을 제거"
   ]
  },
  {
   "cell_type": "code",
   "execution_count": 3,
   "metadata": {},
   "outputs": [
    {
     "ename": "error",
     "evalue": "OpenCV(4.5.4-dev) D:\\a\\opencv-python\\opencv-python\\opencv\\modules\\highgui\\src\\window.cpp:868: error: (-215:Assertion failed) trackbar in function 'cv::getTrackbarPos'\n",
     "output_type": "error",
     "traceback": [
      "\u001b[1;31m---------------------------------------------------------------------------\u001b[0m",
      "\u001b[1;31merror\u001b[0m                                     Traceback (most recent call last)",
      "\u001b[1;32m~\\AppData\\Local\\Temp/ipykernel_9792/340987120.py\u001b[0m in \u001b[0;36monRemoveMoire\u001b[1;34m(val)\u001b[0m\n\u001b[0;32m      5\u001b[0m \u001b[1;32mdef\u001b[0m \u001b[0monRemoveMoire\u001b[0m\u001b[1;33m(\u001b[0m\u001b[0mval\u001b[0m\u001b[1;33m)\u001b[0m\u001b[1;33m:\u001b[0m\u001b[1;33m\u001b[0m\u001b[1;33m\u001b[0m\u001b[0m\n\u001b[0;32m      6\u001b[0m     \u001b[0mradius\u001b[0m \u001b[1;33m=\u001b[0m \u001b[0mcv2\u001b[0m\u001b[1;33m.\u001b[0m\u001b[0mgetTrackbarPos\u001b[0m\u001b[1;33m(\u001b[0m\u001b[1;34m'radius'\u001b[0m\u001b[1;33m,\u001b[0m \u001b[0mtitle\u001b[0m\u001b[1;33m)\u001b[0m\u001b[1;33m\u001b[0m\u001b[1;33m\u001b[0m\u001b[0m\n\u001b[1;32m----> 7\u001b[1;33m     \u001b[0mth\u001b[0m \u001b[1;33m=\u001b[0m \u001b[0mcv2\u001b[0m\u001b[1;33m.\u001b[0m\u001b[0mgetTrackbarPos\u001b[0m\u001b[1;33m(\u001b[0m\u001b[1;34m'threshold'\u001b[0m\u001b[1;33m,\u001b[0m \u001b[0mtitle\u001b[0m\u001b[1;33m)\u001b[0m\u001b[1;33m\u001b[0m\u001b[1;33m\u001b[0m\u001b[0m\n\u001b[0m\u001b[0;32m      8\u001b[0m \u001b[1;33m\u001b[0m\u001b[0m\n\u001b[0;32m      9\u001b[0m     \u001b[0mmask\u001b[0m \u001b[1;33m=\u001b[0m \u001b[0mcv2\u001b[0m\u001b[1;33m.\u001b[0m\u001b[0mthreshold\u001b[0m\u001b[1;33m(\u001b[0m\u001b[0mspectrum_img\u001b[0m\u001b[1;33m,\u001b[0m \u001b[0mth\u001b[0m\u001b[1;33m,\u001b[0m \u001b[1;36m255\u001b[0m\u001b[1;33m,\u001b[0m \u001b[0mcv2\u001b[0m\u001b[1;33m.\u001b[0m\u001b[0mTHRESH_BINARY_INV\u001b[0m\u001b[1;33m)\u001b[0m\u001b[1;33m[\u001b[0m\u001b[1;36m1\u001b[0m\u001b[1;33m]\u001b[0m\u001b[1;33m\u001b[0m\u001b[1;33m\u001b[0m\u001b[0m\n",
      "\u001b[1;31merror\u001b[0m: OpenCV(4.5.4-dev) D:\\a\\opencv-python\\opencv-python\\opencv\\modules\\highgui\\src\\window.cpp:868: error: (-215:Assertion failed) trackbar in function 'cv::getTrackbarPos'\n"
     ]
    },
    {
     "data": {
      "text/plain": [
       "-1"
      ]
     },
     "execution_count": 3,
     "metadata": {},
     "output_type": "execute_result"
    }
   ],
   "source": [
    "# 9.4.3 모아레 제거\n",
    "import numpy as np, cv2\n",
    "from Common.dft2d import calc_spectrum, FFT, IFFT\n",
    "\n",
    "def onRemoveMoire(val):\n",
    "    radius = cv2.getTrackbarPos('radius', title)\n",
    "    th = cv2.getTrackbarPos('threshold', title)\n",
    "\n",
    "    mask = cv2.threshold(spectrum_img, th, 255, cv2.THRESH_BINARY_INV)[1]\n",
    "    y, x = np.divmod(mask.shape, 2)[0]\n",
    "    cv2.circle(mask, (x, y), radius, 255, 1)\n",
    "\n",
    "    if dft.ndim<3:\n",
    "        remv_dft = np.zeros(dft.shape, np.complex)\n",
    "        remv_dft.imag = cv2.copyTo(dft.imag, mask=mask)\n",
    "        remv_dft.real = cv2.copyTo(dft.real, mask=mask)\n",
    "    else:\n",
    "        remv_dft = cv2.copyTo(dft, mask=mask)\n",
    "    \n",
    "    result[:, image.shape[1]:] = IFFT(remv_dft, image.shape, mode)\n",
    "    cv2.imshow(title, calc_spectrum(remv_dft))\n",
    "    cv2.imshow('result', result)\n",
    "\n",
    "image = cv2.imread(\"images_09/test.jpg\", cv2.IMREAD_GRAYSCALE)\n",
    "if image is None: raise Exception(\"영상 파일 읽기 오류\")\n",
    "\n",
    "mode = 3\n",
    "result = cv2.repeat(image, 1, 2)\n",
    "dft, spectrum_img = FFT(image, mode)\n",
    "\n",
    "title = 'removed moire'\n",
    "cv2.imshow('result', result)\n",
    "cv2.imshow(title, spectrum_img)\n",
    "cv2.createTrackbar('radius', title, 10, 255, onRemoveMoire)\n",
    "cv2.createTrackbar('threshold', title, 120, 255, onRemoveMoire)\n",
    "cv2.waitKey(0)\n"
   ]
  },
  {
   "cell_type": "markdown",
   "metadata": {},
   "source": [
    "이산 코사인 변환 : 허수부를 없앨 수 있는 방법을 찾음\n",
    "\n",
    "허수부가 매우 작기 때문에 무시해도 상관 없음 -> 데이터가 없어지기 때문에 압축할 수 있음 -> 연산량과 저장량이 줄어듦\n",
    "\n",
    "-> jpeg, mpeg 등에서 사용함\n",
    "\n",
    "-> 이런게 있다 정도만 알면 됨"
   ]
  },
  {
   "cell_type": "code",
   "execution_count": 4,
   "metadata": {},
   "outputs": [
    {
     "name": "stdout",
     "output_type": "stream",
     "text": [
      "block = [[128 136  93 107 190]\n",
      " [114  96 143 154  71]\n",
      " [166 126 193  30  33]]\n",
      "cv dct =\n",
      " [[ 459.594      53.969677  -22.501207    1.200143   44.138367]\n",
      " [  33.520145 -100.550446   75.75286   -22.76198   -59.75286 ]\n",
      " [   8.398418   32.89206    38.765007  -61.456863   32.826427]]\n",
      "cv idct =\n",
      " [[128 136  93 107 190]\n",
      " [114  96 143 154  71]\n",
      " [166 126 193  30  33]]\n"
     ]
    }
   ],
   "source": [
    "# 9.5.1 이산 코사인 변환\n",
    "import numpy as np, cv2, math\n",
    "import scipy.fftpack as sf\n",
    "\n",
    "def cos(n, k, N):\n",
    "    return math.cos((n+1/2) * math.pi * k/N)\n",
    "\n",
    "def C(k, N):\n",
    "    return math.sqrt(1/N) if k==0 else math.sqrt(2/N)\n",
    "\n",
    "def dct(g):\n",
    "    N = len(g)\n",
    "    f = [C(k, N) * sum(g[n] * cos(n, k, N) for n in range(N)) for k in range(N)]\n",
    "    return np.array(f, np.float32)\n",
    "\n",
    "def idct(f):\n",
    "    N = len(f)\n",
    "    g = [sum(C(k, N) * f[k] * cos(n, k, N) for k in range(N)) for n in range(N)]\n",
    "    return np.array(g)\n",
    "\n",
    "def dct2(image):\n",
    "    tmp = [dct(row) for row in image]\n",
    "    dst = [dct(row) for row in np.transpose(tmp)]\n",
    "    return np.transpose(dst)\n",
    "\n",
    "def idct2(iamge):\n",
    "    tmp = [idct(row) for row in image]\n",
    "    dst = [idct(row) for row in np.transpose(tmp)]\n",
    "    return np.transpose(dst)\n",
    "\n",
    "def scipy_dct2(a):\n",
    "    tmp = sf.dct(a, axis=0, norm='ortho')\n",
    "    tmp = sf.dct(tmp, axis=1, norm='ortho')\n",
    "\n",
    "def scipy_idct2(a):\n",
    "    tmp = sf.idct(a, axis=0, norm='ortho')\n",
    "    return sf.idct(tmp, axis=1, norm='ortho')\n",
    "\n",
    "block = np.zeros((3,5), np.uint8)\n",
    "cv2.randn(block, 128, 50)\n",
    "\n",
    "dct4 = cv2.dct(block.astype('float32'))\n",
    "\n",
    "idct4 = cv2.dct(dct4, flags=cv2.DCT_INVERSE)\n",
    "\n",
    "print('block =', block)\n",
    "print('cv dct =\\n', dct4)\n",
    "print('cv idct =\\n', cv2.convertScaleAbs(idct4))\n"
   ]
  },
  {
   "cell_type": "code",
   "execution_count": 3,
   "metadata": {},
   "outputs": [
    {
     "ename": "error",
     "evalue": "OpenCV(4.5.4-dev) D:\\a\\opencv-python\\opencv-python\\opencv\\modules\\core\\src\\dxt.cpp:4417: error: (-215:Assertion failed) type == CV_32FC1 || type == CV_64FC1 in function 'cv::dct'\n",
     "output_type": "error",
     "traceback": [
      "\u001b[1;31m---------------------------------------------------------------------------\u001b[0m",
      "\u001b[1;31merror\u001b[0m                                     Traceback (most recent call last)",
      "\u001b[1;32m~\\AppData\\Local\\Temp/ipykernel_8632/4013588176.py\u001b[0m in \u001b[0;36m<module>\u001b[1;34m\u001b[0m\n\u001b[0;32m     39\u001b[0m \u001b[1;33m\u001b[0m\u001b[0m\n\u001b[0;32m     40\u001b[0m \u001b[1;32mfor\u001b[0m \u001b[0mfilter\u001b[0m\u001b[1;33m,\u001b[0m \u001b[0mtitle\u001b[0m \u001b[1;32min\u001b[0m \u001b[0mzip\u001b[0m\u001b[1;33m(\u001b[0m\u001b[0mfilters\u001b[0m\u001b[1;33m,\u001b[0m \u001b[0mtitles\u001b[0m\u001b[1;33m)\u001b[0m\u001b[1;33m:\u001b[0m\u001b[1;33m\u001b[0m\u001b[1;33m\u001b[0m\u001b[0m\n\u001b[1;32m---> 41\u001b[1;33m     \u001b[0mdst\u001b[0m \u001b[1;33m=\u001b[0m \u001b[0mdct_filtering\u001b[0m\u001b[1;33m(\u001b[0m\u001b[0mimage\u001b[0m\u001b[1;33m,\u001b[0m \u001b[0mfilters\u001b[0m\u001b[1;33m,\u001b[0m \u001b[0mM\u001b[0m\u001b[1;33m,\u001b[0m \u001b[0mN\u001b[0m\u001b[1;33m)\u001b[0m\u001b[1;33m\u001b[0m\u001b[1;33m\u001b[0m\u001b[0m\n\u001b[0m\u001b[0;32m     42\u001b[0m     \u001b[0mcv2\u001b[0m\u001b[1;33m.\u001b[0m\u001b[0mimshow\u001b[0m\u001b[1;33m(\u001b[0m\u001b[0mtitle\u001b[0m\u001b[1;33m,\u001b[0m \u001b[0mdst\u001b[0m\u001b[1;33m)\u001b[0m\u001b[1;33m\u001b[0m\u001b[1;33m\u001b[0m\u001b[0m\n\u001b[0;32m     43\u001b[0m \u001b[1;33m\u001b[0m\u001b[0m\n",
      "\u001b[1;32m~\\AppData\\Local\\Temp/ipykernel_8632/4013588176.py\u001b[0m in \u001b[0;36mdct_filtering\u001b[1;34m(img, filter, M, N)\u001b[0m\n\u001b[0;32m     20\u001b[0m             \u001b[0mnew_block\u001b[0m \u001b[1;33m=\u001b[0m \u001b[0mdct2_mode\u001b[0m\u001b[1;33m(\u001b[0m\u001b[0mblock\u001b[0m\u001b[1;33m,\u001b[0m \u001b[0mmode\u001b[0m\u001b[1;33m)\u001b[0m\u001b[1;33m\u001b[0m\u001b[1;33m\u001b[0m\u001b[0m\n\u001b[0;32m     21\u001b[0m             \u001b[0mnew_block\u001b[0m \u001b[1;33m=\u001b[0m \u001b[0mnew_block\u001b[0m \u001b[1;33m*\u001b[0m \u001b[0mfilter\u001b[0m\u001b[1;33m\u001b[0m\u001b[1;33m\u001b[0m\u001b[0m\n\u001b[1;32m---> 22\u001b[1;33m             \u001b[0mdst\u001b[0m\u001b[1;33m[\u001b[0m\u001b[0mi\u001b[0m\u001b[1;33m:\u001b[0m\u001b[0mi\u001b[0m\u001b[1;33m+\u001b[0m\u001b[0mM\u001b[0m\u001b[1;33m,\u001b[0m \u001b[0mj\u001b[0m\u001b[1;33m:\u001b[0m\u001b[0mj\u001b[0m\u001b[1;33m+\u001b[0m\u001b[0mN\u001b[0m\u001b[1;33m]\u001b[0m \u001b[1;33m=\u001b[0m \u001b[0midct2_mode\u001b[0m\u001b[1;33m(\u001b[0m\u001b[0mnew_block\u001b[0m\u001b[1;33m,\u001b[0m \u001b[0mmode\u001b[0m\u001b[1;33m)\u001b[0m\u001b[1;33m\u001b[0m\u001b[1;33m\u001b[0m\u001b[0m\n\u001b[0m\u001b[0;32m     23\u001b[0m     \u001b[1;32mreturn\u001b[0m \u001b[0mcv2\u001b[0m\u001b[1;33m.\u001b[0m\u001b[0mconvertScaleAbs\u001b[0m\u001b[1;33m(\u001b[0m\u001b[0mdst\u001b[0m\u001b[1;33m)\u001b[0m\u001b[1;33m\u001b[0m\u001b[1;33m\u001b[0m\u001b[0m\n\u001b[0;32m     24\u001b[0m \u001b[1;33m\u001b[0m\u001b[0m\n",
      "\u001b[1;32m~\\AppData\\Local\\Temp/ipykernel_8632/4013588176.py\u001b[0m in \u001b[0;36midct2_mode\u001b[1;34m(block, mode)\u001b[0m\n\u001b[0;32m     11\u001b[0m     \u001b[1;32mif\u001b[0m \u001b[0mmode\u001b[0m \u001b[1;33m==\u001b[0m \u001b[1;36m1\u001b[0m\u001b[1;33m:\u001b[0m \u001b[1;32mreturn\u001b[0m \u001b[0midct2\u001b[0m\u001b[1;33m(\u001b[0m\u001b[0mblock\u001b[0m\u001b[1;33m)\u001b[0m\u001b[1;33m\u001b[0m\u001b[1;33m\u001b[0m\u001b[0m\n\u001b[0;32m     12\u001b[0m     \u001b[1;32melif\u001b[0m \u001b[0mmode\u001b[0m \u001b[1;33m==\u001b[0m \u001b[1;36m2\u001b[0m\u001b[1;33m:\u001b[0m \u001b[1;32mreturn\u001b[0m \u001b[0mscipy_idct2\u001b[0m\u001b[1;33m(\u001b[0m\u001b[0mblock\u001b[0m\u001b[1;33m)\u001b[0m\u001b[1;33m\u001b[0m\u001b[1;33m\u001b[0m\u001b[0m\n\u001b[1;32m---> 13\u001b[1;33m     \u001b[1;32melif\u001b[0m \u001b[0mmode\u001b[0m \u001b[1;33m==\u001b[0m \u001b[1;36m3\u001b[0m\u001b[1;33m:\u001b[0m \u001b[1;32mreturn\u001b[0m \u001b[0mcv2\u001b[0m\u001b[1;33m.\u001b[0m\u001b[0mdct\u001b[0m\u001b[1;33m(\u001b[0m\u001b[0mblock\u001b[0m\u001b[1;33m,\u001b[0m \u001b[0mflags\u001b[0m\u001b[1;33m=\u001b[0m\u001b[0mcv2\u001b[0m\u001b[1;33m.\u001b[0m\u001b[0mDCT_INVERSE\u001b[0m\u001b[1;33m)\u001b[0m\u001b[1;33m\u001b[0m\u001b[1;33m\u001b[0m\u001b[0m\n\u001b[0m\u001b[0;32m     14\u001b[0m \u001b[1;33m\u001b[0m\u001b[0m\n\u001b[0;32m     15\u001b[0m \u001b[1;32mdef\u001b[0m \u001b[0mdct_filtering\u001b[0m\u001b[1;33m(\u001b[0m\u001b[0mimg\u001b[0m\u001b[1;33m,\u001b[0m \u001b[0mfilter\u001b[0m\u001b[1;33m,\u001b[0m \u001b[0mM\u001b[0m\u001b[1;33m,\u001b[0m \u001b[0mN\u001b[0m\u001b[1;33m)\u001b[0m\u001b[1;33m:\u001b[0m\u001b[1;33m\u001b[0m\u001b[1;33m\u001b[0m\u001b[0m\n",
      "\u001b[1;31merror\u001b[0m: OpenCV(4.5.4-dev) D:\\a\\opencv-python\\opencv-python\\opencv\\modules\\core\\src\\dxt.cpp:4417: error: (-215:Assertion failed) type == CV_32FC1 || type == CV_64FC1 in function 'cv::dct'\n"
     ]
    }
   ],
   "source": [
    "# 9.5.2 DCT를 이용한 주파수 영역 필터링\n",
    "import numpy as np, cv2\n",
    "from Common.dct import dct2, idct2, scipy_dct2, scipy_idct2\n",
    "\n",
    "def dct2_mode(block, mode):\n",
    "    if mode == 1: return dct2(block)\n",
    "    elif mode == 2: return scipy_dct2(block)\n",
    "    elif mode == 3: return cv2.dct(block.astype('float32'))\n",
    "\n",
    "def idct2_mode(block, mode):\n",
    "    if mode == 1: return idct2(block)\n",
    "    elif mode == 2: return scipy_idct2(block)\n",
    "    ########## error\n",
    "    elif mode == 3: return cv2.dct(block, flags=cv2.DCT_INVERSE)\n",
    "\n",
    "def dct_filtering(img, filter, M, N):\n",
    "    dst = np.empty(img.shape, np.float32)\n",
    "    for i in range(0, img.shape[0], M):\n",
    "        for j in range(0, img.shape[1], N):\n",
    "            block = img[i:i+M, j:j+N]\n",
    "            new_block = dct2_mode(block, mode)\n",
    "            new_block = new_block * filter\n",
    "            dst[i:i+M, j:j+N] = idct2_mode(new_block, mode)\n",
    "    return cv2.convertScaleAbs(dst)\n",
    "\n",
    "image = cv2.imread(\"images_09/test.jpg\", cv2.IMREAD_GRAYSCALE)\n",
    "if image is None: raise Exception(\"영상 파일 읽기 오류\")\n",
    "\n",
    "mode = 3\n",
    "M, N = 8, 8\n",
    "\n",
    "filters = [np.zeros((M, N), np.float32) for i in range(5)]\n",
    "titles = ['DC Pass', 'High Pass', 'Low Pass', 'Vertiacl Pass', 'Horizental Pass']\n",
    "\n",
    "filters[0][0, 0] = 1\n",
    "filters[1][:], filters[2][0, 0] = 1, 0\n",
    "filters[2][:M//2, :N//2] = 1\n",
    "filters[3][0, 1:] = 1\n",
    "filters[4][1:, 0] = 1\n",
    "\n",
    "for filter, title in zip(filters, titles):\n",
    "    dst = dct_filtering(image, filters, M, N)\n",
    "    cv2.imshow(title, dst)\n",
    "\n",
    "cv2.imshow('image', image)\n",
    "cv2.waitKey(0)\n",
    "\n",
    "\n"
   ]
  },
  {
   "cell_type": "code",
   "execution_count": null,
   "metadata": {},
   "outputs": [],
   "source": []
  }
 ],
 "metadata": {
  "interpreter": {
   "hash": "92771ea27045e6d3db80b55a6b5890add6855319478e1ad4c5088ad1c5b80e06"
  },
  "kernelspec": {
   "display_name": "Python 3.9.0 64-bit",
   "language": "python",
   "name": "python3"
  },
  "language_info": {
   "codemirror_mode": {
    "name": "ipython",
    "version": 3
   },
   "file_extension": ".py",
   "mimetype": "text/x-python",
   "name": "python",
   "nbconvert_exporter": "python",
   "pygments_lexer": "ipython3",
   "version": "3.9.0"
  },
  "orig_nbformat": 4
 },
 "nbformat": 4,
 "nbformat_minor": 2
}
