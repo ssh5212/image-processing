{
 "cells": [
  {
   "cell_type": "markdown",
   "metadata": {},
   "source": [
    "### 9.3 고속 퓨리에 변환 (fft)\n",
    "\n",
    "수식을 짝수부와 홀수부로 분리 (N =2L)\n",
    "\n",
    "g(k)로 g(k+L)의 값을 찾을 수 있음\n",
    "\n",
    "순서 : 홀수부와 짝수부로 분해 - 2개가 하나의 세트가 될 때까지 분해 - dft 계산 - 병합 - 최종 결과 출력됨\n",
    "\n",
    "\n",
    "zero padding = 전체 이미지 사이즈를 2^n개로 만들어서 계산을 수월하게 하도록 하기 위해"
   ]
  },
  {
   "cell_type": "code",
   "execution_count": 2,
   "metadata": {},
   "outputs": [
    {
     "name": "stdout",
     "output_type": "stream",
     "text": [
      "cv 방법 변환 행렬 크기: (852, 1280, 2)\n"
     ]
    }
   ],
   "source": [
    "# 9.3.1 고속 푸리에 변환\n",
    "import numpy as np, cv2\n",
    "from Common.dft2d import dft, idft, calc_spectrum, fftshift, exp\n",
    "from Common.fft2d import zeropadding\n",
    "\n",
    "def butterfly(pair, L, N, dir):\n",
    "    for k in range(L):\n",
    "        Geven, Godd = pair[k], pair[k + L]\n",
    "        pair[k] = Geven + Godd * exp(dir * k / N) # 짝수부\n",
    "        pair[k+L] = Geven - Godd * exp(dir * k / N) # 홀수부\n",
    "\n",
    "def pairing(g, N, dir, start=0, stride=1):\n",
    "    if N == 1: return[g[start]]\n",
    "    L = N // 2\n",
    "    sd = stride * 2\n",
    "    part1 = pairing(g, L, dir, start, sd) # 홀수 신호 처리\n",
    "    part2 = pairing(g, L, dir, start + stride, sd) # 짝수 신호 처리\n",
    "    pair = part1 + part2\n",
    "    butterfly(pair, L, N, dir)\n",
    "    return pair\n",
    "\n",
    "def fft(g):\n",
    "    return pairing(g, len(g), 1)\n",
    "\n",
    "def ifft(g):\n",
    "    fft = pairing(g, len(g), -1)\n",
    "    return [v / len(g) for v in fft]\n",
    "\n",
    "def fft2(image):\n",
    "    pad_img = zeropadding(image)\n",
    "    tmp = [fft(row) for row in pad_img]\n",
    "    dst = [fft(row) for row in np.transpose(tmp)]\n",
    "    return np.transpose[dst]\n",
    "\n",
    "def ifft2(image):\n",
    "    tmp = [fft(row) for row in image]\n",
    "    dst = [fft(row) for row in np.transpose(tmp)]\n",
    "    return np.transpose[dst]\n",
    "\n",
    "image = cv2.imread(\"images_09/test.jpg\", cv2.IMREAD_GRAYSCALE)\n",
    "if image is None: raise Exception(\"영상 파일 읽기 오류\")\n",
    "\n",
    "# dft1 = fft2(image)\n",
    "dft2 = np.fft.fft2(image)\n",
    "dft3 = cv2.dft(np.float32(image), flags=cv2.DFT_COMPLEX_OUTPUT)\n",
    "\n",
    "# spectrum1 = calc_spectrum(fftshift(dft1))\n",
    "spectrum2 = calc_spectrum(fftshift(dft2))\n",
    "spectrum3 = calc_spectrum(fftshift(dft3))\n",
    "\n",
    "# idft1 = fft2(dft1).real\n",
    "# idft2 = np.fft.ifft2(dft1).real\n",
    "idft3 = cv2.idft(dft3, flags=cv2.DFT_SCALE)[:, :, 0]\n",
    "\n",
    "# print('user 방법 변환 행렬 크기:', dft1.shape)\n",
    "# print('np 방법 변환 행렬 크기:', dft2.shape)\n",
    "print('cv 방법 변환 행렬 크기:', dft3.shape)\n",
    "\n",
    "# cv2.imshow('spectrum1', spectrum1)\n",
    "# cv2.imshow('spectrum2 np', spectrum2)\n",
    "cv2.imshow('spectrum3 cv', spectrum3)\n",
    "# cv2.imshow('idft_img1', cv2.convertScaleAbs(idft1))\n",
    "# cv2.imshow('idft_img2', cv2.convertScaleAbs(idft2))\n",
    "cv2.imshow('idft_img3', cv2.convertScaleAbs(idft3))\n",
    "cv2.waitKey(0)\n",
    "    "
   ]
  },
  {
   "cell_type": "code",
   "execution_count": null,
   "metadata": {},
   "outputs": [],
   "source": []
  }
 ],
 "metadata": {
  "interpreter": {
   "hash": "92771ea27045e6d3db80b55a6b5890add6855319478e1ad4c5088ad1c5b80e06"
  },
  "kernelspec": {
   "display_name": "Python 3.9.0 64-bit",
   "language": "python",
   "name": "python3"
  },
  "language_info": {
   "codemirror_mode": {
    "name": "ipython",
    "version": 3
   },
   "file_extension": ".py",
   "mimetype": "text/x-python",
   "name": "python",
   "nbconvert_exporter": "python",
   "pygments_lexer": "ipython3",
   "version": "3.9.0"
  },
  "orig_nbformat": 4
 },
 "nbformat": 4,
 "nbformat_minor": 2
}
