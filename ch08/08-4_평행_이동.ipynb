{
 "cells": [
  {
   "cell_type": "markdown",
   "metadata": {},
   "source": [
    "### 8.4 평행 이동\n",
    "영상의 원점을 기준으로 모든 화소를 동일하게 가로, 세로 방향으로 이동\n",
    "\n",
    "CV에서는 y값을 증가시키면(더하면) 이미지가 아래로 이동함"
   ]
  },
  {
   "cell_type": "code",
   "execution_count": 1,
   "metadata": {},
   "outputs": [],
   "source": [
    "# 8.4.1 영상 평행 이동\n",
    "import numpy as np, cv2\n",
    "\n",
    "# 좌표가 인수범위 내에 있는지 확인\n",
    "def contain(p, shape):\n",
    "    return 0 <= p[0] < shape[0] and 0 <= p[1] < shape[1] # 범위 이내이면 True, 아니면 False\n",
    "\n",
    "def translate(img, pt):\n",
    "    dst = np.zeros(image.shape, img.dtype)\n",
    "    for i in range(img.shape[0]):\n",
    "        for j in range(img.shape[1]):\n",
    "            x, y = np.subtract((j, i), pt)\n",
    "            if contain((y, x), img.shape): # 범위를 벗어나면 굳이 계산하여 삽입하지 않음\n",
    "                dst[i,j] = img[y, x]\n",
    "    return dst\n",
    "\n",
    "image = cv2.imread(\"images_08/test.jpg\", cv2.IMREAD_GRAYSCALE)\n",
    "if image is None: raise Exception(\"영상 파일 읽기 오류\")\n",
    "\n",
    "\n",
    "dst1 = translate(image, (30, 80))\n",
    "dst2 = translate(image, (-70, -50))\n",
    "\n",
    "cv2.imshow(\"image\", image)\n",
    "cv2.imshow(\"dst1 (30, 80)\", dst1)\n",
    "cv2.imshow(\"dst2 (-70, -50)\", dst2)\n",
    "cv2.waitKey(0)"
   ]
  },
  {
   "cell_type": "markdown",
   "metadata": {},
   "source": [
    "### 8.5 회전\n",
    "\n",
    "역방향 회전은\n",
    "\n",
    "x = xcosT + ysinT\n",
    "\n",
    "y = -xsinT + ycosT\n",
    "\n",
    "--------\n",
    "\n",
    "영상 회전은 좌측최상단을 기준으로 돌아가지만 일반적으로 중심값을 기준으로 돌리는 회전을 사용하므로,\n",
    "\n",
    "영상의 가운데를 좌측최상단으로 이동하여 회전 후 다시 원래 자리로 이동함\n"
   ]
  },
  {
   "cell_type": "code",
   "execution_count": 12,
   "metadata": {},
   "outputs": [
    {
     "name": "stdout",
     "output_type": "stream",
     "text": [
      "[113 113]\n"
     ]
    },
    {
     "data": {
      "text/plain": [
       "-1"
      ]
     },
     "execution_count": 12,
     "metadata": {},
     "output_type": "execute_result"
    }
   ],
   "source": [
    "# 8.5.1 영상 회전\n",
    "import numpy as np, cv2, math\n",
    "from Common.interpolation import bilinear_value\n",
    "from Common.functions import contain\n",
    "\n",
    "# 원점 기준 회전 변환\n",
    "def rotate(img, degree):\n",
    "    dst = np.zeros(img.shape[:2], img.dtype)\n",
    "    radian = (degree/180) * np.pi # 회전 변환 각도를 라디안으로 변형\n",
    "    sin, cos = np.sin(radian), np.cos(radian)\n",
    "\n",
    "    for i in range(img.shape[0]):\n",
    "        for j in range(img.shape[1]):\n",
    "            y = -j*sin + i*cos\n",
    "            x = j*cos + i*sin\n",
    "            if contain((y, x), img.shape): # 범위를 벗어난 위치는 연산하지 않음\n",
    "                dst[i, j] = bilinear_value(img, [x, y])\n",
    "    return dst\n",
    "\n",
    "# 특정 중심을 가지고 움직임\n",
    "def rotate_pt(img, degree, pt):\n",
    "    dst = np.zeros(img.shape[:2], img.dtype)\n",
    "    radian = (degree/180) * np.pi\n",
    "    sin, cos = math.sin(radian), math.cos(radian)\n",
    "\n",
    "    for i in range(img.shape[0]):\n",
    "        for j in range(img.shape[1]):\n",
    "            jj, ii = np.subtract((j, i), pt) # 중심좌표로 평행 이동\n",
    "\n",
    "            y = -jj*sin + ii*cos\n",
    "            x = jj*cos + ii*sin\n",
    "            x, y = np.add((x,y), pt)\n",
    "            if contain((y, x), img.shape):\n",
    "                dst[i, j] = bilinear_value(img, [x, y])\n",
    "    return dst\n",
    "\n",
    "image = cv2.imread(\"images_08/test.jpg\", cv2.IMREAD_GRAYSCALE)\n",
    "if image is None: raise Exception(\"영상 파일 읽기 오류\")\n",
    "\n",
    "center = np.divmod(image.shape[::-1], 2)[0]\n",
    "print(center)\n",
    "dst1 = rotate(image, 20)\n",
    "dst2 = rotate_pt(image, 20, center)\n",
    "\n",
    "cv2.imshow(\"image\", image)\n",
    "cv2.imshow(\"dst1 : rotated on (0,0)\", dst1)\n",
    "cv2.imshow(\"dst2 : rotated on center\", dst2)\n",
    "cv2.waitKey(0)"
   ]
  },
  {
   "cell_type": "code",
   "execution_count": 1,
   "metadata": {},
   "outputs": [
    {
     "name": "stdout",
     "output_type": "stream",
     "text": [
      "좌표 :  1 [104, 97]\n",
      "좌표 :  2 [142, 130]\n",
      "좌표 :  3 [142, 130]\n",
      "회전각: 0.00\n",
      "좌표 :  1 [95, 117]\n",
      "좌표 :  2 [79, 81]\n",
      "좌표 :  3 [79, 81]\n",
      "회전각: 0.00\n",
      "좌표 :  1 [66, 60]\n",
      "좌표 :  2 [141, 105]\n",
      "좌표 :  3 [96, 148]\n",
      "회전각: 40.21\n"
     ]
    },
    {
     "data": {
      "text/plain": [
       "-1"
      ]
     },
     "execution_count": 1,
     "metadata": {},
     "output_type": "execute_result"
    }
   ],
   "source": [
    "# 8.5.2 마우스로 영상 회전\n",
    "import numpy as np, cv2\n",
    "from Common.interpolation import rotate_pt\n",
    "\n",
    "def calc_angle(pts):\n",
    "    d1 = np.subtract(pts[1], pts[0]).astype(float)\n",
    "    d2 = np.subtract(pts[2], pts[0]).astype(float)\n",
    "    angle1 = cv2.fastAtan2(d1[1], d1[0])\n",
    "    angle2 = cv2.fastAtan2(d2[1], d2[0])\n",
    "    return (angle2 - angle1)\n",
    "\n",
    "def draw_point(x, y):\n",
    "    pts.append([x, y])\n",
    "    print(\"좌표 : \", len(pts), [x, y])\n",
    "    cv2.circle(tmp, (x, y), 2, 255, 2)\n",
    "    cv2.imshow(\"image\", tmp)\n",
    "\n",
    "def onMouse(event, x, y, flags, param):\n",
    "    global tmp, pts\n",
    "    if (event == cv2.EVENT_LBUTTONUP and len(pts) == 0): draw_point(x, y)\n",
    "    if (event == cv2.EVENT_LBUTTONDOWN and len(pts) == 1): draw_point(x, y)\n",
    "    if (event == cv2.EVENT_LBUTTONUP and len(pts) == 2): draw_point(x, y)\n",
    "\n",
    "    if len(pts) == 3:\n",
    "        angle = calc_angle(pts)\n",
    "        print(\"회전각: %3.2f\" % angle)\n",
    "        dst = rotate_pt(image, angle, pts[0])\n",
    "        cv2.imshow(\"image\", dst)\n",
    "        tmp = np.copy(image)\n",
    "        pts = []\n",
    "    \n",
    "image = cv2.imread(\"images_08/test.jpg\", cv2.IMREAD_GRAYSCALE)\n",
    "if image is None: raise Exception(\"영상 파일 읽기 오류\")\n",
    "tmp = np.copy(image)\n",
    "pts = []\n",
    "\n",
    "cv2.imshow(\"image\", image)\n",
    "cv2.setMouseCallback(\"image\", onMouse, 0)\n",
    "cv2.waitKey(0)\n"
   ]
  },
  {
   "cell_type": "code",
   "execution_count": null,
   "metadata": {},
   "outputs": [],
   "source": []
  }
 ],
 "metadata": {
  "interpreter": {
   "hash": "92771ea27045e6d3db80b55a6b5890add6855319478e1ad4c5088ad1c5b80e06"
  },
  "kernelspec": {
   "display_name": "Python 3.9.0 64-bit",
   "language": "python",
   "name": "python3"
  },
  "language_info": {
   "codemirror_mode": {
    "name": "ipython",
    "version": 3
   },
   "file_extension": ".py",
   "mimetype": "text/x-python",
   "name": "python",
   "nbconvert_exporter": "python",
   "pygments_lexer": "ipython3",
   "version": "3.9.0"
  },
  "orig_nbformat": 4
 },
 "nbformat": 4,
 "nbformat_minor": 2
}
