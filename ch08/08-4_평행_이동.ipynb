{
 "cells": [
  {
   "cell_type": "markdown",
   "metadata": {},
   "source": [
    "### 8.4 평행 이동\n",
    "영상의 원점을 기준으로 모든 화소를 동일하게 가로, 세로 방향으로 이동\n",
    "\n"
   ]
  },
  {
   "cell_type": "code",
   "execution_count": 1,
   "metadata": {},
   "outputs": [],
   "source": [
    "# 8.4.1 영상 평행 이동\n",
    "import numpy as np, cv2\n",
    "\n",
    "# 좌표가 인수범위 내에 있는지 확인\n",
    "def contain(p, shape):\n",
    "    return 0 <= p[0] < shape[0] and 0 <= p[1] < shape[1] # 범위 이내이면 True, 아니면 False\n",
    "\n",
    "def translate(img, pt):\n",
    "    dst = np.zeros(image.shape, img.dtype)\n",
    "    for i in range(img.shape[0]):\n",
    "        for j in range(img.shape[1]):\n",
    "            x, y = np.subtract((j, i), pt)\n",
    "            if contain((y, x), img.shape):\n",
    "                dst[i,j] = img[y, x]\n",
    "    return dst\n",
    "\n",
    "image = cv2.imread(\"images_08/test.jpg\", cv2.IMREAD_GRAYSCALE)\n",
    "if image is None: raise Exception(\"영상 파일 읽기 오류\")\n",
    "\n",
    "\n",
    "dst1 = translate(image, (30, 80))\n",
    "dst2 = translate(image, (-70, -50))\n",
    "\n",
    "cv2.imshow(\"image\", image)\n",
    "cv2.imshow(\"dst1 (30, 80)\", dst1)\n",
    "cv2.imshow(\"dst2 (-70, -50)\", dst2)\n",
    "cv2.waitKey(0)"
   ]
  },
  {
   "cell_type": "markdown",
   "metadata": {},
   "source": [
    "### 8.5 회전\n",
    "\n",
    "역방향 회전은\n",
    "\n",
    "x = xcosT + ysinT\n",
    "\n",
    "y = -xsinT + ycosT\n",
    "\n",
    "--------\n",
    "\n",
    "영상 회전은 좌측최상단을 기준으로 돌아가지만 일반적으로 중심값을 기준으로 돌리는 회전을 사용하므로,\n",
    "\n",
    "영상의 가운데를 좌측최상단으로 이동하여 회전 후 다시 원래 자리로 이동함\n"
   ]
  },
  {
   "cell_type": "code",
   "execution_count": 1,
   "metadata": {},
   "outputs": [
    {
     "ename": "ImportError",
     "evalue": "cannot import name 'bilinear_value' from 'Common.interpolation' (d:\\git\\image-processing\\ch08\\Common\\interpolation.py)",
     "output_type": "error",
     "traceback": [
      "\u001b[1;31m---------------------------------------------------------------------------\u001b[0m",
      "\u001b[1;31mImportError\u001b[0m                               Traceback (most recent call last)",
      "\u001b[1;32m~\\AppData\\Local\\Temp/ipykernel_10856/1432521683.py\u001b[0m in \u001b[0;36m<module>\u001b[1;34m\u001b[0m\n\u001b[0;32m      1\u001b[0m \u001b[1;32mimport\u001b[0m \u001b[0mnumpy\u001b[0m \u001b[1;32mas\u001b[0m \u001b[0mnp\u001b[0m\u001b[1;33m\u001b[0m\u001b[1;33m\u001b[0m\u001b[0m\n\u001b[1;32m----> 2\u001b[1;33m \u001b[1;32mfrom\u001b[0m \u001b[0mCommon\u001b[0m\u001b[1;33m.\u001b[0m\u001b[0minterpolation\u001b[0m \u001b[1;32mimport\u001b[0m \u001b[0mbilinear_value\u001b[0m\u001b[1;33m\u001b[0m\u001b[1;33m\u001b[0m\u001b[0m\n\u001b[0m\u001b[0;32m      3\u001b[0m \u001b[1;32mfrom\u001b[0m \u001b[0mCommon\u001b[0m\u001b[1;33m.\u001b[0m\u001b[0mfunctions\u001b[0m \u001b[1;32mimport\u001b[0m \u001b[0mcontain\u001b[0m\u001b[1;33m\u001b[0m\u001b[1;33m\u001b[0m\u001b[0m\n\u001b[0;32m      4\u001b[0m \u001b[1;33m\u001b[0m\u001b[0m\n\u001b[0;32m      5\u001b[0m \u001b[1;32mdef\u001b[0m \u001b[0mrotate\u001b[0m\u001b[1;33m(\u001b[0m\u001b[0mimg\u001b[0m\u001b[1;33m,\u001b[0m \u001b[0mdegree\u001b[0m\u001b[1;33m)\u001b[0m\u001b[1;33m:\u001b[0m\u001b[1;33m\u001b[0m\u001b[1;33m\u001b[0m\u001b[0m\n",
      "\u001b[1;31mImportError\u001b[0m: cannot import name 'bilinear_value' from 'Common.interpolation' (d:\\git\\image-processing\\ch08\\Common\\interpolation.py)"
     ]
    }
   ],
   "source": [
    "import numpy as np\n",
    "from Common.interpolation import bilinear_value\n",
    "from Common.functions import contain\n",
    "\n",
    "def rotate(img, degree):\n",
    "    dst = np.zeros(img.shape[:2], img.dtype)\n",
    "    radian = (degree/180) * np.pi\n",
    "    sin, cos = np.sin(radian), np.cos(radian)\n",
    "\n",
    "    for i in range(img.shape[0]):\n",
    "        for j in range(img.shape[1]):\n",
    "            y = -j*sin + i*cos\n",
    "            x = j*cos + i*sin\n",
    "            if contain((y, x), img.shape):\n",
    "                dst[i, j] = bilinear_value(img, [x, y])\n",
    "    return dst\n",
    "\n",
    "def rotate_pt(img, degree, pt):\n",
    "    dst = np.zeros(img.shape[:2], img.dtype)\n",
    "    radian = (degree/180) * np.pi\n",
    "    sin, cos = np.sin(radian), np.cos(radian)\n",
    "\n",
    "    for i in range(img.shape[0]):\n",
    "        for j in range(img.shape[1]):\n",
    "            jj, ii = np.subtract((j, i), pt) # 중심좌표로 평행 이동\n",
    "\n",
    "            y = -jj*sin + ii*cos\n",
    "            x = jj*cos + ii*sin\n",
    "            if contain((y, x), img.shape):\n",
    "                dst[i, j] = bilinear_value(img, [x, y])\n",
    "    return dst\n",
    "\n",
    "image = cv2.imread(\"images_08/test.jpg\", cv2.IMREAD_GRAYSCALE)\n",
    "if image is None: raise Exception(\"영상 파일 읽기 오류\")\n",
    "\n",
    "center = np.divmod(image.shape[::-1], 2)[0]\n",
    "dst1 = rotate(image, 20)\n",
    "dst2 = rotate_pt(image, 20, center)\n",
    "\n",
    "cv2.imshow(\"image\", image)\n",
    "cv2.imshow(\"dst1 : rotated on (0,0)\", dst1)\n",
    "cv2.imshow(\"dst2 : rotated on center\", dst2)\n",
    "cv2.waitKey(0)"
   ]
  },
  {
   "cell_type": "code",
   "execution_count": null,
   "metadata": {},
   "outputs": [],
   "source": []
  }
 ],
 "metadata": {
  "interpreter": {
   "hash": "2b6024cb2edbfebdd70461c66559173aa04dec10d8798ddfdc8d51cdb4582a6b"
  },
  "kernelspec": {
   "display_name": "Python 3.9.0 64-bit",
   "language": "python",
   "name": "python3"
  },
  "language_info": {
   "codemirror_mode": {
    "name": "ipython",
    "version": 3
   },
   "file_extension": ".py",
   "mimetype": "text/x-python",
   "name": "python",
   "nbconvert_exporter": "python",
   "pygments_lexer": "ipython3",
   "version": "3.9.0"
  },
  "orig_nbformat": 4
 },
 "nbformat": 4,
 "nbformat_minor": 2
}
