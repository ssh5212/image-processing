{
 "cells": [
  {
   "cell_type": "markdown",
   "metadata": {},
   "source": [
    "### 8.6 행렬 연산을 통한 기학 변환 - 어파인 변환\n",
    "\n",
    "어파인 변환 : 2x3 행렬로 변환 행렬을 구성\n",
    "\n",
    "-> 계산이 불가능하므로 3x3 행렬로 만든 후, 마지막 행을 삭제"
   ]
  },
  {
   "cell_type": "code",
   "execution_count": 2,
   "metadata": {},
   "outputs": [
    {
     "data": {
      "text/plain": [
       "-1"
      ]
     },
     "execution_count": 2,
     "metadata": {},
     "output_type": "execute_result"
    }
   ],
   "source": [
    "# 8.6.1 어파인 변환\n",
    "import numpy as np, cv2\n",
    "from Common.functions import contain\n",
    "from Common.interpolation import bilinear_value\n",
    "\n",
    "# 어파인 변환 실행 함수\n",
    "def affine_transform(img, mat):\n",
    "    rows, cols = img.shape[:2]\n",
    "    inv_mat = cv2.invertAffineTransform(mat)\n",
    "\n",
    "    pts = [np.dot(inv_mat, (j, i, 1)) for i in range(rows) for j in range(cols)]\n",
    "    dst = [bilinear_value(img, p) if contain(p, size) else 0 for p in pts]\n",
    "    dst = np.reshape(dst, (rows, cols)).astype('uint8')\n",
    "\n",
    "    return dst\n",
    "\n",
    "image = cv2.imread(\"images_08/test.jpg\", cv2.IMREAD_GRAYSCALE)\n",
    "if image is None: raise Exception(\"영상 파일 읽기 오류\")\n",
    "\n",
    "center = (200, 200)\n",
    "angle, scale = 30, 1\n",
    "size = image.shape[::-1]\n",
    "\n",
    "pt1 = np.array([(30, 70), (20, 240), (300, 110)], np.float32)\n",
    "pt2 = np.array([(120, 20), (10, 180), (280, 260)], np.float32)\n",
    "aff_mat = cv2.getAffineTransform(pt1, pt2)\n",
    "rot_mat = cv2.getRotationMatrix2D(center, angle, scale)\n",
    "\n",
    "dst3 = cv2.warpAffine(image, aff_mat, size, cv2.INTER_LINEAR)\n",
    "dst4 = cv2.warpAffine(image, rot_mat, size, cv2.INTER_LINEAR)\n",
    "\n",
    "image = cv2.cvtColor(image, cv2.COLOR_GRAY2BGR)\n",
    "dst3 = cv2.cvtColor(dst3, cv2.COLOR_GRAY2BGR)\n",
    "\n",
    "for i in range(len(pt1)):\n",
    "    cv2.circle(image, tuple(pt1[i].astype(int)), 3, (0, 0, 255), 2)\n",
    "    cv2.circle(dst3, tuple(pt2[i].astype(int)), 3, (0, 0, 255), 2)\n",
    "\n",
    "cv2.imshow(\"image\", image)\n",
    "cv2.imshow(\"cv affine\", dst3)\n",
    "cv2.imshow(\"cv affine rotate\", dst4)\n",
    "cv2.waitKey(0)\n",
    "\n",
    "\n",
    "    \n",
    "\n"
   ]
  },
  {
   "cell_type": "code",
   "execution_count": 1,
   "metadata": {},
   "outputs": [
    {
     "data": {
      "text/plain": [
       "-1"
      ]
     },
     "execution_count": 1,
     "metadata": {},
     "output_type": "execute_result"
    }
   ],
   "source": [
    "# 8.6.2 어파인 변환 연결\n",
    "import numpy as np, cv2\n",
    "from Common.interpolation import affine_transform\n",
    "\n",
    "def getAffineMat(center, degree, fx=1, fy=1, translate=(0,0)):\n",
    "    scale_mat = np.eye(3, dtype=np.float32)\n",
    "    cen_trans = np.eye(3, dtype=np.float32)\n",
    "    org_trans = np.eye(3, dtype=np.float32)\n",
    "    trans_mat = np.eye(3, dtype=np.float32)\n",
    "    rot_mat = np.eye(3, dtype=np.float32)\n",
    "\n",
    "    radian = degree / 180 * np.pi\n",
    "    rot_mat[0] = [ np.cos(radian), np.sin(radian), 0 ]\n",
    "    rot_mat[1] = [ -np.sin(radian), np.cos(radian), 0 ]\n",
    "\n",
    "    cen_trans[:2, 2] = center\n",
    "    org_trans[:2, 2] = -center[0], -center[1]\n",
    "    trans_mat[:2, 2] = translate\n",
    "    scale_mat[0, 0], scale_mat[1, 1] = fx, fy\n",
    "\n",
    "    ret_mat = cen_trans.dot(rot_mat.dot(trans_mat.dot(scale_mat.dot(org_trans))))\n",
    "    return np.delete(ret_mat, 2, axis=0)\n",
    "\n",
    "image = cv2.imread(\"images_08/test.jpg\", cv2.IMREAD_GRAYSCALE)\n",
    "if image is None: raise Exception(\"영상 파일 읽기 오류\")\n",
    "\n",
    "size = image.shape[::-1]\n",
    "center = np.divmod(size, 2)[0]\n",
    "angle, tr = 45, (200, 0)\n",
    "\n",
    "aff_mat1 = getAffineMat(center, angle)\n",
    "aff_mat2 = getAffineMat((0, 0), 0, 2.0, 1.5)\n",
    "aff_mat3 = getAffineMat(center, angle, 0.7, 0.7)\n",
    "aff_mat4 = getAffineMat(center, angle, 0.7, 0.7, tr)\n",
    "\n",
    "dst1 = cv2.warpAffine(image, aff_mat1, size, cv2.INTER_LINEAR)\n",
    "dst2 = cv2.warpAffine(image, aff_mat2, size, cv2.INTER_LINEAR)\n",
    "dst3 = affine_transform(image, aff_mat3, size)\n",
    "dst4 = affine_transform(image, aff_mat4, size)\n",
    "\n",
    "cv2.imshow(\"image\", image)\n",
    "cv2.imshow(\"rotate\", dst1)\n",
    "cv2.imshow(\"scaling\", dst2)\n",
    "cv2.imshow(\"rotate_scaling\", dst3)\n",
    "cv2.imshow(\"rotate_scaling_tanslate\", dst4)\n",
    "cv2.waitKey(0)\n",
    "\n",
    "\n",
    "    \n",
    "\n"
   ]
  },
  {
   "cell_type": "code",
   "execution_count": null,
   "metadata": {},
   "outputs": [],
   "source": [
    "# 8.6.3 마우스 드래그로 영상 회전하기\n",
    "import numpy as np, cv2\n",
    "\n",
    "def contain_pts(p, p1, p2):\n",
    "    return p1[0] <= p[0] < p2[0] and p1[1] <= p[1] < p2[1]\n",
    "\n",
    "def draw_rect(title, img, pts):\n",
    "    rois = [(p - small, small * 2) for p in pts]\n",
    "    for (x, y), (w, h) in np.int32(rois):\n",
    "        cv2.rectangle(img, (x, y, w, h), (0, 255, 0), 2)\n",
    "    cv2.imshow(title, img)\n",
    "\n",
    "def affine(img):"
   ]
  }
 ],
 "metadata": {
  "interpreter": {
   "hash": "92771ea27045e6d3db80b55a6b5890add6855319478e1ad4c5088ad1c5b80e06"
  },
  "kernelspec": {
   "display_name": "Python 3.9.0 64-bit",
   "language": "python",
   "name": "python3"
  },
  "language_info": {
   "codemirror_mode": {
    "name": "ipython",
    "version": 3
   },
   "file_extension": ".py",
   "mimetype": "text/x-python",
   "name": "python",
   "nbconvert_exporter": "python",
   "pygments_lexer": "ipython3",
   "version": "3.9.0"
  },
  "orig_nbformat": 4
 },
 "nbformat": 4,
 "nbformat_minor": 2
}
