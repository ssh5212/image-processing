{
 "cells": [
  {
   "cell_type": "markdown",
   "metadata": {},
   "source": [
    "### 8.7 원근 투시(투영) 변환"
   ]
  },
  {
   "cell_type": "code",
   "execution_count": 2,
   "metadata": {},
   "outputs": [
    {
     "name": "stdout",
     "output_type": "stream",
     "text": [
      "perspect_mat = \n",
      "[[ 6.25789284e-01  3.98298577e-02 -6.88839366e+00]\n",
      " [-5.02676539e-01  1.06358288e+00  5.13923399e+01]\n",
      " [-1.57086418e-03  5.25700042e-04  1.00000000e+00]]\n",
      "\n",
      "원본 영상 좌표 \t 목적 영상 좌표 \t 동차 좌표 \t 변환 결과 좌표\n",
      "0 : [80. 40.]      [50. 60.]      [80. 40.  1.]      [50. 60.  1.]     \n",
      "1 : [315. 133.]    [340.  60.]    [315. 133.   1.]   [340.  60.   1.]  \n",
      "2 : [ 75. 300.]    [ 50. 320.]    [ 75. 300.   1.]   [ 50. 320.   1.]  \n",
      "3 : [335. 300.]    [340. 320.]    [335. 300.   1.]   [340. 320.   1.]  \n"
     ]
    },
    {
     "data": {
      "text/plain": [
       "-1"
      ]
     },
     "execution_count": 2,
     "metadata": {},
     "output_type": "execute_result"
    }
   ],
   "source": [
    "# 8.7.1 원근 왜곡 보정\n",
    "import numpy as np, cv2\n",
    "\n",
    "image = cv2.imread(\"images_08/test.jpg\", cv2.IMREAD_GRAYSCALE)\n",
    "if image is None: raise Exception(\"영상 파일 읽기 오류\")\n",
    "\n",
    "pts1 = np.float32([(80, 40), (315, 133), (75, 300), (335, 300)]) # 원본 점 4개\n",
    "pts2 = np.float32([(50, 60), (340, 60), (50, 320), (340, 320)]) # 결과 점 4개   \n",
    "\n",
    "perspect_mat = cv2.getPerspectiveTransform(pts1, pts2)\n",
    "dst = cv2.warpPerspective(image, perspect_mat, image.shape[1::-1], cv2.INTER_CUBIC)\n",
    "print('perspect_mat = \\n%s\\n' % perspect_mat)\n",
    "\n",
    "ones = np.ones((4, 1), np.float64)\n",
    "pts3 = np.append(pts1, ones, axis=1)\n",
    "pts4 = cv2.gemm(pts3, perspect_mat.T, 1, None, 1)\n",
    "\n",
    "print(\"원본 영상 좌표 \\t 목적 영상 좌표 \\t 동차 좌표 \\t 변환 결과 좌표\")\n",
    "for i in range(len(pts4)):\n",
    "    pts4[i] /= pts4[i][2]\n",
    "    print(\"%i : %-14s %-14s %-18s %-18s\" % (i, pts1[i], pts2[i], pts3[i], pts4[i]))\n",
    "    cv2.circle(image, tuple(pts2[i].astype(int)), 3, (0, 255, 0), -1)\n",
    "    cv2.circle(dst, tuple(pts2[i].astype(int)), 3, (0, 255, 0), -1)\n",
    "\n",
    "cv2.imshow('image', image)\n",
    "cv2.imshow('dst', dst)\n",
    "cv2.waitKey(0)"
   ]
  },
  {
   "cell_type": "code",
   "execution_count": 1,
   "metadata": {},
   "outputs": [
    {
     "data": {
      "text/plain": [
       "-1"
      ]
     },
     "execution_count": 1,
     "metadata": {},
     "output_type": "execute_result"
    }
   ],
   "source": [
    "import numpy as np, cv2\n",
    "from Common.functions import contain_pts\n",
    "\n",
    "def draw_rect(img):\n",
    "    rois = [(p - small, small * 2) for p in pts1]\n",
    "    for (x, y), (w, h) in np.int32(rois):\n",
    "        roi = img[y:y+h, x:x+w]\n",
    "        val = np.full(roi.shape, 80, np.uint8)\n",
    "        cv2.add(roi, val, roi)\n",
    "        cv2.rectangle(img, (x, y, w, h), (0, 255, 0), 1)\n",
    "    cv2.polylines(img, [pts1.astype(int)], True, (0, 255, 0), 1)\n",
    "    cv2.imshow('select rect', img)\n",
    "\n",
    "def warp(img):\n",
    "    perspect_mat = cv2.getPerspectiveTransform(pts1, pts2)\n",
    "    dst = cv2.warpPerspective(img, perspect_mat, (350, 400), cv2.INTER_CUBIC)\n",
    "    cv2.imshow(\"Perspective Transform\", dst)\n",
    "\n",
    "def onMouse(event, x, y, flags, param):\n",
    "    global check\n",
    "    if event == cv2.EVENT_LBUTTONDOWN:\n",
    "        for i, p in enumerate(pts1):\n",
    "            p1, p2 = p - small, p + small\n",
    "            if contain_pts((x, y), p1, p2): check = i\n",
    "\n",
    "    if event == cv2.EVENT_LBUTTONUP: check = -1\n",
    "\n",
    "    if check >= 0:\n",
    "        pts1[check] = (x, y)\n",
    "        draw_rect(np.copy(image))\n",
    "        warp(np.copy(image))\n",
    "\n",
    "image = cv2.imread(\"images_08/test.jpg\", cv2.IMREAD_GRAYSCALE)\n",
    "if image is None: raise Exception(\"영상 파일 읽기 오류\")\n",
    "\n",
    "small = np.array([12, 12])\n",
    "check = -1\n",
    "pts1 = np.float32([(100, 100), (300, 100), (300, 300), (100, 300)])\n",
    "pts2 = np.float32([(0, 0), (400, 0), (400, 350), (0, 350)])\n",
    "\n",
    "draw_rect(np.copy(image))\n",
    "cv2.setMouseCallback('select rect', onMouse, 0)\n",
    "cv2.waitKey(0)"
   ]
  },
  {
   "cell_type": "code",
   "execution_count": null,
   "metadata": {},
   "outputs": [],
   "source": []
  }
 ],
 "metadata": {
  "interpreter": {
   "hash": "92771ea27045e6d3db80b55a6b5890add6855319478e1ad4c5088ad1c5b80e06"
  },
  "kernelspec": {
   "display_name": "Python 3.9.0 64-bit",
   "language": "python",
   "name": "python3"
  },
  "language_info": {
   "codemirror_mode": {
    "name": "ipython",
    "version": 3
   },
   "file_extension": ".py",
   "mimetype": "text/x-python",
   "name": "python",
   "nbconvert_exporter": "python",
   "pygments_lexer": "ipython3",
   "version": "3.9.0"
  },
  "orig_nbformat": 4
 },
 "nbformat": 4,
 "nbformat_minor": 2
}
