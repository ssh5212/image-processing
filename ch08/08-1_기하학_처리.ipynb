{
 "cells": [
  {
   "cell_type": "markdown",
   "metadata": {},
   "source": [
    "기하학 : 점, 선, 면, 도형 등의 기하학적인 대상을 다루는 학문\n",
    "\n",
    "기하학 처리 : 기하학적인 대상의 공간적 배치를 변경하는 과정"
   ]
  },
  {
   "cell_type": "markdown",
   "metadata": {},
   "source": [
    "### 8.1 사상\n",
    "\n",
    "사상 : 입력 영상의 좌표가 새롭게 배치될 목적 영상의 좌표를 찾아서 화소값을 옮기는 과정\n",
    "- 순방향 사상 : 입력 영상의 좌표를 중심으로 목적 영상의 좌표를 계산 \n",
    "  - 입력 영상과 목적 영상의 크기가 같을 때 사용함 -> 영상의 크기가 달라지면 홀이나 오버랩의 문제가 발생 <br><br>\n",
    "\n",
    "- 역방향 사상 : 목적 영상의 좌표를 중심으로 역변환을 계산하여 원본 영상의 좌표를 찾아서 화소값을 가져옴\n",
    "  - 홀이나 오버랩이 발생되지 않음\n",
    "  - 입력 영상의 한 화소를 목적 영상의 여러 화소에서 사용하면 결과 영상의 품질이 떨어질 수 있음\n",
    "\n",
    "\n",
    "홀 : 목적 영상의 좌표를 만드는 과정에서 사상되지 않은 화소\n",
    "\n",
    "오버랩 : 여러 화소들이 목적 영상의 한 화소로 사상되는 현상"
   ]
  },
  {
   "cell_type": "markdown",
   "metadata": {},
   "source": [
    "### 8.2 크기변경 (확대/축소)"
   ]
  },
  {
   "cell_type": "code",
   "execution_count": 4,
   "metadata": {},
   "outputs": [
    {
     "name": "stdout",
     "output_type": "stream",
     "text": [
      "좌표 행렬 방식 : 수행시간 = 27.03 ms\n",
      "반복문 방식 : 수행시간 = 807.74 ms\n"
     ]
    },
    {
     "data": {
      "text/plain": [
       "-1"
      ]
     },
     "execution_count": 4,
     "metadata": {},
     "output_type": "execute_result"
    }
   ],
   "source": [
    "# 8.2.1 영상 크기 변경\n",
    "import numpy as np, cv2\n",
    "import time\n",
    "\n",
    "# 정방행렬 인덱스로 크기 변경\n",
    "def scaling(img, size):\n",
    "    dst = np.zeros(size[::-1], img.dtype)\n",
    "    ratioY, ratioX = np.divide(size[::-1], img.shape[:2]) # 비율 계산\n",
    "    y = np.arange(0, img.shape[0], 1)\n",
    "    x = np.arange(0, img.shape[1], 1)\n",
    "    y, x = np.meshgrid(y, x)\n",
    "    i, j = np.int32(y * ratioY), np.int32(x * ratioX) # 목적 영상 좌표\n",
    "    dst[i, j] = img[y, x]\n",
    "    return dst\n",
    "\n",
    "# 반복문을 이용하여 크기 변경\n",
    "def scaling2(img, size):\n",
    "    dst = np.zeros(size[::-1], img.dtype)\n",
    "    ratioY, ratioX = np.divide(size[::-1], img.shape[:2]) # 비율 계산\n",
    "    for y in range(img.shape[0]):\n",
    "        for x in range(img.shape[1]):\n",
    "            i, j = int(y * ratioY), int(x * ratioX) # 목적 영상 좌표\n",
    "            dst[i, j] = img[y, x]\n",
    "    return dst\n",
    "\n",
    "def time_check(func, image, size, title):\n",
    "    start_time = time.perf_counter()\n",
    "    ret_img = func(image, size)\n",
    "    elapsed = (time.perf_counter() - start_time) * 1000\n",
    "    print(title, \"수행시간 = %0.2f ms\" % elapsed)\n",
    "    return ret_img\n",
    "\n",
    "\n",
    "image = cv2.imread(\"images_08/test.jpg\", cv2.IMREAD_GRAYSCALE)\n",
    "if image is None: raise Exception(\"영상 파일 읽기 오류\")\n",
    "\n",
    "dst1 = scaling(image, (150, 200))\n",
    "dst2 = scaling2(image, (150, 200))\n",
    "dst3 = time_check(scaling, image, (300, 400), \"좌표 행렬 방식 :\")\n",
    "dst4 = time_check(scaling2, image, (300, 400), \"반복문 방식 :\")\n",
    "\n",
    "cv2.imshow(\"image\", image)\n",
    "cv2.imshow(\"dst1\", dst1)\n",
    "cv2.imshow(\"dst3\", dst3)\n",
    "cv2.waitKey(0)\n",
    "\n"
   ]
  },
  {
   "cell_type": "markdown",
   "metadata": {},
   "source": [
    "### 8.3 보간\n",
    "\n",
    "##### 8.3.1 최근접 이웃 보간법\n",
    "최근접 이웃 보간법 : 목적 영상을 만드는 과정에서 홀이 된 위치는 가장 가깝게 이웃한 입력 영상의 화소값을 가져옴\n",
    "- 쉽고 빠르게 목적 영상의 품질을 높일 수 있음\n",
    "- 경계선이나 모서리 부분에서 계단 현상이 나타날 수 있음"
   ]
  },
  {
   "cell_type": "code",
   "execution_count": null,
   "metadata": {},
   "outputs": [],
   "source": []
  }
 ],
 "metadata": {
  "interpreter": {
   "hash": "2b6024cb2edbfebdd70461c66559173aa04dec10d8798ddfdc8d51cdb4582a6b"
  },
  "kernelspec": {
   "display_name": "Python 3.9.0 64-bit",
   "language": "python",
   "name": "python3"
  },
  "language_info": {
   "codemirror_mode": {
    "name": "ipython",
    "version": 3
   },
   "file_extension": ".py",
   "mimetype": "text/x-python",
   "name": "python",
   "nbconvert_exporter": "python",
   "pygments_lexer": "ipython3",
   "version": "3.9.0"
  },
  "orig_nbformat": 4
 },
 "nbformat": 4,
 "nbformat_minor": 2
}
