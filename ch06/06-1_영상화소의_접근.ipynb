{
 "cells": [
  {
   "cell_type": "markdown",
   "metadata": {},
   "source": [
    "화소 : 영상을 구성하는 가장 기본이 되는 단위\n",
    "\n",
    "### 6.1 영상 화소 접근"
   ]
  },
  {
   "cell_type": "code",
   "execution_count": 2,
   "metadata": {},
   "outputs": [
    {
     "name": "stdout",
     "output_type": "stream",
     "text": [
      "원소 처리 전: \n",
      "[[0 1 2 3 4]\n",
      " [5 6 7 8 9]]\n",
      "\n",
      "원소 처리 후: \n",
      "[[ 0  2  4  6  8]\n",
      " [10 12 14 16 18]]\n",
      "\n",
      "원소 처리 전: \n",
      "[[0 1 2 3 4]\n",
      " [5 6 7 8 9]]\n",
      "\n",
      "원소 처리 후: \n",
      "[[ 0  2  4  6  8]\n",
      " [10 12 14 16 18]]\n",
      "\n"
     ]
    }
   ],
   "source": [
    "# 6.1.1 행렬 원소 접근\n",
    "import numpy as np\n",
    "\n",
    "# 원소 직접 접근\n",
    "def mat_access1(mat):\n",
    "    for i in range(mat.shape[0]):\n",
    "        for j in range(mat.shape[1]):\n",
    "            k = mat[i, j] # 원소 접근 # == mat[i][j]\n",
    "            mat[i, j] = k * 2 # 원소 할당\n",
    "\n",
    "def mat_access2(mat):\n",
    "    for i in range(mat.shape[0]):\n",
    "        for j in range(mat.shape[1]):\n",
    "            k = mat.item(i, j) # 원소 접근\n",
    "            mat.itemset((i, j), k * 2) # 원소 할당\n",
    "\n",
    "mat1 = np.arange(10).reshape(2, 5)\n",
    "mat2 = np.arange(10).reshape(2, 5)\n",
    "\n",
    "print(\"원소 처리 전: \\n%s\\n\" % mat1)\n",
    "mat_access1(mat1)\n",
    "print(\"원소 처리 후: \\n%s\\n\" % mat1)\n",
    "\n",
    "print(\"원소 처리 전: \\n%s\\n\" % mat2)\n",
    "mat_access1(mat2)\n",
    "print(\"원소 처리 후: \\n%s\\n\" % mat2)\n"
   ]
  },
  {
   "cell_type": "code",
   "execution_count": 5,
   "metadata": {},
   "outputs": [
    {
     "name": "stdout",
     "output_type": "stream",
     "text": [
      "(450, 360)\n",
      "[방법1] 직접 접근 방식 수행시간 : 314.085600 ms\n",
      "[방법2] item() 함수 방식 수행시간 : 32.554500 ms\n",
      "[방법3] 룩업 테이블 방식 수행시간 : 0.452000 ms\n",
      "[방법4] opencv 함수 방식 수행시간 : 0.042800 ms\n",
      "[방법5] ndarray 연산 방식 수행시간 : 0.141100 ms\n"
     ]
    }
   ],
   "source": [
    "# 6.1.2 행렬 원소 접근 방법 2\n",
    "import numpy as np, cv2, time\n",
    "\n",
    "# 직접 화소 접근 방법\n",
    "def pixel_access1(image):\n",
    "    image1 = np.zeros(image.shape[:2], image.dtype)\n",
    "    print(image1.shape)\n",
    "    for i in range(image.shape[0]):\n",
    "        for j in range(image.shape[1]):\n",
    "            pixel = image[i, j] # 접근\n",
    "            image1[i, j] = 255 - pixel # 할당\n",
    "\n",
    "    return image1\n",
    "\n",
    "\n",
    "# item 함수 사용 방법\n",
    "def pixel_access2(image):\n",
    "    image2 = np.zeros(image.shape[:2], image.dtype)\n",
    "    for i in range(image.shape[0]):\n",
    "        for j in range(image.shape[1]):\n",
    "            pixel = image.item(i, j) # 접근\n",
    "            image2.itemset((i, j), 255-pixel) # 할당\n",
    "\n",
    "    return image2\n",
    "\n",
    "\n",
    "# 룩업 테이블 이용 방법\n",
    "def pixel_access3(image): \n",
    "    lut = [255 - i for i in range(256)]\n",
    "    lut = np.array(lut, np.uint8)\n",
    "    image3 = lut[image]\n",
    "    return image3\n",
    "\n",
    "\n",
    "# open cv 사용 방법\n",
    "def pixel_access4(image):\n",
    "    image4 = cv2.subtract(255, image)\n",
    "    return image4\n",
    "\n",
    "\n",
    "# ndarray 사용 방법\n",
    "def pixel_access5(image):\n",
    "    image5 = 255 - image\n",
    "    return image5\n",
    "\n",
    "\n",
    "image = cv2.imread(\"images_06/bright.jpg\", cv2.IMREAD_GRAYSCALE)\n",
    "if image is None: raise Exception(\"영상 파일 읽기 오류\")\n",
    "\n",
    "\n",
    "# 수행시간 체크 함수\n",
    "def time_check(func, msg):\n",
    "    start_time = time.perf_counter()\n",
    "    ret_img = func(image)\n",
    "    elapsed = (time.perf_counter() - start_time) * 1000\n",
    "    print(msg, \"수행시간 : %02f ms\" % elapsed)\n",
    "    return ret_img\n",
    "\n",
    "\n",
    "image1 = time_check(pixel_access1, \"[방법1] 직접 접근 방식\")\n",
    "image2 = time_check(pixel_access2, \"[방법2] item() 함수 방식\")\n",
    "image3 = time_check(pixel_access3, \"[방법3] 룩업 테이블 방식\")\n",
    "image4 = time_check(pixel_access4, \"[방법4] opencv 함수 방식\")\n",
    "image5 = time_check(pixel_access5, \"[방법5] ndarray 연산 방식\")\n",
    "\n"
   ]
  },
  {
   "cell_type": "markdown",
   "metadata": {},
   "source": [
    "### 6.2 화소 밝기 변환\n",
    "\n",
    "영상 처리에서 단일 채널영상을 gray-scale(명암도) 영상이라고 부른다.\n",
    "\n",
    "not 흑백 영상\n",
    "\n",
    "0에 가까우면 검정색, 255에 가까우면 흰색"
   ]
  },
  {
   "cell_type": "code",
   "execution_count": 6,
   "metadata": {},
   "outputs": [
    {
     "data": {
      "text/plain": [
       "-1"
      ]
     },
     "execution_count": 6,
     "metadata": {},
     "output_type": "execute_result"
    }
   ],
   "source": [
    "# 6.2.1 명암도 영상 생성\n",
    "import numpy as np, cv2\n",
    "\n",
    "image1 = np.zeros((50, 512), np.uint8)\n",
    "image2 = np.zeros((50, 512), np.uint8)\n",
    "rows, cols = image1.shape[:2]\n",
    "\n",
    "for i in range(rows):\n",
    "    for j in range(cols):\n",
    "        image1.itemset((i, j), j // 2) # 화소값 점진적 증가\n",
    "        image2.itemset((i, j), j // 20 * 10) # 계단 현상 증가\n",
    "\n",
    "cv2.imshow(\"image1\", image1)\n",
    "cv2.imshow(\"image2\", image2)\n",
    "cv2.waitKey(0)\n"
   ]
  },
  {
   "cell_type": "code",
   "execution_count": 8,
   "metadata": {},
   "outputs": [
    {
     "name": "stdout",
     "output_type": "stream",
     "text": [
      "[roi_img] =\n",
      "  56   51   59   66   84  104  154  206  220  208  203  207  205  204  204   75   57   53   53   72   71  100  152  195  214  212  201  209  207  205   88   76   65   53   51   60   73   96  143  200  219  200  206  204  202   91   92   80   63   53   59   59   61   89  144  195  222  205  200  205   89   94   90   82   63   54   51   56   65   92  149  203  223  209  196   89   91   90   89   84   64   54   55   51   56   94  140  208  223  203   91   86   84   85   97   86   72   59   50   53   66   81  148  211  216   92   86   85   88   92   95   88   70   55   53   59   64   89  155  211   88   85   86   90   87   87   89   86   72   56   50   53   59   88  175   87   85   86   88   87   84   86   90   86   70   53   44   51   56  111 \n"
     ]
    },
    {
     "data": {
      "text/plain": [
       "-1"
      ]
     },
     "execution_count": 8,
     "metadata": {},
     "output_type": "execute_result"
    }
   ],
   "source": [
    "# 6.2.2 영상의 화소값 확인\n",
    "import cv2\n",
    "\n",
    "image = cv2.imread(\"images_06/pixel.jpg\", cv2.IMREAD_GRAYSCALE)\n",
    "if image is None: raise Exception(\"영상 파일 읽기 오류\")\n",
    "\n",
    "(x, y), (w,h) = (180, 37), (15, 10) # (시작 위치), (너비, 높이)\n",
    "roi_img = image[y:y+h, x:x+w] # 행렬 접근, (y, x) 순서\n",
    "\n",
    "print(\"[roi_img] =\")\n",
    "for row in roi_img: \n",
    "    for p in row: # 한 원소씩 출력\n",
    "        print(\"%4d\" %p, end=\" \")\n",
    "print()\n",
    "\n",
    "cv2.rectangle(image, (x, y, w, h), 255, 1)\n",
    "cv2.imshow(\"image\", image)\n",
    "cv2.waitKey(0)\n",
    "\n",
    "\n"
   ]
  },
  {
   "cell_type": "code",
   "execution_count": 1,
   "metadata": {},
   "outputs": [
    {
     "data": {
      "text/plain": [
       "-1"
      ]
     },
     "execution_count": 1,
     "metadata": {},
     "output_type": "execute_result"
    }
   ],
   "source": [
    "# 6.2.3 영상 밝기의 가감 연산\n",
    "import cv2\n",
    "\n",
    "image = cv2.imread(\"images_06/bright.jpg\", cv2.IMREAD_GRAYSCALE)\n",
    "if image is None: raise Exception(\"영상 파일 읽기 오류\")\n",
    "\n",
    "dst1 = cv2.add(image, 100) # 영상을 밝게 (더했을 때 255보다 큰 값은 255)\n",
    "dst2 = cv2.subtract(image, 100) # 영상을 어둡게 (뺐을 때 0보다 작은 값은 0)\n",
    "\n",
    "dst3 = image + 100 # 영상을 밝게 (범위를 넘어가면 modulo 방식 수행) # 의도치 않은 밝기로 표현될 수 있음\n",
    "dst4 = image - 100 # 영상을 어둡게 (범위를 넘어가면 modulo 방식 수행)\n",
    "\n",
    "cv2.imshow(\"original image\", image)\n",
    "cv2.imshow(\"dst1 (cv-light)\", dst1)\n",
    "cv2.imshow(\"dst2 (cv-dart)\", dst2)\n",
    "cv2.imshow(\"dst3 (numpy-light)\", dst3) \n",
    "cv2.imshow(\"dst4 (numpy-dark)\", dst4)\n",
    "cv2.waitKey(0)"
   ]
  },
  {
   "cell_type": "code",
   "execution_count": 3,
   "metadata": {},
   "outputs": [
    {
     "data": {
      "text/plain": [
       "-1"
      ]
     },
     "execution_count": 3,
     "metadata": {},
     "output_type": "execute_result"
    }
   ],
   "source": [
    "# 6.2.4 행렬 합 및 행렬 곱 연산으로 영상 합성\n",
    "import numpy as np, cv2\n",
    "\n",
    "image1 = cv2.imread(\"images_06/add1.jpg\", cv2.IMREAD_GRAYSCALE)\n",
    "image2 = cv2.imread(\"images_06/add2.jpg\", cv2.IMREAD_GRAYSCALE)\n",
    "if image1 is None or image2 is None: raise Exception(\"영상 파일 읽기 오류\")\n",
    "\n",
    "alpha, beta = 0.6, 0.7 # 영상의 곱셈 비율\n",
    "add_img1 = cv2.add(image1, image2) # 단순 더하기\n",
    "add_img2 = cv2.add(image1 * alpha, image2 * beta) # 비율에 따른 더하기\n",
    "add_img2 = np.clip(add_img2, 0, 255).astype('uint8') # 2번 영상에서 범위를 넘는 요소 최대(소)치로 변경 == 클램핑\n",
    "add_img3 = cv2.addWeighted(image1, alpha, image2, beta, 0) # 두 영상의 비율에 따른 더하기\n",
    "\n",
    "titles = ['image1', 'image2', 'add_img1', 'add_img2', 'add_img3']\n",
    "for t in titles: cv2.imshow(t, eval(t))\n",
    "cv2.waitKey(0)\n"
   ]
  },
  {
   "cell_type": "code",
   "execution_count": 5,
   "metadata": {},
   "outputs": [
    {
     "data": {
      "text/plain": [
       "-1"
      ]
     },
     "execution_count": 5,
     "metadata": {},
     "output_type": "execute_result"
    }
   ],
   "source": [
    "# 6.2.5 명암 대비\n",
    "import numpy as np, cv2\n",
    "\n",
    "image = cv2.imread(\"images_06/contrast.jpg\", cv2.IMREAD_GRAYSCALE)\n",
    "if image is None: raise Exception(\"영상 파일 읽기 오류\")\n",
    "\n",
    "noimage = np.zeros(image.shape[:2], image.dtype) # 더미 영상 # 덧셈에 대한 항등원 행렬\n",
    "avg = cv2.mean(image)[0]/2.0 # 영상 화소 평균의 절반\n",
    "\n",
    "dst1 = cv2.scaleAdd(image, 0.5, noimage) # 명암 대비 감소\n",
    "dst2 = cv2.scaleAdd(image, 2.0, noimage) # 명암 대비 증가\n",
    "dst3 = cv2.addWeighted(image, 0.5, noimage, 0, avg) # 명암 대비 감소\n",
    "dst4 = cv2.addWeighted(image, 2.0, noimage, 0, avg) # 명암 대비 증가\n",
    "\n",
    "cv2.imshow('image', image)\n",
    "cv2.imshow('dst1', dst1)\n",
    "cv2.imshow('dst2', dst2)\n",
    "cv2.imshow('dst3', dst3)\n",
    "cv2.imshow('dst4', dst4)\n",
    "cv2.waitKey(0)"
   ]
  },
  {
   "cell_type": "markdown",
   "metadata": {},
   "source": [
    "-> 명암대비를 높이기 위해서는 1.0 이상의 값을 곱하고, 낮추기 위해서는 1.0 이하의 값을 곱함"
   ]
  },
  {
   "cell_type": "code",
   "execution_count": null,
   "metadata": {},
   "outputs": [],
   "source": []
  }
 ],
 "metadata": {
  "interpreter": {
   "hash": "2b6024cb2edbfebdd70461c66559173aa04dec10d8798ddfdc8d51cdb4582a6b"
  },
  "kernelspec": {
   "display_name": "Python 3.9.0 64-bit",
   "language": "python",
   "name": "python3"
  },
  "language_info": {
   "codemirror_mode": {
    "name": "ipython",
    "version": 3
   },
   "file_extension": ".py",
   "mimetype": "text/x-python",
   "name": "python",
   "nbconvert_exporter": "python",
   "pygments_lexer": "ipython3",
   "version": "3.9.0"
  },
  "orig_nbformat": 4
 },
 "nbformat": 4,
 "nbformat_minor": 2
}
