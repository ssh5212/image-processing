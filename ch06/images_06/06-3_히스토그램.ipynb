{
 "cells": [
  {
   "cell_type": "markdown",
   "metadata": {},
   "source": [
    "### 6.3 히스토그램\n",
    "\n",
    "히스토그램 : 어떠한 데이터가 많은지를 나타내는 도수 분포표를 그래프로 표현한 것"
   ]
  },
  {
   "cell_type": "code",
   "execution_count": 1,
   "metadata": {},
   "outputs": [],
   "source": [
    "# 6.3.1 영상 히스토그램 계산\n",
    "import numpy as np, cv2\n",
    "\n",
    "def clac_histo(image, histSize, ranges=[0, 256]):\n",
    "    hist = np.zeros((histSize, 1), np.float32) # 결과가 저장되는 행렬\n",
    "    gap = ranges[1] / histSize # 범위 최대값(1)을 간격수로 나누어 구함\n",
    "\n",
    "    for row in image:\n",
    "        for pix in row:\n",
    "            idx = int(pix/gap)\n",
    "            hist[idx] += 1\n",
    "    return hist\n",
    "\n",
    "image = cv2.imread(\"images_06/pixel_test.jpg\", cv2.IMREAD_GRAYSCALE)\n",
    "if image is None: raise Exception(\"영상 파일 읽기 오류\")\n"
   ]
  },
  {
   "cell_type": "code",
   "execution_count": null,
   "metadata": {},
   "outputs": [],
   "source": []
  }
 ],
 "metadata": {
  "interpreter": {
   "hash": "2b6024cb2edbfebdd70461c66559173aa04dec10d8798ddfdc8d51cdb4582a6b"
  },
  "kernelspec": {
   "display_name": "Python 3.9.0 64-bit",
   "language": "python",
   "name": "python3"
  },
  "language_info": {
   "codemirror_mode": {
    "name": "ipython",
    "version": 3
   },
   "file_extension": ".py",
   "mimetype": "text/x-python",
   "name": "python",
   "nbconvert_exporter": "python",
   "pygments_lexer": "ipython3",
   "version": "3.9.0"
  },
  "orig_nbformat": 4
 },
 "nbformat": 4,
 "nbformat_minor": 2
}
