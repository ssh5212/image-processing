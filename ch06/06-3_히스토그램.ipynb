{
 "cells": [
  {
   "cell_type": "markdown",
   "metadata": {},
   "source": [
    "### 6.3 히스토그램\n",
    "\n",
    "히스토그램 : 어떠한 데이터가 많은지를 나타내는 도수 분포표를 그래프로 표현한 것\n",
    "\n",
    "- 계급 : 일부를 묶어서 하나로 보겠다 (0-4까지를 묶어서 하나의 세트로 만듦)\n",
    "- 계급 개수 : histsize, 전체를 몇 구간으로 나눌지에 대한 개수\n",
    "- 계급 간격 : 나눠진 구간에 해당하는 요소의 개수\n",
    "- 계급 범위 : "
   ]
  },
  {
   "cell_type": "code",
   "execution_count": 7,
   "metadata": {},
   "outputs": [
    {
     "name": "stdout",
     "output_type": "stream",
     "text": [
      "사용자 정의 함수: \n",
      " [  97.  247.  563. 1001. 1401. 1575. 1724. 1951. 2853. 3939. 3250. 2549.\n",
      " 2467. 2507. 2402. 2418. 2727. 3203. 3410. 3161. 2985. 2590. 3384. 4312.\n",
      " 4764. 3489. 2802. 2238. 1127.  628.  199.   37.]\n",
      "open-cv 함수: \n",
      " [  97.  247.  563. 1001. 1401. 1575. 1724. 1951. 2853. 3939. 3250. 2549.\n",
      " 2467. 2507. 2402. 2418. 2727. 3203. 3410. 3161. 2985. 2590. 3384. 4312.\n",
      " 4764. 3489. 2802. 2238. 1127.  628.  199.   37.]\n",
      "numpy 함수: \n",
      " [  97  247  563 1001 1401 1575 1724 1951 2853 3939 3250 2549 2467 2507\n",
      " 2402 2418 2727 3203 3410 3161 2985 2590 3384 4312 4764 3489 2802 2238\n",
      " 1127  628  199   37]\n"
     ]
    }
   ],
   "source": [
    "# 6.3.1 영상 히스토그램 계산\n",
    "import numpy as np, cv2\n",
    "\n",
    "def clac_histo(image, histSize, ranges=[0, 256]):\n",
    "    hist = np.zeros((histSize, 1), np.float32) # 결과가 저장되는 행렬\n",
    "    gap = ranges[1] / histSize # histsize : 전체를 몇 구간으로 나눌지 개수를 가지고 있음\n",
    "\n",
    "    for row in image:\n",
    "        for pix in row:\n",
    "            idx = int(pix/gap)\n",
    "            hist[idx] += 1\n",
    "    return hist\n",
    "\n",
    "image = cv2.imread(\"images_06/pixel.jpg\", cv2.IMREAD_GRAYSCALE)\n",
    "if image is None: raise Exception(\"영상 파일 읽기 오류\")\n",
    "\n",
    "histSize, ranges = [32], [0, 256] # 계급 개수, 값 범위 지정\n",
    "gap = ranges[1]/histSize[0] # 계급 간격 계산\n",
    "ranges_gap = np.arange(0, ranges[1]+1, gap) # 계급 범위\n",
    "\n",
    "hist1 = clac_histo(image, histSize[0], ranges) # 사용자 정의 함수\n",
    "hist2 = cv2.calcHist([image], [0], None, histSize, ranges) # cv 함수\n",
    "hist3, bins = np.histogram(image, ranges_gap) # numpy 함수\n",
    "\n",
    "print(\"사용자 정의 함수: \\n\", hist1.flatten())\n",
    "print(\"open-cv 함수: \\n\", hist2.flatten())\n",
    "print(\"numpy 함수: \\n\", hist3)"
   ]
  },
  {
   "cell_type": "code",
   "execution_count": 1,
   "metadata": {},
   "outputs": [
    {
     "name": "stdout",
     "output_type": "stream",
     "text": [
      "open-cv 함수: \n",
      " [  97.  247.  563. 1001. 1401. 1575. 1724. 1951. 2853. 3939. 3250. 2549.\n",
      " 2467. 2507. 2402. 2418. 2727. 3203. 3410. 3161. 2985. 2590. 3384. 4312.\n",
      " 4764. 3489. 2802. 2238. 1127.  628.  199.   37.]\n"
     ]
    }
   ],
   "source": [
    "# 6.3.1 영상 히스토그램 계산 (CV만)\n",
    "import numpy as np, cv2\n",
    "\n",
    "image = cv2.imread(\"images_06/pixel.jpg\", cv2.IMREAD_GRAYSCALE)\n",
    "if image is None: raise Exception(\"영상 파일 읽기 오류\")\n",
    "\n",
    "histSize, ranges = [32], [0, 256] # 계급 개수, 값 범위 지정\n",
    "gap = ranges[1]/histSize[0] # 계급 간격 계산\n",
    "ranges_gap = np.arange(0, ranges[1]+1, gap) # 계급 범위\n",
    "\n",
    "hist2 = cv2.calcHist([image], [0], None, histSize, ranges) # cv 함수\n",
    "\n",
    "print(\"open-cv 함수: \\n\", hist2.flatten())"
   ]
  },
  {
   "cell_type": "markdown",
   "metadata": {},
   "source": [
    "정규화 : 0-5000 범위를 0-200의 범위에 넣겠다 -> 모든 값을 25로 나누면 알아서 들어감\n"
   ]
  },
  {
   "cell_type": "code",
   "execution_count": 8,
   "metadata": {},
   "outputs": [
    {
     "data": {
      "text/plain": [
       "-1"
      ]
     },
     "execution_count": 8,
     "metadata": {},
     "output_type": "execute_result"
    }
   ],
   "source": [
    "# 6.3.3 히스토그램 그래프 그리기\n",
    "import numpy as np, cv2\n",
    "\n",
    "def draw_histo(hist, shape=(200, 256)): # shape : 히스토그램 이미지 사이즈\n",
    "    hist_img = np.full(shape, 255, np.uint8) # 히스토그램을 그릴 화면\n",
    "    cv2.normalize(hist, hist, 0, shape[0], cv2.NORM_MINMAX) # 정규화, 최솟값이 0이고 최대값이 그래프 영상의 높이를 가지도록 조절\n",
    "    # 예제에서는 -> 4764(최대)가 200이 되도록 하겠다.\n",
    "    gap = hist_img.shape[1]/hist.shape[0] # 한 계급 너비\n",
    "\n",
    "    # 빈도 값에 대한 막대 사각형을 그림\n",
    "    for i, h in enumerate(hist):\n",
    "        x = int(round(i * gap)) # 시작 좌표\n",
    "        w = int(round(gap))\n",
    "        cv2.rectangle(hist_img, (x, 0, w, int(h)), 0, cv2.FILLED)\n",
    "    \n",
    "    return cv2.flip(hist_img, 0) # 영상 상하 뒤집기 # 원래는 위에서부터 아래로 내려가는 히스토그램이 생성됨\n",
    "\n",
    "image = cv2.imread(\"images_06/pixel.jpg\", cv2.IMREAD_GRAYSCALE)\n",
    "if image is None: raise Exception(\"영상 파일 읽기 오류\")\n",
    "\n",
    "hist = cv2.calcHist([image], [0], None, [32], [0, 256]) # cv 함수\n",
    "hist_img = draw_histo(hist)\n",
    "\n",
    "cv2.imshow(\"image\", image)\n",
    "cv2.imshow(\"hist_img\", hist_img)\n",
    "cv2.waitKey(0)"
   ]
  },
  {
   "cell_type": "markdown",
   "metadata": {},
   "source": [
    "hsv \n",
    "- h : hue\n",
    "- h : 채도\n",
    "- v : 밝기"
   ]
  },
  {
   "cell_type": "code",
   "execution_count": 1,
   "metadata": {},
   "outputs": [
    {
     "ename": "error",
     "evalue": "OpenCV(4.5.5) d:\\a\\opencv-python\\opencv-python\\opencv\\modules\\imgproc\\src\\color.simd_helpers.hpp:92: error: (-2:Unspecified error) in function '__cdecl cv::impl::`anonymous-namespace'::CvtHelper<struct cv::impl::`anonymous namespace'::Set<3,4,-1>,struct cv::impl::A0xa8565e7e::Set<3,-1,-1>,struct cv::impl::A0xa8565e7e::Set<0,5,-1>,2>::CvtHelper(const class cv::_InputArray &,const class cv::_OutputArray &,int)'\n> Invalid number of channels in input image:\n>     'VScn::contains(scn)'\n> where\n>     'scn' is 1\n",
     "output_type": "error",
     "traceback": [
      "\u001b[1;31m---------------------------------------------------------------------------\u001b[0m",
      "\u001b[1;31merror\u001b[0m                                     Traceback (most recent call last)",
      "\u001b[1;32md:\\github\\image-processing\\ch06\\06-3_히스토그램.ipynb Cell 4'\u001b[0m in \u001b[0;36m<module>\u001b[1;34m\u001b[0m\n\u001b[0;32m     <a href='vscode-notebook-cell:/d%3A/github/image-processing/ch06/06-3_%ED%9E%88%EC%8A%A4%ED%86%A0%EA%B7%B8%EB%9E%A8.ipynb#ch0000003?line=28'>29</a>\u001b[0m image \u001b[39m=\u001b[39m cv2\u001b[39m.\u001b[39mimread(\u001b[39m\"\u001b[39m\u001b[39mimages_06/hue_hist.jpg\u001b[39m\u001b[39m\"\u001b[39m, cv2\u001b[39m.\u001b[39mIMREAD_GRAYSCALE)\n\u001b[0;32m     <a href='vscode-notebook-cell:/d%3A/github/image-processing/ch06/06-3_%ED%9E%88%EC%8A%A4%ED%86%A0%EA%B7%B8%EB%9E%A8.ipynb#ch0000003?line=29'>30</a>\u001b[0m \u001b[39mif\u001b[39;00m image \u001b[39mis\u001b[39;00m \u001b[39mNone\u001b[39;00m: \u001b[39mraise\u001b[39;00m \u001b[39mException\u001b[39;00m(\u001b[39m\"\u001b[39m\u001b[39m영상 파일 읽기 오류\u001b[39m\u001b[39m\"\u001b[39m)\n\u001b[1;32m---> <a href='vscode-notebook-cell:/d%3A/github/image-processing/ch06/06-3_%ED%9E%88%EC%8A%A4%ED%86%A0%EA%B7%B8%EB%9E%A8.ipynb#ch0000003?line=31'>32</a>\u001b[0m hsv_img \u001b[39m=\u001b[39m cv2\u001b[39m.\u001b[39;49mcvtColor(image, cv2\u001b[39m.\u001b[39;49mCOLOR_BGR2HSV) \u001b[39m# bgr -> hsv\u001b[39;00m\n\u001b[0;32m     <a href='vscode-notebook-cell:/d%3A/github/image-processing/ch06/06-3_%ED%9E%88%EC%8A%A4%ED%86%A0%EA%B7%B8%EB%9E%A8.ipynb#ch0000003?line=32'>33</a>\u001b[0m hue_hist \u001b[39m=\u001b[39m cv2\u001b[39m.\u001b[39mcalcHist([hsv_img], [\u001b[39m0\u001b[39m], \u001b[39mNone\u001b[39;00m, [\u001b[39m18\u001b[39m], [\u001b[39m0\u001b[39m, \u001b[39m180\u001b[39m]) \u001b[39m# hue 채널 히스토그램 계산\u001b[39;00m\n\u001b[0;32m     <a href='vscode-notebook-cell:/d%3A/github/image-processing/ch06/06-3_%ED%9E%88%EC%8A%A4%ED%86%A0%EA%B7%B8%EB%9E%A8.ipynb#ch0000003?line=33'>34</a>\u001b[0m hue_hist_img \u001b[39m=\u001b[39m draw_hist_hue(hue_hist, (\u001b[39m200\u001b[39m, \u001b[39m360\u001b[39m, \u001b[39m3\u001b[39m)) \u001b[39m# 빈도 그래프 그리기\u001b[39;00m\n",
      "\u001b[1;31merror\u001b[0m: OpenCV(4.5.5) d:\\a\\opencv-python\\opencv-python\\opencv\\modules\\imgproc\\src\\color.simd_helpers.hpp:92: error: (-2:Unspecified error) in function '__cdecl cv::impl::`anonymous-namespace'::CvtHelper<struct cv::impl::`anonymous namespace'::Set<3,4,-1>,struct cv::impl::A0xa8565e7e::Set<3,-1,-1>,struct cv::impl::A0xa8565e7e::Set<0,5,-1>,2>::CvtHelper(const class cv::_InputArray &,const class cv::_OutputArray &,int)'\n> Invalid number of channels in input image:\n>     'VScn::contains(scn)'\n> where\n>     'scn' is 1\n"
     ]
    }
   ],
   "source": [
    "# 6.3.4 색상 히스토그램\n",
    "import numpy as np, cv2\n",
    "\n",
    "# hue 채널 팔레트 생성 (색상 히스토그램을 그리기 위해 색상을 지정하는 함수)\n",
    "def make_palette(rows):\n",
    "    hue = [round(i * 180 / rows) for i in range(rows)]  # hue 값 리스트 계산\n",
    "    hsv = [[[h, 255, 255]] for h in hue] # (hue, 255, 255) 화소 값 계산 # gbr 아님 ㅇㅇ\n",
    "    hsv = np.array(hsv, np.uint8) # 정수형 행렬 반환\n",
    "\n",
    "    return cv2.cvtColor(hsv, cv2.COLOR_HSV2BGR) # hsv -> bgr로 변경\n",
    "\n",
    "\n",
    "# 히스토그램 행렬로 그래프를 그려서 반환하는 함수\n",
    "def draw_hist_hue(hist, shape=(200, 256, 3)): \n",
    "    hsv_palette = make_palette(hist.shape[0]) # 색상 팔레트 생성\n",
    "    hist_img = np.full(shape, 255, np.uint8) \n",
    "    cv2.normalize(hist, hist, 0, shape[0], cv2.NORM_MINMAX) # 정규화\n",
    "\n",
    "    gap = hist_img.shape[1] / hist.shape[0] # 한 계급의 크기\n",
    "    # 빈도 값에 대한 막대 사각형을 그림\n",
    "    for i, h in enumerate(hist):\n",
    "        x = int(round(i * gap)) # 시작 좌표\n",
    "        w = int(round(gap))\n",
    "        color = tuple(map(int, hsv_palette[i][0]))\n",
    "        cv2.rectangle(hist_img, (x, 0, w, int(h)), color, cv2.FILLED)\n",
    "\n",
    "    return cv2.filp(hist_img, 0)\n",
    "\n",
    "image = cv2.imread(\"images_06/hue_hist.jpg\", cv2.IMREAD_COLOR)\n",
    "if image is None: raise Exception(\"영상 파일 읽기 오류\")\n",
    "\n",
    "hsv_img = cv2.cvtColor(image, cv2.COLOR_BGR2HSV) # bgr -> hsv\n",
    "hue_hist = cv2.calcHist([hsv_img], [0], None, [18], [0, 180]) # hue 채널 히스토그램 계산\n",
    "hue_hist_img = draw_hist_hue(hue_hist, (200, 360, 3)) # 빈도 그래프 그리기\n",
    "\n",
    "cv2.imshow(\"image\", image)\n",
    "cv2.imshow(\"hist_img\", hist_img)\n",
    "cv2.waitKey(0)\n",
    "\n"
   ]
  },
  {
   "cell_type": "markdown",
   "metadata": {},
   "source": [
    "##### 6.3.4 히스토그램 스트래칭\n",
    "\n",
    "특정 밝기 부분만 있는 영상(밝은/어두운 부분이 많은 영상)을 개선하는 알고리즘\n",
    "\n",
    "가장 낮은 화소값을 0으로 당기고, 가장 높은 화소값을 255로 당김, 나머지는 비율에 맞게 조절\n",
    "\n",
    "- 새화소값 = (화소값 - low) / (high - low) * 255\n",
    "\n",
    "- -> 화소값 - low  -> 왼쪽으로 붙이는 작업"
   ]
  },
  {
   "cell_type": "code",
   "execution_count": 3,
   "metadata": {},
   "outputs": [
    {
     "name": "stdout",
     "output_type": "stream",
     "text": [
      "high_vlue =  180.0\n",
      "high_vlue =  52.0\n"
     ]
    },
    {
     "data": {
      "text/plain": [
       "-1"
      ]
     },
     "execution_count": 3,
     "metadata": {},
     "output_type": "execute_result"
    }
   ],
   "source": [
    "# 6.3.4 히스토그램 스트래칭\n",
    "import numpy as np, cv2\n",
    "\n",
    "def draw_histo(hist, shape=(200, 256)):\n",
    "    hist_img = np.full(shape, 255, np.uint8) # 히스토그램을 그릴 화면\n",
    "    cv2.normalize(hist, hist, 0, shape[0], cv2.NORM_MINMAX) # 정규화, 최솟값이 0이고 최대값이 그래프 영상의 높이를 가지도록 조절\n",
    "    gap = hist_img.shape[1]/hist.shape[0] # 한 계급 너비\n",
    "\n",
    "    # 빈도 값에 대한 막대 사각형을 그림\n",
    "    for i, h in enumerate(hist):\n",
    "        x = int(round(i * gap)) # 시작 좌표\n",
    "        w = int(round(gap))\n",
    "        cv2.rectangle(hist_img, (x, 0, w, int(h)), 0, cv2.FILLED)\n",
    "    \n",
    "    return cv2.flip(hist_img, 0) # 영상 상하 뒤집기 # 원래는 위에서부터 아래로 내려가는 히스토그램이 생성됨\n",
    "\n",
    "\n",
    "# 빈도 값이 있는 최저 위치와 최고 위치를 찾아 반환하는 함수\n",
    "def search_value_idx(hist, bias=0):\n",
    "    for i in range(hist.shape[0]):\n",
    "        idx = np.abs(bias - i) # 검색 위치\n",
    "        if hist[idx] > 0: return idx\n",
    "    return -1 # 모든 빈도 값이 0인 경우\n",
    "\n",
    "image = cv2.imread(\"images_06/hist_stretch.jpg\", cv2.IMREAD_GRAYSCALE)\n",
    "if image is None: raise Exception(\"영상 파일 읽기 오류\")\n",
    "\n",
    "bsize, ranges = [64], [0, 256] # 64 구간으로 분할(계급 개수), 화소 범위\n",
    "hist = cv2.calcHist([image], [0], None, bsize, ranges) # 빈도수를 구함\n",
    "\n",
    "bin_width = ranges[1]/bsize[0] # 한 계급의 너비\n",
    "low = search_value_idx(hist, 0) * bin_width # 최저 화소값\n",
    "high = search_value_idx(hist, bsize[0] - 1) * bin_width # 최고 화소값\n",
    "\n",
    "idx = np.arange(0, 256) # 변경 시 사용할 룩업 테이블\n",
    "idx = (idx - low)/(high - low) * 255 # 히스토그램 스트레칭 수식으로 룩업 테이블 값 변경\n",
    "\n",
    "idx[0:int(low)] = 0 # 히스토그램에서 제외되는 부분 값 지정\n",
    "idx[int(high+1):] = 255\n",
    "\n",
    "dst = cv2.LUT(image, idx.astype('uint8'))\n",
    "\n",
    "hist_dst = cv2.calcHist([dst], [0], None, bsize, ranges) # 결과 영상 히스토그램 재계산\n",
    "hist_img = draw_histo(hist, (200, 360)) # 원본 영상 히스토그램\n",
    "hist_dst_img = draw_histo(hist_dst, (200, 360)) # 결과 영상 히스토그램\n",
    "\n",
    "print(\"high_vlue = \", high)\n",
    "print(\"high_vlue = \", low)\n",
    "cv2.imshow(\"image\", image)\n",
    "cv2.imshow(\"hist_img\", hist_img)\n",
    "cv2.imshow(\"dst\", dst)\n",
    "cv2.imshow(\"hist_dst_img\", hist_dst_img)\n",
    "cv2.waitKey(0)\n",
    "\n",
    "    "
   ]
  },
  {
   "cell_type": "markdown",
   "metadata": {},
   "source": [
    "##### 6.3.5 히스토그램 평활화\n",
    "특정 부분에서만 한쪽으로 치우친 명암 분포를 가진 영상을 균등한 분포를 갖게하는 알고리즘\n",
    "\n",
    "-----------\n",
    "\n",
    "평활화 과정\n",
    "1. 영상의 히스토그램 계산\n",
    "2. 히스토그램 빈도값에서 누적 빈도수를 계산\n",
    "3. 누적 빈도수를 정규화(정규화 누적합)\n",
    "4. 결과 화소값 = 정규화 누적합 * 최대 화소 값"
   ]
  },
  {
   "cell_type": "code",
   "execution_count": 4,
   "metadata": {},
   "outputs": [
    {
     "data": {
      "text/plain": [
       "-1"
      ]
     },
     "execution_count": 4,
     "metadata": {},
     "output_type": "execute_result"
    }
   ],
   "source": [
    "# 6.3.5 히스토그램 평활화\n",
    "import numpy as np, cv2\n",
    "\n",
    "def draw_histo(hist, shape=(200, 256)):\n",
    "    hist_img = np.full(shape, 255, np.uint8) # 히스토그램을 그릴 화면\n",
    "    cv2.normalize(hist, hist, 0, shape[0], cv2.NORM_MINMAX) # 정규화, 최솟값이 0이고 최대값이 그래프 영상의 높이를 가지도록 조절\n",
    "    gap = hist_img.shape[1]/hist.shape[0] # 한 계급 너비\n",
    "\n",
    "    # 빈도 값에 대한 막대 사각형을 그림\n",
    "    for i, h in enumerate(hist):\n",
    "        x = int(round(i * gap)) # 시작 좌표\n",
    "        w = int(round(gap))\n",
    "        cv2.rectangle(hist_img, (x, 0, w, int(h)), 0, cv2.FILLED)\n",
    "    \n",
    "    return cv2.flip(hist_img, 0) # 영상 상하 뒤집기 # 원래는 위에서부터 아래로 내려가는 히스토그램이 생성됨\n",
    "\n",
    "\n",
    "image = cv2.imread(\"images_06/equalize.jpg\", cv2.IMREAD_GRAYSCALE)\n",
    "if image is None: raise Exception(\"영상 파일 읽기 오류\")\n",
    "\n",
    "bins, ranges = [256], [0, 256] \n",
    "hist = cv2.calcHist([image], [0], None, bins, ranges)\n",
    "\n",
    "# 히스토그램 누적합 계산\n",
    "accum_hist = np.zeros(hist.shape[:2], np.float32)\n",
    "accum_hist[0] = hist[0]\n",
    "for i in range(1, hist.shape[0]):\n",
    "    accum_hist[i] = accum_hist[i - 1] + hist[i]\n",
    "\n",
    "accum_hist = (accum_hist / sum(hist)) * 255 # 누적합의 정규화\n",
    "dst1 = [[accum_hist[val] for val in row] for row in image] # 화소 값 할당\n",
    "dst1 = np.array(dst1, np.uint8) \n",
    "\n",
    "dst2 = cv2.equalizeHist(image)\n",
    "hist1 = cv2.calcHist([dst1], [0], None, bins, ranges)\n",
    "hist2 = cv2.calcHist([dst2], [0], None, bins, ranges)\n",
    "hist_img = draw_histo(hist)\n",
    "hist_img1 = draw_histo(hist1)\n",
    "hist_img2 = draw_histo(hist2)\n",
    "\n",
    "cv2.imshow(\"image\", image)\n",
    "cv2.imshow(\"hist_img\", hist_img)\n",
    "cv2.imshow(\"dst1\", dst1)\n",
    "cv2.imshow(\"dst2\", dst2)\n",
    "cv2.imshow(\"hist_img\", hist_img)\n",
    "cv2.imshow(\"hist_img2\", hist_img2)\n",
    "cv2.imshow(\"hist_img1\", hist_img1)\n",
    "cv2.waitKey(0)\n",
    "\n",
    "\n",
    "\n"
   ]
  }
 ],
 "metadata": {
  "interpreter": {
   "hash": "2b6024cb2edbfebdd70461c66559173aa04dec10d8798ddfdc8d51cdb4582a6b"
  },
  "kernelspec": {
   "display_name": "Python 3.9.0 64-bit",
   "language": "python",
   "name": "python3"
  },
  "language_info": {
   "codemirror_mode": {
    "name": "ipython",
    "version": 3
   },
   "file_extension": ".py",
   "mimetype": "text/x-python",
   "name": "python",
   "nbconvert_exporter": "python",
   "pygments_lexer": "ipython3",
   "version": "3.9.0"
  },
  "orig_nbformat": 4
 },
 "nbformat": 4,
 "nbformat_minor": 2
}
