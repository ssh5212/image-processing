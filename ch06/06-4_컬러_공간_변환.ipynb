{
 "cells": [
  {
   "cell_type": "markdown",
   "metadata": {},
   "source": [
    "### 6.4 컬러 공간 변환"
   ]
  },
  {
   "cell_type": "code",
   "execution_count": 4,
   "metadata": {},
   "outputs": [
    {
     "data": {
      "text/plain": [
       "-1"
      ]
     },
     "execution_count": 4,
     "metadata": {},
     "output_type": "execute_result"
    }
   ],
   "source": [
    "# 6.4.1 bgr -> cmy\n",
    "import numpy as np, cv2\n",
    "\n",
    "BGR_img = cv2.imread(\"images_06/color_model.jpg\", cv2.IMREAD_COLOR)\n",
    "if BGR_img is None: raise Exception(\"영상 파일 읽기 오류\")\n",
    "\n",
    "white = np.array([255, 255, 255], np.uint8)\n",
    "CMY_img = white - BGR_img # 각 채널을 반전하여 CMY_img 행렬을 만듦\n",
    "yellow, magenta, cyan = cv2.split(CMY_img)\n",
    "\n",
    "titles = ['BGR_img', 'CMY_img', 'yellow', 'magenta', 'cyan']\n",
    "for t in titles:\n",
    "    cv2.imshow(t, eval(t))\n",
    "cv2.waitKey(0)"
   ]
  },
  {
   "cell_type": "markdown",
   "metadata": {},
   "source": [
    "Cyan = 255 - R\n",
    "\n",
    "Magenta = 255 - G\n",
    "\n",
    "Yellow = 255 - B\n",
    "\n",
    "black = min(C, M, Y)\n",
    "\n",
    "-> 하드웨어(프린터) 등에서 사용하므로 영상 처리에서는 크게 다룰 일이 없음"
   ]
  },
  {
   "cell_type": "code",
   "execution_count": 5,
   "metadata": {},
   "outputs": [
    {
     "data": {
      "text/plain": [
       "-1"
      ]
     },
     "execution_count": 5,
     "metadata": {},
     "output_type": "execute_result"
    }
   ],
   "source": [
    "# 6.4.2 bgr -> cmyk\n",
    "import numpy as np, cv2\n",
    "\n",
    "BGR_img = cv2.imread(\"images_06/color_model.jpg\", cv2.IMREAD_COLOR)\n",
    "if BGR_img is None: raise Exception(\"영상 파일 읽기 오류\")\n",
    "\n",
    "white = np.array([255, 255, 255], np.uint8)\n",
    "CMY_img = white - BGR_img # 각 채널을 반전하여 CMY_img 행렬을 만듦\n",
    "CMY = cv2.split(CMY_img)\n",
    "\n",
    "black = cv2.min(CMY[0], cv2.min(CMY[1], CMY[2]))\n",
    "yellow, magenta, cyan = CMY - black \n",
    "\n",
    "titles = ['black', 'yellow', 'magenta', 'cyan']\n",
    "for t in titles:\n",
    "    cv2.imshow(t, eval(t))\n",
    "cv2.waitKey(0)"
   ]
  },
  {
   "cell_type": "code",
   "execution_count": 6,
   "metadata": {},
   "outputs": [
    {
     "data": {
      "text/plain": [
       "-1"
      ]
     },
     "execution_count": 6,
     "metadata": {},
     "output_type": "execute_result"
    }
   ],
   "source": [
    "# 6.4.4 bgr -> hsv\n",
    "import numpy as np, cv2, math\n",
    "\n",
    "# bgr 한 화소를 hsi로 바꾸는 함수\n",
    "def calc_hsi(bgr):\n",
    "    B, G, R = float(bgr[0]), float(bgr[1]), float(bgr[2])\n",
    "    bgr_sum = (R + G + B)\n",
    "\n",
    "    tmp1 = ((R - G) + (R - B)) * 0.5\n",
    "    tmp2 = math.sqrt((R - G) * (R - G) + (R - B) * (R - B))\n",
    "    angle = math.acos(tmp1 / tmp2) * (180 / np.pi) if tmp2 else 0\n",
    "\n",
    "    H = angle if B <= G else 360 - angle\n",
    "    S = 1.0 - 3 * min([R, G, B]) / bgr_sum if bgr_sum else 0\n",
    "    I = bgr_sum / 3\n",
    "    return (H/2, S*255, I)\n",
    "\n",
    "def bgr2hsi(image):\n",
    "    hsv = [[calc_hsi(pixel) for pixel in row] for row in image]\n",
    "    return cv2.convertScaleAbs(np.array(hsv))\n",
    "\n",
    "BGR_img = cv2.imread(\"images_06/color_space.jpg\", cv2.IMREAD_COLOR)\n",
    "if BGR_img is None: raise Exception(\"영상 파일 읽기 오류\")\n",
    "\n",
    "HSI_img = bgr2hsi(BGR_img)\n",
    "# 중요함!!\n",
    "HSV_img = cv2.cvtColor(BGR_img, cv2.COLOR_BGR2HSV)\n",
    "Hue, Saturation, Intensity = cv2.split(HSI_img)\n",
    "Hue2, Saturation2, Intensity2 = cv2.split(HSV_img)\n",
    "\n",
    "titles = ['BGR_img', 'Hue', 'Saturation', 'Intensity']\n",
    "[cv2.imshow(t, eval(t)) for t in titles]\n",
    "[cv2.imshow('OpenCV_'+t, eval(t+'2')) for t in titles[1:]]\n",
    "cv2.waitKey(0)"
   ]
  },
  {
   "cell_type": "code",
   "execution_count": 9,
   "metadata": {},
   "outputs": [
    {
     "data": {
      "text/plain": [
       "-1"
      ]
     },
     "execution_count": 9,
     "metadata": {},
     "output_type": "execute_result"
    }
   ],
   "source": [
    "# 6.4.4 다양한 컬러 공간 변환\n",
    "import cv2\n",
    "\n",
    "BGR_img = cv2.imread(\"images_06/color_space.jpg\", cv2.IMREAD_COLOR)\n",
    "if BGR_img is None: raise Exception(\"영상 파일 읽기 오류\")\n",
    "\n",
    "Gray_img = cv2.cvtColor(BGR_img, cv2.COLOR_BGR2GRAY)\n",
    "YCC_img = cv2.cvtColor(BGR_img, cv2.COLOR_BGR2YCrCb)\n",
    "YUV_img = cv2.cvtColor(BGR_img, cv2.COLOR_BGR2YUV)\n",
    "LAB_img = cv2.cvtColor(BGR_img, cv2.COLOR_BGR2LAB)\n",
    "\n",
    "YCC_ch = cv2.split(YCC_img)\n",
    "YUV_ch = cv2.split(YUV_img)\n",
    "LAB_ch = cv2.split(LAB_img)\n",
    "\n",
    "cv2.imshow(\"BGR_img\", BGR_img)\n",
    "cv2.imshow(\"Gray_img\", Gray_img)\n",
    "for i in range(len(YCC_ch)):\n",
    "    cv2.imshow(\"YCC_ch[%s]\"%i, YCC_ch[i])\n",
    "    cv2.imshow(\"YUV_ch[%s]\"%i, YUV_ch[i])\n",
    "    cv2.imshow(\"LAB_ch[%s]\"%i, LAB_ch[i])\n",
    "cv2.waitKey(0)\n"
   ]
  },
  {
   "cell_type": "code",
   "execution_count": 2,
   "metadata": {},
   "outputs": [
    {
     "ename": "error",
     "evalue": "OpenCV(4.5.5) D:\\a\\opencv-python\\opencv-python\\opencv\\modules\\highgui\\src\\window.cpp:862: error: (-215:Assertion failed) trackbar in function 'cv::getTrackbarPos'\n",
     "output_type": "error",
     "traceback": [
      "\u001b[1;31m---------------------------------------------------------------------------\u001b[0m",
      "\u001b[1;31merror\u001b[0m                                     Traceback (most recent call last)",
      "\u001b[1;32md:\\github\\image-processing\\ch06\\06-4_컬러_공간_변환.ipynb Cell 6'\u001b[0m in \u001b[0;36monThreshold\u001b[1;34m(value)\u001b[0m\n\u001b[0;32m      <a href='vscode-notebook-cell:/d%3A/github/image-processing/ch06/06-4_%EC%BB%AC%EB%9F%AC_%EA%B3%B5%EA%B0%84_%EB%B3%80%ED%99%98.ipynb#ch0000005?line=3'>4</a>\u001b[0m \u001b[39mdef\u001b[39;00m \u001b[39monThreshold\u001b[39m(value):\n\u001b[0;32m      <a href='vscode-notebook-cell:/d%3A/github/image-processing/ch06/06-4_%EC%BB%AC%EB%9F%AC_%EA%B3%B5%EA%B0%84_%EB%B3%80%ED%99%98.ipynb#ch0000005?line=4'>5</a>\u001b[0m     th[\u001b[39m0\u001b[39m] \u001b[39m=\u001b[39m cv2\u001b[39m.\u001b[39mgetTrackbarPos(\u001b[39m\"\u001b[39m\u001b[39mHue_th1\u001b[39m\u001b[39m\"\u001b[39m, \u001b[39m\"\u001b[39m\u001b[39mresult\u001b[39m\u001b[39m\"\u001b[39m)\n\u001b[1;32m----> <a href='vscode-notebook-cell:/d%3A/github/image-processing/ch06/06-4_%EC%BB%AC%EB%9F%AC_%EA%B3%B5%EA%B0%84_%EB%B3%80%ED%99%98.ipynb#ch0000005?line=5'>6</a>\u001b[0m     th[\u001b[39m1\u001b[39m] \u001b[39m=\u001b[39m cv2\u001b[39m.\u001b[39;49mgetTrackbarPos(\u001b[39m\"\u001b[39;49m\u001b[39mHue_th2\u001b[39;49m\u001b[39m\"\u001b[39;49m, \u001b[39m\"\u001b[39;49m\u001b[39mresult\u001b[39;49m\u001b[39m\"\u001b[39;49m)\n\u001b[0;32m      <a href='vscode-notebook-cell:/d%3A/github/image-processing/ch06/06-4_%EC%BB%AC%EB%9F%AC_%EA%B3%B5%EA%B0%84_%EB%B3%80%ED%99%98.ipynb#ch0000005?line=7'>8</a>\u001b[0m     _, result \u001b[39m=\u001b[39m cv2\u001b[39m.\u001b[39mthreshold(hue, th[\u001b[39m1\u001b[39m], \u001b[39m255\u001b[39m, cv2\u001b[39m.\u001b[39mTHRESH_TOZERO_INV)\n\u001b[0;32m      <a href='vscode-notebook-cell:/d%3A/github/image-processing/ch06/06-4_%EC%BB%AC%EB%9F%AC_%EA%B3%B5%EA%B0%84_%EB%B3%80%ED%99%98.ipynb#ch0000005?line=8'>9</a>\u001b[0m     cv2\u001b[39m.\u001b[39mthreshold(result, th[\u001b[39m0\u001b[39m], \u001b[39m255\u001b[39m, cv2\u001b[39m.\u001b[39mTHRESH_BINARY, result)\n",
      "\u001b[1;31merror\u001b[0m: OpenCV(4.5.5) D:\\a\\opencv-python\\opencv-python\\opencv\\modules\\highgui\\src\\window.cpp:862: error: (-215:Assertion failed) trackbar in function 'cv::getTrackbarPos'\n"
     ]
    },
    {
     "data": {
      "text/plain": [
       "-1"
      ]
     },
     "execution_count": 2,
     "metadata": {},
     "output_type": "execute_result"
    }
   ],
   "source": [
    "# 6.4.5 Hue 채널로 객체 검출\n",
    "import numpy as np, cv2\n",
    "\n",
    "def onThreshold(value):\n",
    "    th[0] = cv2.getTrackbarPos(\"Hue_th1\", \"result\")\n",
    "    th[1] = cv2.getTrackbarPos(\"Hue_th2\", \"result\")\n",
    "\n",
    "    _, result = cv2.threshold(hue, th[1], 255, cv2.THRESH_TOZERO_INV)\n",
    "    cv2.threshold(result, th[0], 255, cv2.THRESH_BINARY, result)\n",
    "    cv2.imshow(\"result\", result)\n",
    "\n",
    "BGR_img = cv2.imread(\"images_06/color_space.jpg\", cv2.IMREAD_COLOR)\n",
    "if BGR_img is None: raise Exception(\"영상 파일 읽기 오류\")\n",
    "\n",
    "HSV_img = cv2.cvtColor(BGR_img, cv2.COLOR_BGR2HSV)\n",
    "hue = np.copy(HSV_img[:, :, 0])\n",
    "\n",
    "th = [50, 100]\n",
    "cv2.namedWindow(\"result\")\n",
    "cv2.createTrackbar(\"Hue_th1\", \"result\", th[0], 255, onThreshold)\n",
    "cv2.createTrackbar(\"Hue_th2\", \"result\", th[1], 255, onThreshold)\n",
    "onThreshold(th)\n",
    "cv2.imshow(\"BGR_img\", BGR_img)\n",
    "cv2.waitKey(0)\n"
   ]
  },
  {
   "cell_type": "code",
   "execution_count": null,
   "metadata": {},
   "outputs": [],
   "source": []
  }
 ],
 "metadata": {
  "interpreter": {
   "hash": "2b6024cb2edbfebdd70461c66559173aa04dec10d8798ddfdc8d51cdb4582a6b"
  },
  "kernelspec": {
   "display_name": "Python 3.9.0 64-bit",
   "language": "python",
   "name": "python3"
  },
  "language_info": {
   "codemirror_mode": {
    "name": "ipython",
    "version": 3
   },
   "file_extension": ".py",
   "mimetype": "text/x-python",
   "name": "python",
   "nbconvert_exporter": "python",
   "pygments_lexer": "ipython3",
   "version": "3.9.0"
  },
  "orig_nbformat": 4
 },
 "nbformat": 4,
 "nbformat_minor": 2
}
